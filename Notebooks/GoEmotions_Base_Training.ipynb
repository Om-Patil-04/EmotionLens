{
 "cells": [
  {
   "cell_type": "code",
   "execution_count": 1,
   "id": "ARgy5pCjCOvG",
   "metadata": {
    "colab": {
     "base_uri": "https://localhost:8080/"
    },
    "execution": {
     "iopub.execute_input": "2025-09-05T15:01:46.319867Z",
     "iopub.status.busy": "2025-09-05T15:01:46.319674Z",
     "iopub.status.idle": "2025-09-05T15:01:46.831422Z",
     "shell.execute_reply": "2025-09-05T15:01:46.830872Z",
     "shell.execute_reply.started": "2025-09-05T15:01:46.319845Z"
    },
    "id": "ARgy5pCjCOvG",
    "outputId": "efd14c88-b3dc-4d15-b44d-f292b5c880ed"
   },
   "outputs": [
    {
     "name": "stdout",
     "output_type": "stream",
     "text": [
      "Fri Sep  5 15:01:46 2025       \n",
      "+-----------------------------------------------------------------------------------------+\n",
      "| NVIDIA-SMI 550.163.01             Driver Version: 550.163.01     CUDA Version: 12.6     |\n",
      "|-----------------------------------------+------------------------+----------------------+\n",
      "| GPU  Name                 Persistence-M | Bus-Id          Disp.A | Volatile Uncorr. ECC |\n",
      "| Fan  Temp   Perf          Pwr:Usage/Cap |           Memory-Usage | GPU-Util  Compute M. |\n",
      "|                                         |                        |               MIG M. |\n",
      "|=========================================+========================+======================|\n",
      "|   0  NVIDIA A10G                    On  |   00000000:00:1E.0 Off |                    0 |\n",
      "|  0%   29C    P8             11W /  300W |       1MiB /  23028MiB |      0%      Default |\n",
      "|                                         |                        |                  N/A |\n",
      "+-----------------------------------------+------------------------+----------------------+\n",
      "                                                                                         \n",
      "+-----------------------------------------------------------------------------------------+\n",
      "| Processes:                                                                              |\n",
      "|  GPU   GI   CI        PID   Type   Process name                              GPU Memory |\n",
      "|        ID   ID                                                               Usage      |\n",
      "|=========================================================================================|\n",
      "|  No running processes found                                                             |\n",
      "+-----------------------------------------------------------------------------------------+\n"
     ]
    }
   ],
   "source": [
    "!nvidia-smi"
   ]
  },
  {
   "cell_type": "code",
   "execution_count": 2,
   "id": "HnOciyZuCPXF",
   "metadata": {
    "execution": {
     "iopub.execute_input": "2025-09-05T15:01:46.832229Z",
     "iopub.status.busy": "2025-09-05T15:01:46.832002Z",
     "iopub.status.idle": "2025-09-05T15:01:48.618877Z",
     "shell.execute_reply": "2025-09-05T15:01:48.618325Z",
     "shell.execute_reply.started": "2025-09-05T15:01:46.832202Z"
    },
    "id": "HnOciyZuCPXF"
   },
   "outputs": [],
   "source": [
    "import pandas as pd\n",
    "import numpy as np\n",
    "from datasets import load_dataset\n",
    "import matplotlib.pyplot as plt\n",
    "import seaborn as sns\n",
    "from collections import Counter\n",
    "import warnings\n",
    "warnings.filterwarnings('ignore')\n",
    "\n",
    "plt.style.use('default')\n",
    "plt.rcParams['figure.figsize'] = (12, 8)"
   ]
  },
  {
   "cell_type": "code",
   "execution_count": 3,
   "id": "7HmWBBSECTed",
   "metadata": {
    "colab": {
     "base_uri": "https://localhost:8080/",
     "height": 241,
     "referenced_widgets": [
      "f8a9cfe8430b4f48ab27664d087d4024",
      "6018fb08bb094fa18755005e18ec4215",
      "577133bd5ccf43349a161dfacb1dfe2d",
      "5d38ecb25ad647208a48f48017a3e9f4",
      "a47395c8fa944d7693de964f8120de35",
      "877f04dced0341bbb977b50d2a8f7677",
      "4e5bfd0af9ea49a4b0273ebf6909a9b5",
      "a0847d42d6044ffeab75b71cbee53636",
      "d70fb41514164ec388c8dce4fb32fe55",
      "8fc811c7b4fd41a49f9ddaeb90a7467f",
      "2e64ff2923244383825274523f4c5288",
      "079d4fc481be46afbdfe9acba25ed6a4",
      "9c2f1b416cfa4cc2b17b38c949940bd5",
      "fd47f26279e843a4894e10bce95ca74f",
      "fb3141ec8e3f4b51a8f0af79fd606b7c",
      "5671b4d1c5be4e41b64a2fed97a0a1e3",
      "56045cda25e24bc9a8045a0835b1375b",
      "463a147779fb43eeaaf9e004085ebf2e",
      "b6ccb806967a45bf80042e4a340b7599",
      "298b5b60b2ab4a7699bcd0aff96415fc",
      "9bd8c176930e4bb9a48bbcab57278302",
      "60f4f0a8b5ab40099603c880fe5607b9",
      "3a739923f5c246c1a86db5c370faab6f",
      "6f0cf6f528ad4e3f8ebbb0198451e8b5",
      "44425604fe3f48838a292f5d2f7cdf9c",
      "a24a4af6ba9b423abea104905ad8e697",
      "9b52037aa58442369ae9cd59942e012a",
      "0186fb130a0f4942bd3b492fb9aa24ee",
      "553dc83fa5f54931a068863bf373cbca",
      "b6311f01d4754c948a417888f9de807b",
      "b364710129cc45b6b4629d8bcc41c607",
      "7c14aa2a955f427e8ad19d0105e70e63",
      "19e9d9f1ea684931bdbb55b65a670f4a",
      "fbb0baec007c427299fb6ba2f8d3fe0f",
      "dba35750bfa648b291a6ac3dd8e44f06",
      "36f1d26ebe3148f4a3d8dd5ed57a9353",
      "91cca8657e8645c79624d1c24d0443e0",
      "23c90c690b16446f8fe0729b157bb833",
      "07df5a706af14456b754252d4f39aa91",
      "36655e3634614cd39aaac492af488706",
      "76d7a1c33ea84b4dae0b79a06f8b9d07",
      "3c04c4815ba94b47bcb21bc75b630729",
      "458914cccb674b20829686cb679e2e9b",
      "fb84330c9d1b4b9085308e4b3d152412",
      "ec38af683498416d80f7c2d01c75cd9c",
      "3e91291f4bb24e9caabff50993f7e0e2",
      "7212cbfc0be64c09a77a81e2619775c9",
      "295f0f238255442b89d679f535055aff",
      "26b10aa473ea4c56a1aca0a5d8307c1a",
      "7301b6dc411c4d4aa7f8e4c80bdb75ac",
      "50b719af95314f84888862238f7b524b",
      "d169eda20abb48efa29e34edb6018fdd",
      "a428b4ae3b454af7bf20854c7d380184",
      "6f90e3bb55be499c9e658213446fb4c7",
      "c62ab6b371c642f0aa3fea7d97c5ec3b",
      "5ff483db651542f3982d73974fe424d8",
      "7c3fcf17c28443b9b428f2261aaa849b",
      "5039540f48b148da8cc3b6e2fe80520f",
      "6571e15d3b874cd289926257edd60678",
      "cd5c9fad9f1a46a885a82c2008579b9f",
      "c8904f78b7c149a98c95a8588cc1fac0",
      "6749460fede845d88a5b6040771a0773",
      "a4ce8357f625402caf1e733df5b9f5f9",
      "f1f42a0e8d9a48a8b69005b613f93277",
      "65561fcc99514c93b33e114c5cbf5e75",
      "48693ff062c34aed863d60ccd000be48",
      "603061f956a6433f99547c1391ae7cb1",
      "c2877126706d4cbc894a9226a8831f5c",
      "13274717204c4574a456008775b51f60",
      "cdce129f84d8403496f9754f0e229d9a",
      "88cac655415942248d162df8b5666574",
      "26e9736d19df458995dbe4214dbb41c5",
      "c2adea1c08b441b8a15e1ac38584eab5",
      "508b6bf6e337494b86b28eb378de9e22",
      "3cf4ab6fd92941778f931c49610d29c6",
      "c132b3c52e2748abaae955190e10e80e",
      "eb6583e97ac84d9aa065e1d5402d53bc"
     ]
    },
    "execution": {
     "iopub.execute_input": "2025-09-05T15:01:48.620125Z",
     "iopub.status.busy": "2025-09-05T15:01:48.619854Z",
     "iopub.status.idle": "2025-09-05T15:01:54.422460Z",
     "shell.execute_reply": "2025-09-05T15:01:54.421883Z",
     "shell.execute_reply.started": "2025-09-05T15:01:48.620110Z"
    },
    "id": "7HmWBBSECTed",
    "outputId": "170757a0-2128-4db2-8278-6053b1ebdb2a"
   },
   "outputs": [
    {
     "data": {
      "application/vnd.jupyter.widget-view+json": {
       "model_id": "fdc3eab1657e449982a06a11b751ee60",
       "version_major": 2,
       "version_minor": 0
      },
      "text/plain": [
       "Downloading builder script:   0%|          | 0.00/2.02k [00:00<?, ?B/s]"
      ]
     },
     "metadata": {},
     "output_type": "display_data"
    },
    {
     "data": {
      "application/vnd.jupyter.widget-view+json": {
       "model_id": "7f2e8a9ac52d40a18b13449a81369d17",
       "version_major": 2,
       "version_minor": 0
      },
      "text/plain": [
       "Downloading metadata:   0%|          | 0.00/1.67k [00:00<?, ?B/s]"
      ]
     },
     "metadata": {},
     "output_type": "display_data"
    },
    {
     "name": "stderr",
     "output_type": "stream",
     "text": [
      "No config specified, defaulting to: go_emotions/simplified\n"
     ]
    },
    {
     "name": "stdout",
     "output_type": "stream",
     "text": [
      "Downloading and preparing dataset go_emotions/simplified (download: 4.19 MiB, generated: 5.03 MiB, post-processed: Unknown size, total: 9.22 MiB) to /home/sagemaker-user/.cache/huggingface/datasets/go_emotions/simplified/0.0.0/2637cfdd4e64d30249c3ed2150fa2b9d279766bfcd6a809b9f085c61a90d776d...\n"
     ]
    },
    {
     "data": {
      "application/vnd.jupyter.widget-view+json": {
       "model_id": "6401664b7ecd4d048fb4d69e62230e5a",
       "version_major": 2,
       "version_minor": 0
      },
      "text/plain": [
       "Downloading data:   0%|          | 0.00/1.61M [00:00<?, ?B/s]"
      ]
     },
     "metadata": {},
     "output_type": "display_data"
    },
    {
     "data": {
      "application/vnd.jupyter.widget-view+json": {
       "model_id": "c49c2e04efb04a9a810af9e483f233bd",
       "version_major": 2,
       "version_minor": 0
      },
      "text/plain": [
       "Downloading data:   0%|          | 0.00/203k [00:00<?, ?B/s]"
      ]
     },
     "metadata": {},
     "output_type": "display_data"
    },
    {
     "data": {
      "application/vnd.jupyter.widget-view+json": {
       "model_id": "b9eb7cec383b4a71a95490754862642a",
       "version_major": 2,
       "version_minor": 0
      },
      "text/plain": [
       "Downloading data:   0%|          | 0.00/201k [00:00<?, ?B/s]"
      ]
     },
     "metadata": {},
     "output_type": "display_data"
    },
    {
     "data": {
      "application/vnd.jupyter.widget-view+json": {
       "model_id": "059cb32e5c8441f8b63bd1714e8b0238",
       "version_major": 2,
       "version_minor": 0
      },
      "text/plain": [
       "Generating train split:   0%|          | 0/43410 [00:00<?, ? examples/s]"
      ]
     },
     "metadata": {},
     "output_type": "display_data"
    },
    {
     "data": {
      "application/vnd.jupyter.widget-view+json": {
       "model_id": "ce442dd9767147c083b651e55b036fa8",
       "version_major": 2,
       "version_minor": 0
      },
      "text/plain": [
       "Generating validation split:   0%|          | 0/5426 [00:00<?, ? examples/s]"
      ]
     },
     "metadata": {},
     "output_type": "display_data"
    },
    {
     "data": {
      "application/vnd.jupyter.widget-view+json": {
       "model_id": "c4b4b8b5b8bf42ea9860a4870518b8d1",
       "version_major": 2,
       "version_minor": 0
      },
      "text/plain": [
       "Generating test split:   0%|          | 0/5427 [00:00<?, ? examples/s]"
      ]
     },
     "metadata": {},
     "output_type": "display_data"
    },
    {
     "name": "stdout",
     "output_type": "stream",
     "text": [
      "Dataset go_emotions downloaded and prepared to /home/sagemaker-user/.cache/huggingface/datasets/go_emotions/simplified/0.0.0/2637cfdd4e64d30249c3ed2150fa2b9d279766bfcd6a809b9f085c61a90d776d. Subsequent calls will reuse this data.\n"
     ]
    },
    {
     "data": {
      "application/vnd.jupyter.widget-view+json": {
       "model_id": "faa8622b44684d0684eec4c2b2d98e65",
       "version_major": 2,
       "version_minor": 0
      },
      "text/plain": [
       "  0%|          | 0/3 [00:00<?, ?it/s]"
      ]
     },
     "metadata": {},
     "output_type": "display_data"
    }
   ],
   "source": [
    "go_emotions = load_dataset(\"go_emotions\")\n"
   ]
  },
  {
   "cell_type": "code",
   "execution_count": 4,
   "id": "SrtyBEhoCT-N",
   "metadata": {
    "execution": {
     "iopub.execute_input": "2025-09-05T15:01:54.423117Z",
     "iopub.status.busy": "2025-09-05T15:01:54.422950Z",
     "iopub.status.idle": "2025-09-05T15:01:54.426040Z",
     "shell.execute_reply": "2025-09-05T15:01:54.425480Z",
     "shell.execute_reply.started": "2025-09-05T15:01:54.423102Z"
    },
    "id": "SrtyBEhoCT-N"
   },
   "outputs": [],
   "source": [
    "original_emotions = [\n",
    "    'admiration', 'amusement', 'anger', 'annoyance', 'approval', 'caring',\n",
    "    'confusion', 'curiosity', 'desire', 'disappointment', 'disapproval',\n",
    "    'disgust', 'embarrassment', 'excitement', 'fear', 'gratitude', 'grief',\n",
    "    'joy', 'love', 'nervousness', 'optimism', 'pride', 'realization',\n",
    "    'relief', 'remorse', 'sadness', 'surprise', 'neutral'\n",
    "]\n"
   ]
  },
  {
   "cell_type": "code",
   "execution_count": 5,
   "id": "88Z0bZwBCYAt",
   "metadata": {
    "execution": {
     "iopub.execute_input": "2025-09-05T15:01:54.426650Z",
     "iopub.status.busy": "2025-09-05T15:01:54.426498Z",
     "iopub.status.idle": "2025-09-05T15:01:54.432078Z",
     "shell.execute_reply": "2025-09-05T15:01:54.431570Z",
     "shell.execute_reply.started": "2025-09-05T15:01:54.426636Z"
    },
    "id": "88Z0bZwBCYAt"
   },
   "outputs": [],
   "source": [
    "emotion_categories = {\n",
    "    'joy_group': ['joy', 'amusement', 'excitement'],\n",
    "    'love_group': ['love', 'caring', 'gratitude'],\n",
    "    'pride_group': ['pride', 'admiration', 'approval'],\n",
    "    'optimism_group': ['optimism', 'desire', 'relief'],\n",
    "    'anger_group': ['anger', 'annoyance', 'disgust'],\n",
    "    'sadness_group': ['sadness', 'disappointment', 'grief'],\n",
    "    'fear_group': ['fear', 'nervousness', 'embarrassment'],\n",
    "    'surprise_group': ['surprise', 'realization', 'confusion'],\n",
    "    'neutral_group': ['neutral'],\n",
    "    'remorse_group': ['remorse', 'disapproval'],\n",
    "    'curiosity_group': ['curiosity']\n",
    "}"
   ]
  },
  {
   "cell_type": "code",
   "execution_count": 6,
   "id": "xp2dUKNICY2l",
   "metadata": {
    "execution": {
     "iopub.execute_input": "2025-09-05T15:01:54.432776Z",
     "iopub.status.busy": "2025-09-05T15:01:54.432609Z",
     "iopub.status.idle": "2025-09-05T15:01:54.437833Z",
     "shell.execute_reply": "2025-09-05T15:01:54.437382Z",
     "shell.execute_reply.started": "2025-09-05T15:01:54.432762Z"
    },
    "id": "xp2dUKNICY2l"
   },
   "outputs": [],
   "source": [
    "emotion_labels = original_emotions\n",
    "label_to_id = {label: i for i, label in enumerate(emotion_labels)}\n",
    "id_to_label = {i: label for i, label in enumerate(emotion_labels)}"
   ]
  },
  {
   "cell_type": "code",
   "execution_count": 7,
   "id": "3btF5lDdCeQ9",
   "metadata": {
    "execution": {
     "iopub.execute_input": "2025-09-05T15:01:54.438457Z",
     "iopub.status.busy": "2025-09-05T15:01:54.438308Z",
     "iopub.status.idle": "2025-09-05T15:01:56.991349Z",
     "shell.execute_reply": "2025-09-05T15:01:56.990794Z",
     "shell.execute_reply.started": "2025-09-05T15:01:54.438444Z"
    },
    "id": "3btF5lDdCeQ9"
   },
   "outputs": [],
   "source": [
    "train_df = pd.DataFrame(go_emotions['train'])\n",
    "val_df = pd.DataFrame(go_emotions['validation'])\n",
    "test_df = pd.DataFrame(go_emotions['test'])\n"
   ]
  },
  {
   "cell_type": "code",
   "execution_count": 8,
   "id": "xQmo5VEnChnf",
   "metadata": {
    "execution": {
     "iopub.execute_input": "2025-09-05T15:01:56.992021Z",
     "iopub.status.busy": "2025-09-05T15:01:56.991823Z",
     "iopub.status.idle": "2025-09-05T15:01:57.010716Z",
     "shell.execute_reply": "2025-09-05T15:01:57.010077Z",
     "shell.execute_reply.started": "2025-09-05T15:01:56.992006Z"
    },
    "id": "xQmo5VEnChnf"
   },
   "outputs": [],
   "source": [
    "train_df['text_length'] = train_df['text'].str.len()\n",
    "val_df['text_length'] = val_df['text'].str.len()\n",
    "test_df['text_length'] = test_df['text'].str.len()"
   ]
  },
  {
   "cell_type": "code",
   "execution_count": 9,
   "id": "5MuG5H1XCiQv",
   "metadata": {
    "colab": {
     "base_uri": "https://localhost:8080/"
    },
    "execution": {
     "iopub.execute_input": "2025-09-05T15:01:57.011619Z",
     "iopub.status.busy": "2025-09-05T15:01:57.011368Z",
     "iopub.status.idle": "2025-09-05T15:01:57.015261Z",
     "shell.execute_reply": "2025-09-05T15:01:57.014786Z",
     "shell.execute_reply.started": "2025-09-05T15:01:57.011602Z"
    },
    "id": "5MuG5H1XCiQv",
    "outputId": "4b27a02f-14ac-4ffb-d2ad-d2341ce05624"
   },
   "outputs": [
    {
     "name": "stdout",
     "output_type": "stream",
     "text": [
      "Train: 43,410\n",
      "Val: 5,426\n",
      "Test: 5,427\n",
      "Total distinct emotion classes: 28\n",
      "Emotion categories for analysis: 11\n"
     ]
    }
   ],
   "source": [
    "# EDA\n",
    "print(f\"Train: {len(go_emotions['train']):,}\")\n",
    "print(f\"Val: {len(go_emotions['validation']):,}\")\n",
    "print(f\"Test: {len(go_emotions['test']):,}\")\n",
    "print(f\"Total distinct emotion classes: {len(original_emotions)}\")\n",
    "print(f\"Emotion categories for analysis: {len(emotion_categories)}\")"
   ]
  },
  {
   "cell_type": "code",
   "execution_count": 10,
   "id": "AAIwalPvCrzm",
   "metadata": {
    "colab": {
     "base_uri": "https://localhost:8080/"
    },
    "execution": {
     "iopub.execute_input": "2025-09-05T15:01:57.017417Z",
     "iopub.status.busy": "2025-09-05T15:01:57.017247Z",
     "iopub.status.idle": "2025-09-05T15:01:57.022760Z",
     "shell.execute_reply": "2025-09-05T15:01:57.022292Z",
     "shell.execute_reply.started": "2025-09-05T15:01:57.017402Z"
    },
    "id": "AAIwalPvCrzm",
    "outputId": "f0992ad4-3bae-428c-aed6-b0fe0fe4c22b"
   },
   "outputs": [
    {
     "name": "stdout",
     "output_type": "stream",
     "text": [
      "Average text length: 68.4\n",
      "Median text length: 65.0\n",
      "Min text length: 2\n",
      "Max text length: 703\n"
     ]
    }
   ],
   "source": [
    "print(f\"Average text length: {train_df['text_length'].mean():.1f}\")\n",
    "print(f\"Median text length: {train_df['text_length'].median():.1f}\")\n",
    "print(f\"Min text length: {train_df['text_length'].min()}\")\n",
    "print(f\"Max text length: {train_df['text_length'].max()}\")"
   ]
  },
  {
   "cell_type": "code",
   "execution_count": 11,
   "id": "83AWXRjeCvVt",
   "metadata": {
    "colab": {
     "base_uri": "https://localhost:8080/",
     "height": 571
    },
    "execution": {
     "iopub.execute_input": "2025-09-05T15:01:57.023468Z",
     "iopub.status.busy": "2025-09-05T15:01:57.023242Z",
     "iopub.status.idle": "2025-09-05T15:01:57.533022Z",
     "shell.execute_reply": "2025-09-05T15:01:57.532413Z",
     "shell.execute_reply.started": "2025-09-05T15:01:57.023449Z"
    },
    "id": "83AWXRjeCvVt",
    "outputId": "a94575c0-fba2-477f-e373-26cd4516765c"
   },
   "outputs": [
    {
     "data": {
      "image/png": "[encoded data removed]",
      "text/plain": [
       "<Figure size 1000x600 with 1 Axes>"
      ]
     },
     "metadata": {},
     "output_type": "display_data"
    }
   ],
   "source": [
    "plt.figure(figsize=(10, 6))\n",
    "sns.histplot(\n",
    "    train_df['text_length'],\n",
    "    bins=50,\n",
    "    kde=True,\n",
    "    color='skyblue',\n",
    "    edgecolor='black'\n",
    ")\n",
    "plt.title(\"Distribution of Text Lengths (Train)\", fontsize=16)\n",
    "plt.xlabel(\"Text Length\", fontsize=14)\n",
    "plt.ylabel(\"Count\", fontsize=14)\n",
    "plt.grid(alpha=0.3)\n",
    "sns.despine()\n",
    "plt.show()"
   ]
  },
  {
   "cell_type": "code",
   "execution_count": 12,
   "id": "xtdDutiQDNK2",
   "metadata": {
    "colab": {
     "base_uri": "https://localhost:8080/",
     "height": 735
    },
    "execution": {
     "iopub.execute_input": "2025-09-05T15:01:57.533761Z",
     "iopub.status.busy": "2025-09-05T15:01:57.533593Z",
     "iopub.status.idle": "2025-09-05T15:01:57.712530Z",
     "shell.execute_reply": "2025-09-05T15:01:57.711731Z",
     "shell.execute_reply.started": "2025-09-05T15:01:57.533745Z"
    },
    "id": "xtdDutiQDNK2",
    "outputId": "aaad0d77-4712-45b2-9131-e7dfbc40d561"
   },
   "outputs": [
    {
     "data": {
      "text/plain": [
       "Text(0.5, 0, 'Text Length')"
      ]
     },
     "execution_count": 12,
     "metadata": {},
     "output_type": "execute_result"
    },
    {
     "data": {
      "image/png": "[encoded data removed]",
      "text/plain": [
       "<Figure size 1200x800 with 1 Axes>"
      ]
     },
     "metadata": {},
     "output_type": "display_data"
    }
   ],
   "source": [
    "plt.subplot(1, 3, 2)\n",
    "sns.histplot(val_df['text_length'], bins=50, kde=True, color='orange')\n",
    "plt.title(\"Distribution of Text Lengths (Val)\")\n",
    "plt.xlabel(\"Text Length\")"
   ]
  },
  {
   "cell_type": "code",
   "execution_count": 13,
   "id": "t6E3kUbVDU04",
   "metadata": {
    "colab": {
     "base_uri": "https://localhost:8080/",
     "height": 807
    },
    "execution": {
     "iopub.execute_input": "2025-09-05T15:01:57.713331Z",
     "iopub.status.busy": "2025-09-05T15:01:57.713160Z",
     "iopub.status.idle": "2025-09-05T15:01:57.892027Z",
     "shell.execute_reply": "2025-09-05T15:01:57.891470Z",
     "shell.execute_reply.started": "2025-09-05T15:01:57.713316Z"
    },
    "id": "t6E3kUbVDU04",
    "outputId": "eb26ed8d-4fd5-49f8-8596-d2aa174df938"
   },
   "outputs": [
    {
     "data": {
      "image/png": "[encoded data removed]",
      "text/plain": [
       "<Figure size 1200x800 with 1 Axes>"
      ]
     },
     "metadata": {},
     "output_type": "display_data"
    }
   ],
   "source": [
    "plt.subplot(1, 3, 3)\n",
    "sns.histplot(test_df['text_length'], bins=50, kde=True, color='green')\n",
    "plt.title(\"Distribution of Text Lengths (Test)\")\n",
    "plt.xlabel(\"Text Length\")\n",
    "plt.tight_layout()\n",
    "plt.show()"
   ]
  },
  {
   "cell_type": "code",
   "execution_count": 14,
   "id": "dVhTpJ6yDWrF",
   "metadata": {
    "execution": {
     "iopub.execute_input": "2025-09-05T15:01:57.892732Z",
     "iopub.status.busy": "2025-09-05T15:01:57.892549Z",
     "iopub.status.idle": "2025-09-05T15:01:57.911540Z",
     "shell.execute_reply": "2025-09-05T15:01:57.910922Z",
     "shell.execute_reply.started": "2025-09-05T15:01:57.892716Z"
    },
    "id": "dVhTpJ6yDWrF"
   },
   "outputs": [],
   "source": [
    "train_df['num_labels'] = train_df['labels'].apply(len)\n",
    "val_df['num_labels'] = val_df['labels'].apply(len)\n",
    "test_df['num_labels'] = test_df['labels'].apply(len)"
   ]
  },
  {
   "cell_type": "code",
   "execution_count": 15,
   "id": "XTEdy3_2DbCG",
   "metadata": {
    "colab": {
     "base_uri": "https://localhost:8080/",
     "height": 504
    },
    "execution": {
     "iopub.execute_input": "2025-09-05T15:01:57.912408Z",
     "iopub.status.busy": "2025-09-05T15:01:57.912117Z",
     "iopub.status.idle": "2025-09-05T15:01:58.100329Z",
     "shell.execute_reply": "2025-09-05T15:01:58.099731Z",
     "shell.execute_reply.started": "2025-09-05T15:01:57.912386Z"
    },
    "id": "XTEdy3_2DbCG",
    "outputId": "5ba06212-90ea-47d9-e727-7afd4d4040b3"
   },
   "outputs": [
    {
     "data": {
      "text/plain": [
       "Text(0.5, 0, 'Number of Labels')"
      ]
     },
     "execution_count": 15,
     "metadata": {},
     "output_type": "execute_result"
    },
    {
     "data": {
      "image/png": "[encoded data removed]",
      "text/plain": [
       "<Figure size 1500x500 with 1 Axes>"
      ]
     },
     "metadata": {},
     "output_type": "display_data"
    }
   ],
   "source": [
    "plt.figure(figsize=(15, 5))\n",
    "plt.subplot(1, 3, 1)\n",
    "sns.countplot(x='num_labels', data=train_df, palette='viridis')\n",
    "plt.title(\"Number of Labels per Sample (Train)\")\n",
    "plt.xlabel(\"Number of Labels\")"
   ]
  },
  {
   "cell_type": "code",
   "execution_count": 16,
   "id": "Jwrj7MU4DeoG",
   "metadata": {
    "colab": {
     "base_uri": "https://localhost:8080/"
    },
    "execution": {
     "iopub.execute_input": "2025-09-05T15:01:58.101036Z",
     "iopub.status.busy": "2025-09-05T15:01:58.100865Z",
     "iopub.status.idle": "2025-09-05T15:01:58.104996Z",
     "shell.execute_reply": "2025-09-05T15:01:58.104519Z",
     "shell.execute_reply.started": "2025-09-05T15:01:58.101020Z"
    },
    "id": "Jwrj7MU4DeoG",
    "outputId": "5130e0d2-2506-4dc8-8515-7e5620454241"
   },
   "outputs": [
    {
     "name": "stdout",
     "output_type": "stream",
     "text": [
      "Average labels per sample - Train: 1.18\n",
      "Average labels per sample - Val: 1.18\n",
      "Average labels per sample - Test: 1.17\n"
     ]
    }
   ],
   "source": [
    "print(f\"Average labels per sample - Train: {train_df['num_labels'].mean():.2f}\")\n",
    "print(f\"Average labels per sample - Val: {val_df['num_labels'].mean():.2f}\")\n",
    "print(f\"Average labels per sample - Test: {test_df['num_labels'].mean():.2f}\")"
   ]
  },
  {
   "cell_type": "code",
   "execution_count": 17,
   "id": "IUmYFeP0D_vd",
   "metadata": {
    "colab": {
     "base_uri": "https://localhost:8080/",
     "height": 579
    },
    "execution": {
     "iopub.execute_input": "2025-09-05T15:01:58.105642Z",
     "iopub.status.busy": "2025-09-05T15:01:58.105469Z",
     "iopub.status.idle": "2025-09-05T15:01:58.346060Z",
     "shell.execute_reply": "2025-09-05T15:01:58.345518Z",
     "shell.execute_reply.started": "2025-09-05T15:01:58.105627Z"
    },
    "id": "IUmYFeP0D_vd",
    "outputId": "f0376cab-ec5a-4943-c4cc-872d2406ee4c"
   },
   "outputs": [
    {
     "data": {
      "image/png": "[encoded data removed]",
      "text/plain": [
       "<Figure size 1500x600 with 1 Axes>"
      ]
     },
     "metadata": {},
     "output_type": "display_data"
    }
   ],
   "source": [
    "all_train_labels = [emotion_labels[label] for sublist in train_df['labels'] for label in sublist]\n",
    "all_val_labels = [emotion_labels[label] for sublist in val_df['labels'] for label in sublist]\n",
    "all_test_labels = [emotion_labels[label] for sublist in test_df['labels'] for label in sublist]\n",
    "\n",
    "train_emotion_counts = Counter(all_train_labels)\n",
    "val_emotion_counts = Counter(all_val_labels)\n",
    "test_emotion_counts = Counter(all_test_labels)\n",
    "\n",
    "top_emotions = train_emotion_counts.most_common(15)\n",
    "emotions, counts = zip(*top_emotions)\n",
    "\n",
    "plt.figure(figsize=(15, 6))\n",
    "sns.barplot(x=list(emotions), y=list(counts), palette='magma')\n",
    "plt.title(\"Top 15 Most Frequent Emotions (Train Set)\")\n",
    "plt.ylabel(\"Count\")\n",
    "plt.xticks(rotation=45)\n",
    "plt.tight_layout()\n",
    "plt.show()"
   ]
  },
  {
   "cell_type": "code",
   "execution_count": 18,
   "id": "vXcuOlM4EBJV",
   "metadata": {
    "colab": {
     "base_uri": "https://localhost:8080/",
     "height": 482
    },
    "execution": {
     "iopub.execute_input": "2025-09-05T15:01:58.346739Z",
     "iopub.status.busy": "2025-09-05T15:01:58.346583Z",
     "iopub.status.idle": "2025-09-05T15:01:58.953110Z",
     "shell.execute_reply": "2025-09-05T15:01:58.952518Z",
     "shell.execute_reply.started": "2025-09-05T15:01:58.346724Z"
    },
    "id": "vXcuOlM4EBJV",
    "outputId": "b32c9980-330a-463c-9be4-d68e2f64d12e"
   },
   "outputs": [
    {
     "data": {
      "image/png": "[encoded data removed]",
      "text/plain": [
       "<Figure size 1500x500 with 3 Axes>"
      ]
     },
     "metadata": {},
     "output_type": "display_data"
    }
   ],
   "source": [
    "category_counts_train = {}\n",
    "category_counts_val = {}\n",
    "category_counts_test = {}\n",
    "\n",
    "for cat, emo_list in emotion_categories.items():\n",
    "    train_count = sum([1 for sublist in train_df['labels'] for label in sublist if emotion_labels[label] in emo_list])\n",
    "    val_count = sum([1 for sublist in val_df['labels'] for label in sublist if emotion_labels[label] in emo_list])\n",
    "    test_count = sum([1 for sublist in test_df['labels'] for label in sublist if emotion_labels[label] in emo_list])\n",
    "\n",
    "    category_counts_train[cat] = train_count\n",
    "    category_counts_val[cat] = val_count\n",
    "    category_counts_test[cat] = test_count\n",
    "\n",
    "plt.figure(figsize=(15, 5))\n",
    "plt.subplot(1, 3, 1)\n",
    "sns.barplot(x=list(category_counts_train.keys()), y=list(category_counts_train.values()), palette='coolwarm')\n",
    "plt.title(\"Emotion Category Counts (Train)\")\n",
    "plt.ylabel(\"Count\")\n",
    "plt.xticks(rotation=45)\n",
    "\n",
    "plt.subplot(1, 3, 2)\n",
    "sns.barplot(x=list(category_counts_val.keys()), y=list(category_counts_val.values()), palette='coolwarm')\n",
    "plt.title(\"Emotion Category Counts (Val)\")\n",
    "plt.ylabel(\"Count\")\n",
    "plt.xticks(rotation=45)\n",
    "\n",
    "plt.subplot(1, 3, 3)\n",
    "sns.barplot(x=list(category_counts_test.keys()), y=list(category_counts_test.values()), palette='coolwarm')\n",
    "plt.title(\"Emotion Category Counts (Test)\")\n",
    "plt.ylabel(\"Count\")\n",
    "plt.xticks(rotation=45)\n",
    "plt.tight_layout()\n",
    "plt.show()"
   ]
  },
  {
   "cell_type": "code",
   "execution_count": 19,
   "id": "PSitjY5NEGd9",
   "metadata": {
    "colab": {
     "base_uri": "https://localhost:8080/",
     "height": 1000
    },
    "execution": {
     "iopub.execute_input": "2025-09-05T15:01:58.953898Z",
     "iopub.status.busy": "2025-09-05T15:01:58.953724Z",
     "iopub.status.idle": "2025-09-05T15:01:59.373135Z",
     "shell.execute_reply": "2025-09-05T15:01:59.372594Z",
     "shell.execute_reply.started": "2025-09-05T15:01:58.953881Z"
    },
    "id": "PSitjY5NEGd9",
    "outputId": "d26b81d9-3ddf-427d-d8fb-834aca76dd6d"
   },
   "outputs": [
    {
     "data": {
      "image/png": "[encoded data removed]",
      "text/plain": [
       "<Figure size 1400x1200 with 2 Axes>"
      ]
     },
     "metadata": {},
     "output_type": "display_data"
    }
   ],
   "source": [
    "from itertools import combinations\n",
    "\n",
    "co_matrix = np.zeros((28,28), dtype=int)\n",
    "for labels in train_df['labels']:\n",
    "    for i,j in combinations(labels, 2):\n",
    "        co_matrix[i,j] += 1\n",
    "        co_matrix[j,i] += 1\n",
    "\n",
    "plt.figure(figsize=(14,12))\n",
    "sns.heatmap(co_matrix,\n",
    "            xticklabels=emotion_labels,\n",
    "            yticklabels=emotion_labels,\n",
    "            cmap='Blues',\n",
    "            cbar=True,\n",
    "            linewidths=0.1)\n",
    "plt.title(\"Emotion Co-occurrence Heatmap\", fontsize=16)\n",
    "plt.xticks(rotation=45, ha='right')\n",
    "plt.yticks(rotation=0)\n",
    "plt.tight_layout()\n",
    "plt.show()"
   ]
  },
  {
   "cell_type": "code",
   "execution_count": 20,
   "id": "m27nNGQ3EL8v",
   "metadata": {
    "colab": {
     "base_uri": "https://localhost:8080/",
     "height": 767
    },
    "execution": {
     "iopub.execute_input": "2025-09-05T15:01:59.373818Z",
     "iopub.status.busy": "2025-09-05T15:01:59.373619Z",
     "iopub.status.idle": "2025-09-05T15:01:59.576043Z",
     "shell.execute_reply": "2025-09-05T15:01:59.575543Z",
     "shell.execute_reply.started": "2025-09-05T15:01:59.373797Z"
    },
    "id": "m27nNGQ3EL8v",
    "outputId": "5451b6b1-cd6b-478d-f457-e5c92a720327"
   },
   "outputs": [
    {
     "data": {
      "image/png": "[encoded data removed]",
      "text/plain": [
       "<Figure size 1500x800 with 1 Axes>"
      ]
     },
     "metadata": {},
     "output_type": "display_data"
    }
   ],
   "source": [
    "emotion_df = pd.DataFrame({\n",
    "    'emotion': list(train_emotion_counts.keys()),\n",
    "    'train_count': [train_emotion_counts[e] for e in train_emotion_counts.keys()],\n",
    "    'val_count': [val_emotion_counts.get(e, 0) for e in train_emotion_counts.keys()],\n",
    "    'test_count': [test_emotion_counts.get(e, 0) for e in train_emotion_counts.keys()]\n",
    "})\n",
    "\n",
    "emotion_df['train_pct'] = emotion_df['train_count'] / emotion_df['train_count'].sum() * 100\n",
    "emotion_df['val_pct'] = emotion_df['val_count'] / emotion_df['val_count'].sum() * 100\n",
    "emotion_df['test_pct'] = emotion_df['test_count'] / emotion_df['test_count'].sum() * 100\n",
    "\n",
    "top_10_emotions = emotion_df.nlargest(10, 'train_count')\n",
    "\n",
    "plt.figure(figsize=(15, 8))\n",
    "x = np.arange(len(top_10_emotions))\n",
    "width = 0.25\n",
    "\n",
    "plt.bar(x - width, top_10_emotions['train_pct'], width, label='Train', alpha=0.8)\n",
    "plt.bar(x, top_10_emotions['val_pct'], width, label='Val', alpha=0.8)\n",
    "plt.bar(x + width, top_10_emotions['test_pct'], width, label='Test', alpha=0.8)\n",
    "\n",
    "plt.xlabel('Emotions')\n",
    "plt.ylabel('Percentage')\n",
    "plt.title('Top 10 Emotions Distribution Across Splits')\n",
    "plt.xticks(x, top_10_emotions['emotion'], rotation=45)\n",
    "plt.legend()\n",
    "plt.tight_layout()\n",
    "plt.show()"
   ]
  },
  {
   "cell_type": "code",
   "execution_count": 21,
   "id": "kSyiOm5WER5l",
   "metadata": {
    "colab": {
     "base_uri": "https://localhost:8080/",
     "height": 503
    },
    "execution": {
     "iopub.execute_input": "2025-09-05T15:01:59.576647Z",
     "iopub.status.busy": "2025-09-05T15:01:59.576493Z",
     "iopub.status.idle": "2025-09-05T15:02:00.215450Z",
     "shell.execute_reply": "2025-09-05T15:02:00.214673Z",
     "shell.execute_reply.started": "2025-09-05T15:01:59.576632Z"
    },
    "id": "kSyiOm5WER5l",
    "outputId": "8a815137-e0d5-4058-e74d-20ceccded670"
   },
   "outputs": [
    {
     "data": {
      "image/png": "[encoded data removed]",
      "text/plain": [
       "<Figure size 1500x500 with 4 Axes>"
      ]
     },
     "metadata": {},
     "output_type": "display_data"
    },
    {
     "name": "stdout",
     "output_type": "stream",
     "text": [
      "Correlation between text length and number of labels: 0.076\n"
     ]
    }
   ],
   "source": [
    "plt.figure(figsize=(15, 5))\n",
    "plt.subplot(1, 3, 1)\n",
    "sns.scatterplot(x='text_length', y='num_labels', data=train_df, alpha=0.6)\n",
    "plt.title(\"Text Length vs Number of Labels (Train)\")\n",
    "plt.xlabel(\"Text Length\")\n",
    "plt.ylabel(\"Number of Labels\")\n",
    "\n",
    "plt.subplot(1, 3, 2)\n",
    "sns.boxplot(x='num_labels', y='text_length', data=train_df)\n",
    "plt.title(\"Text Length Distribution by Label Count (Train)\")\n",
    "plt.xlabel(\"Number of Labels\")\n",
    "plt.ylabel(\"Text Length\")\n",
    "\n",
    "plt.subplot(1, 3, 3)\n",
    "correlation = train_df[['text_length', 'num_labels']].corr()\n",
    "sns.heatmap(correlation, annot=True, cmap='coolwarm', center=0)\n",
    "plt.title(\"Correlation Matrix\")\n",
    "plt.tight_layout()\n",
    "plt.show()\n",
    "\n",
    "print(f\"Correlation between text length and number of labels: {train_df['text_length'].corr(train_df['num_labels']):.3f}\")\n"
   ]
  },
  {
   "cell_type": "code",
   "execution_count": 22,
   "id": "Qa64xmKQEbyl",
   "metadata": {
    "colab": {
     "base_uri": "https://localhost:8080/",
     "height": 801
    },
    "execution": {
     "iopub.execute_input": "2025-09-05T15:02:00.216241Z",
     "iopub.status.busy": "2025-09-05T15:02:00.216067Z",
     "iopub.status.idle": "2025-09-05T15:02:00.575907Z",
     "shell.execute_reply": "2025-09-05T15:02:00.575260Z",
     "shell.execute_reply.started": "2025-09-05T15:02:00.216226Z"
    },
    "id": "Qa64xmKQEbyl",
    "outputId": "c37a97d2-e3fd-4566-bc4d-b0b025c3b8f4"
   },
   "outputs": [
    {
     "data": {
      "image/png": "[encoded data removed]",
      "text/plain": [
       "<Figure size 1500x800 with 2 Axes>"
      ]
     },
     "metadata": {},
     "output_type": "display_data"
    },
    {
     "name": "stdout",
     "output_type": "stream",
     "text": [
      "Rare emotion threshold (25th percentile): 630\n",
      "Common emotion threshold (75th percentile): 2112\n"
     ]
    }
   ],
   "source": [
    "emotion_counts_sorted = sorted(train_emotion_counts.items(), key=lambda x: x[1])\n",
    "rare_emotions = [e[0] for e in emotion_counts_sorted[:10]]\n",
    "common_emotions = [e[0] for e in emotion_counts_sorted[-10:]]\n",
    "\n",
    "plt.figure(figsize=(15, 8))\n",
    "plt.subplot(2, 1, 1)\n",
    "rare_counts = [train_emotion_counts[e] for e in rare_emotions]\n",
    "sns.barplot(x=rare_emotions, y=rare_counts, palette='Reds')\n",
    "plt.title(\"10 Least Frequent Emotions\")\n",
    "plt.ylabel(\"Count\")\n",
    "plt.xticks(rotation=45)\n",
    "\n",
    "plt.subplot(2, 1, 2)\n",
    "common_counts = [train_emotion_counts[e] for e in common_emotions]\n",
    "sns.barplot(x=common_emotions, y=common_counts, palette='Greens')\n",
    "plt.title(\"10 Most Frequent Emotions\")\n",
    "plt.ylabel(\"Count\")\n",
    "plt.xticks(rotation=45)\n",
    "plt.tight_layout()\n",
    "plt.show()\n",
    "\n",
    "rare_threshold = np.percentile(list(train_emotion_counts.values()), 25)\n",
    "common_threshold = np.percentile(list(train_emotion_counts.values()), 75)\n",
    "print(f\"Rare emotion threshold (25th percentile): {rare_threshold:.0f}\")\n",
    "print(f\"Common emotion threshold (75th percentile): {common_threshold:.0f}\")"
   ]
  },
  {
   "cell_type": "code",
   "execution_count": 23,
   "id": "axfxPvCkEltF",
   "metadata": {
    "colab": {
     "base_uri": "https://localhost:8080/"
    },
    "execution": {
     "iopub.execute_input": "2025-09-05T15:02:00.576595Z",
     "iopub.status.busy": "2025-09-05T15:02:00.576427Z",
     "iopub.status.idle": "2025-09-05T15:02:00.608091Z",
     "shell.execute_reply": "2025-09-05T15:02:00.607571Z",
     "shell.execute_reply.started": "2025-09-05T15:02:00.576579Z"
    },
    "id": "axfxPvCkEltF",
    "outputId": "10a3a27e-9642-4133-d3c2-4b4ea5d13939"
   },
   "outputs": [
    {
     "name": "stdout",
     "output_type": "stream",
     "text": [
      "Sample texts by emotion category:\n",
      "\n",
      "JOY_GROUP:\n",
      "  1. Aww... she'll probably come around eventually, I'm sure she was just jealous of [NAME]... I mean, wh...\n",
      "  2. Happy to be able to help....\n",
      "\n",
      "LOVE_GROUP:\n",
      "  1. Yes I heard abt the f bombs! That has to be why. Thanks for your reply:) until then hubby and I will...\n",
      "  2. R/sleeptrain Might be time for some sleep training. Take a look and try to feel out what's right for...\n",
      "\n",
      "PRIDE_GROUP:\n",
      "  1. Damn youtube and outrage drama is super lucrative for reddit...\n",
      "  2. Aww... she'll probably come around eventually, I'm sure she was just jealous of [NAME]... I mean, wh...\n",
      "\n",
      "OPTIMISM_GROUP:\n",
      "  1. We need more boards and to create a bit more space for [NAME]. Then we’ll be good....\n",
      "  2. It's true though. He either gets no shirt and freezes to death or wears a stupid looking butchers ca...\n",
      "\n",
      "ANGER_GROUP:\n",
      "  1. WHY THE FUCK IS BAYLESS ISOING...\n",
      "  2. Dirty Southern Wankers...\n"
     ]
    }
   ],
   "source": [
    "def get_sample_texts_by_category(df, category, n=3):\n",
    "    category_emotions = emotion_categories[category]\n",
    "    category_indices = [label_to_id[emotion] for emotion in category_emotions]\n",
    "\n",
    "    samples = []\n",
    "    for idx, row in df.iterrows():\n",
    "        if any(label in row['labels'] for label in category_indices):\n",
    "            samples.append(row['text'])\n",
    "        if len(samples) >= n:\n",
    "            break\n",
    "    return samples\n",
    "\n",
    "print(\"Sample texts by emotion category:\")\n",
    "for category in list(emotion_categories.keys())[:5]:\n",
    "    print(f\"\\n{category.upper()}:\")\n",
    "    samples = get_sample_texts_by_category(train_df, category, 2)\n",
    "    for i, text in enumerate(samples, 1):\n",
    "        print(f\"  {i}. {text[:100]}...\")"
   ]
  },
  {
   "cell_type": "code",
   "execution_count": 24,
   "id": "fcCtQuAaEqde",
   "metadata": {
    "colab": {
     "base_uri": "https://localhost:8080/",
     "height": 807
    },
    "execution": {
     "iopub.execute_input": "2025-09-05T15:02:00.608764Z",
     "iopub.status.busy": "2025-09-05T15:02:00.608582Z",
     "iopub.status.idle": "2025-09-05T15:02:00.961358Z",
     "shell.execute_reply": "2025-09-05T15:02:00.960750Z",
     "shell.execute_reply.started": "2025-09-05T15:02:00.608748Z"
    },
    "id": "fcCtQuAaEqde",
    "outputId": "e336ba15-bd85-4ae0-992f-dcc4c701b336"
   },
   "outputs": [
    {
     "data": {
      "image/png": "[encoded data removed]",
      "text/plain": [
       "<Figure size 1200x800 with 1 Axes>"
      ]
     },
     "metadata": {},
     "output_type": "display_data"
    }
   ],
   "source": [
    "top_cooccur = []\n",
    "for i in range(len(emotion_labels)):\n",
    "    for j in range(i+1, len(emotion_labels)):\n",
    "        if co_matrix[i,j] > 0:\n",
    "            top_cooccur.append((emotion_labels[i], emotion_labels[j], co_matrix[i,j]))\n",
    "\n",
    "top_cooccur = sorted(top_cooccur, key=lambda x: x[2], reverse=True)[:15]\n",
    "\n",
    "plt.figure(figsize=(12, 8))\n",
    "pairs = [f\"{pair[0]}-{pair[1]}\" for pair in top_cooccur]\n",
    "counts = [pair[2] for pair in top_cooccur]\n",
    "\n",
    "sns.barplot(x=counts, y=pairs, palette='viridis')\n",
    "plt.title(\"Top 15 Emotion Pair Co-occurrences\")\n",
    "plt.xlabel(\"Co-occurrence Count\")\n",
    "plt.tight_layout()\n",
    "plt.show()"
   ]
  },
  {
   "cell_type": "code",
   "execution_count": 25,
   "id": "LH4TUnu6EueO",
   "metadata": {
    "execution": {
     "iopub.execute_input": "2025-09-05T15:02:00.962146Z",
     "iopub.status.busy": "2025-09-05T15:02:00.961973Z",
     "iopub.status.idle": "2025-09-05T15:02:05.326078Z",
     "shell.execute_reply": "2025-09-05T15:02:05.325576Z",
     "shell.execute_reply.started": "2025-09-05T15:02:00.962131Z"
    },
    "id": "LH4TUnu6EueO"
   },
   "outputs": [],
   "source": [
    "import torch\n",
    "import torch.nn as nn\n",
    "from torch.utils.data import Dataset, DataLoader\n",
    "import torch.nn.functional as F\n",
    "from torch.optim import AdamW\n",
    "from transformers import AutoTokenizer, AutoModel, get_linear_schedule_with_warmup\n",
    "\n",
    "import os\n",
    "import logging\n",
    "from datetime import datetime\n",
    "from typing import Dict, List, Tuple\n",
    "import json\n",
    "from tqdm import tqdm\n",
    "from sklearn.metrics import accuracy_score, precision_recall_fscore_support, hamming_loss, jaccard_score\n",
    "\n"
   ]
  },
  {
   "cell_type": "code",
   "execution_count": 26,
   "id": "0WPxnSb-EytV",
   "metadata": {
    "execution": {
     "iopub.execute_input": "2025-09-05T15:02:05.326821Z",
     "iopub.status.busy": "2025-09-05T15:02:05.326514Z",
     "iopub.status.idle": "2025-09-05T15:02:05.329774Z",
     "shell.execute_reply": "2025-09-05T15:02:05.329225Z",
     "shell.execute_reply.started": "2025-09-05T15:02:05.326805Z"
    },
    "id": "0WPxnSb-EytV"
   },
   "outputs": [],
   "source": [
    "logging.basicConfig(level=logging.INFO, format='%(asctime)s - %(message)s')\n",
    "logger = logging.getLogger(__name__)"
   ]
  },
  {
   "cell_type": "code",
   "execution_count": 27,
   "id": "XqJp0IqfE21B",
   "metadata": {
    "execution": {
     "iopub.execute_input": "2025-09-05T15:02:05.330561Z",
     "iopub.status.busy": "2025-09-05T15:02:05.330313Z",
     "iopub.status.idle": "2025-09-05T15:02:05.335064Z",
     "shell.execute_reply": "2025-09-05T15:02:05.334471Z",
     "shell.execute_reply.started": "2025-09-05T15:02:05.330539Z"
    },
    "id": "XqJp0IqfE21B"
   },
   "outputs": [],
   "source": [
    "class Config:\n",
    "    def __init__(self):\n",
    "        self.base_model = \"microsoft/deberta-v3-base\"\n",
    "        self.num_emotions = 28\n",
    "        self.max_length = 384\n",
    "        self.hidden_dropout = 0.3\n",
    "        self.attention_dropout = 0.15\n",
    "\n",
    "        self.batch_size = 12\n",
    "        self.learning_rate = 8e-6\n",
    "        self.num_epochs = 8\n",
    "        self.warmup_ratio = 0.15\n",
    "        self.weight_decay = 0.02\n",
    "        self.gradient_clip = 1.0\n",
    "        self.threshold = 0.35\n",
    "\n",
    "        self.focal_alpha = 0.3\n",
    "        self.focal_gamma = 2.5\n",
    "\n",
    "        self.model_save_path = \"./models/goemotions\"\n",
    "        self.results_path = \"./results/goemotions\"\n",
    "\n",
    "        self.device = torch.device(\"cuda\" if torch.cuda.is_available() else \"cpu\")\n",
    "        self.num_workers = 2 if torch.cuda.is_available() else 0\n",
    "\n",
    "        os.makedirs(self.model_save_path, exist_ok=True)\n",
    "        os.makedirs(self.results_path, exist_ok=True)\n",
    "\n"
   ]
  },
  {
   "cell_type": "code",
   "execution_count": 28,
   "id": "fOLqMrZmE4C9",
   "metadata": {
    "execution": {
     "iopub.execute_input": "2025-09-05T15:02:05.335842Z",
     "iopub.status.busy": "2025-09-05T15:02:05.335620Z",
     "iopub.status.idle": "2025-09-05T15:02:05.493044Z",
     "shell.execute_reply": "2025-09-05T15:02:05.492405Z",
     "shell.execute_reply.started": "2025-09-05T15:02:05.335820Z"
    },
    "id": "fOLqMrZmE4C9"
   },
   "outputs": [],
   "source": [
    "config = Config()"
   ]
  },
  {
   "cell_type": "code",
   "execution_count": 29,
   "id": "9zLSCFS9E-49",
   "metadata": {
    "execution": {
     "iopub.execute_input": "2025-09-05T15:02:05.493819Z",
     "iopub.status.busy": "2025-09-05T15:02:05.493619Z",
     "iopub.status.idle": "2025-09-05T15:02:05.498297Z",
     "shell.execute_reply": "2025-09-05T15:02:05.497791Z",
     "shell.execute_reply.started": "2025-09-05T15:02:05.493803Z"
    },
    "id": "9zLSCFS9E-49"
   },
   "outputs": [],
   "source": [
    "class GoEmotionsDataset(Dataset):\n",
    "    def __init__(self, texts: List[str], labels: List[List[int]], tokenizer, max_length: int = 384):\n",
    "        self.texts = texts\n",
    "        self.labels = labels\n",
    "        self.tokenizer = tokenizer\n",
    "        self.max_length = max_length\n",
    "\n",
    "    def __len__(self):\n",
    "        return len(self.texts)\n",
    "\n",
    "    def __getitem__(self, idx):\n",
    "        text = str(self.texts[idx]).strip()\n",
    "\n",
    "        encoding = self.tokenizer(\n",
    "            text,\n",
    "            truncation=True,\n",
    "            padding='max_length',\n",
    "            max_length=self.max_length,\n",
    "            return_tensors='pt'\n",
    "        )\n",
    "\n",
    "        label_tensor = torch.zeros(28, dtype=torch.float32)\n",
    "        for label in self.labels[idx]:\n",
    "            label_tensor[label] = 1.0\n",
    "\n",
    "        return {\n",
    "            'input_ids': encoding['input_ids'].flatten(),\n",
    "            'attention_mask': encoding['attention_mask'].flatten(),\n",
    "            'labels': label_tensor\n",
    "        }"
   ]
  },
  {
   "cell_type": "code",
   "execution_count": 30,
   "id": "oudRctQ3FAo1",
   "metadata": {
    "execution": {
     "iopub.execute_input": "2025-09-05T15:02:05.498907Z",
     "iopub.status.busy": "2025-09-05T15:02:05.498745Z",
     "iopub.status.idle": "2025-09-05T15:02:05.502977Z",
     "shell.execute_reply": "2025-09-05T15:02:05.502387Z",
     "shell.execute_reply.started": "2025-09-05T15:02:05.498893Z"
    },
    "id": "oudRctQ3FAo1"
   },
   "outputs": [],
   "source": [
    "class FocalLoss(nn.Module):\n",
    "    def __init__(self, alpha=0.3, gamma=2.5):\n",
    "        super(FocalLoss, self).__init__()\n",
    "        self.alpha = alpha\n",
    "        self.gamma = gamma\n",
    "\n",
    "    def forward(self, inputs, targets):\n",
    "        bce_loss = F.binary_cross_entropy_with_logits(inputs, targets, reduction='none')\n",
    "        pt = torch.exp(-bce_loss)\n",
    "        focal_loss = self.alpha * (1 - pt) ** self.gamma * bce_loss\n",
    "        return focal_loss.mean()\n",
    "\n"
   ]
  },
  {
   "cell_type": "code",
   "execution_count": 31,
   "id": "zlgfzh5uFXQO",
   "metadata": {
    "execution": {
     "iopub.execute_input": "2025-09-05T15:02:05.505946Z",
     "iopub.status.busy": "2025-09-05T15:02:05.505785Z",
     "iopub.status.idle": "2025-09-05T15:02:05.511126Z",
     "shell.execute_reply": "2025-09-05T15:02:05.510615Z",
     "shell.execute_reply.started": "2025-09-05T15:02:05.505933Z"
    },
    "id": "zlgfzh5uFXQO"
   },
   "outputs": [],
   "source": [
    "class GoEmotionsModel(nn.Module):\n",
    "    def __init__(self, config: Config):\n",
    "        super(GoEmotionsModel, self).__init__()\n",
    "        self.config = config\n",
    "        self.backbone = AutoModel.from_pretrained(config.base_model)\n",
    "\n",
    "        hidden_size = self.backbone.config.hidden_size\n",
    "\n",
    "        self.attention_pooling = nn.MultiheadAttention(\n",
    "            embed_dim=hidden_size,\n",
    "            num_heads=12,\n",
    "            dropout=config.attention_dropout,\n",
    "            batch_first=True\n",
    "        )\n",
    "\n",
    "        self.classifier = nn.Sequential(\n",
    "            nn.Linear(hidden_size * 2, hidden_size),\n",
    "            nn.LayerNorm(hidden_size),\n",
    "            nn.GELU(),\n",
    "            nn.Dropout(config.hidden_dropout),\n",
    "            nn.Linear(hidden_size, hidden_size // 2),\n",
    "            nn.LayerNorm(hidden_size // 2),\n",
    "            nn.GELU(),\n",
    "            nn.Dropout(config.hidden_dropout),\n",
    "            nn.Linear(hidden_size // 2, config.num_emotions)\n",
    "        )\n",
    "\n",
    "        self.layer_norm = nn.LayerNorm(hidden_size)\n",
    "        self.dropout = nn.Dropout(config.hidden_dropout)\n",
    "\n",
    "        for module in self.classifier:\n",
    "            if isinstance(module, nn.Linear):\n",
    "                nn.init.xavier_normal_(module.weight)\n",
    "                nn.init.constant_(module.bias, 0)\n",
    "\n",
    "    def forward(self, input_ids, attention_mask):\n",
    "        outputs = self.backbone(input_ids=input_ids, attention_mask=attention_mask)\n",
    "\n",
    "        hidden_states = outputs.last_hidden_state\n",
    "        cls_output = hidden_states[:, 0, :]\n",
    "\n",
    "        attended_output, _ = self.attention_pooling(hidden_states, hidden_states, hidden_states)\n",
    "        mean_attended = attended_output.mean(dim=1)\n",
    "\n",
    "        combined = torch.cat([cls_output, mean_attended], dim=1)\n",
    "        logits = self.classifier(combined)\n",
    "        return logits"
   ]
  },
  {
   "cell_type": "code",
   "execution_count": 41,
   "id": "Ntb-6lhDFTqG",
   "metadata": {
    "execution": {
     "iopub.execute_input": "2025-09-05T15:37:59.475373Z",
     "iopub.status.busy": "2025-09-05T15:37:59.475112Z",
     "iopub.status.idle": "2025-09-05T15:37:59.490269Z",
     "shell.execute_reply": "2025-09-05T15:37:59.489684Z",
     "shell.execute_reply.started": "2025-09-05T15:37:59.475357Z"
    },
    "id": "Ntb-6lhDFTqG"
   },
   "outputs": [],
   "source": [
    "class GoEmotionsTrainer:\n",
    "    def __init__(self, config: Config):\n",
    "        self.config = config\n",
    "        self.logger = logging.getLogger(__name__)\n",
    "\n",
    "        self.tokenizer = None\n",
    "        self.model = None\n",
    "        self.optimizer = None\n",
    "        self.scheduler = None\n",
    "        self.criterion = None\n",
    "\n",
    "        self.history = {\n",
    "            'train_loss': [],\n",
    "            'val_loss': [],\n",
    "            'val_accuracy': [],\n",
    "            'val_f1_macro': [],\n",
    "            'val_f1_micro': []\n",
    "        }\n",
    "\n",
    "    def load_data(self) -> Tuple[Dataset, Dataset, Dataset]:\n",
    "        self.tokenizer = AutoTokenizer.from_pretrained(self.config.base_model)\n",
    "\n",
    "        train_texts = [example['text'] for example in go_emotions['train']]\n",
    "        train_labels = [example['labels'] for example in go_emotions['train']]\n",
    "\n",
    "        val_texts = [example['text'] for example in go_emotions['validation']]\n",
    "        val_labels = [example['labels'] for example in go_emotions['validation']]\n",
    "\n",
    "        test_texts = [example['text'] for example in go_emotions['test']]\n",
    "        test_labels = [example['labels'] for example in go_emotions['test']]\n",
    "\n",
    "        train_dataset = GoEmotionsDataset(train_texts, train_labels, self.tokenizer, self.config.max_length)\n",
    "        val_dataset = GoEmotionsDataset(val_texts, val_labels, self.tokenizer, self.config.max_length)\n",
    "        test_dataset = GoEmotionsDataset(test_texts, test_labels, self.tokenizer, self.config.max_length)\n",
    "\n",
    "        return train_dataset, val_dataset, test_dataset\n",
    "\n",
    "    def setup_model(self):\n",
    "        self.model = GoEmotionsModel(self.config).to(self.config.device)\n",
    "\n",
    "        self.optimizer = AdamW(\n",
    "            self.model.parameters(),\n",
    "            lr=self.config.learning_rate,\n",
    "            weight_decay=self.config.weight_decay,\n",
    "            eps=1e-8\n",
    "        )\n",
    "\n",
    "        self.criterion = FocalLoss(\n",
    "            alpha=self.config.focal_alpha,\n",
    "            gamma=self.config.focal_gamma\n",
    "        )\n",
    "\n",
    "    def create_scheduler(self, train_dataloader):\n",
    "        total_steps = len(train_dataloader) * self.config.num_epochs\n",
    "        warmup_steps = int(total_steps * self.config.warmup_ratio)\n",
    "\n",
    "        self.scheduler = get_linear_schedule_with_warmup(\n",
    "            self.optimizer,\n",
    "            num_warmup_steps=warmup_steps,\n",
    "            num_training_steps=total_steps\n",
    "        )\n",
    "\n",
    "    def train_epoch(self, train_dataloader) -> float:\n",
    "        self.model.train()\n",
    "        total_loss = 0\n",
    "\n",
    "        for batch in tqdm(train_dataloader, desc=\"Training\", leave=False):\n",
    "            input_ids = batch['input_ids'].to(self.config.device)\n",
    "            attention_mask = batch['attention_mask'].to(self.config.device)\n",
    "            labels = batch['labels'].to(self.config.device)\n",
    "\n",
    "            self.optimizer.zero_grad()\n",
    "\n",
    "            logits = self.model(input_ids, attention_mask)\n",
    "            loss = self.criterion(logits, labels)\n",
    "\n",
    "            loss.backward()\n",
    "            torch.nn.utils.clip_grad_norm_(self.model.parameters(), self.config.gradient_clip)\n",
    "            self.optimizer.step()\n",
    "            self.scheduler.step()\n",
    "\n",
    "            total_loss += loss.item()\n",
    "\n",
    "        return total_loss / len(train_dataloader)\n",
    "\n",
    "    def evaluate(self, val_dataloader) -> Dict[str, float]:\n",
    "        self.model.eval()\n",
    "        total_loss = 0\n",
    "        all_predictions = []\n",
    "        all_labels = []\n",
    "\n",
    "        with torch.no_grad():\n",
    "            for batch in tqdm(val_dataloader, desc=\"Evaluating\", leave=False):\n",
    "                input_ids = batch['input_ids'].to(self.config.device)\n",
    "                attention_mask = batch['attention_mask'].to(self.config.device)\n",
    "                labels = batch['labels'].to(self.config.device)\n",
    "\n",
    "                logits = self.model(input_ids, attention_mask)\n",
    "                loss = self.criterion(logits, labels)\n",
    "                total_loss += loss.item()\n",
    "\n",
    "                probabilities = torch.sigmoid(logits)\n",
    "                predictions = (probabilities > self.config.threshold).float()\n",
    "\n",
    "                all_predictions.append(predictions.cpu().numpy())\n",
    "                all_labels.append(labels.cpu().numpy())\n",
    "\n",
    "        all_predictions = np.vstack(all_predictions)\n",
    "        all_labels = np.vstack(all_labels)\n",
    "\n",
    "        accuracy = accuracy_score(all_labels, all_predictions)\n",
    "        hamming = hamming_loss(all_labels, all_predictions)\n",
    "        jaccard = jaccard_score(all_labels, all_predictions, average='samples', zero_division=0)\n",
    "\n",
    "        precision_macro, recall_macro, f1_macro, _ = precision_recall_fscore_support(\n",
    "            all_labels, all_predictions, average='macro', zero_division=0\n",
    "        )\n",
    "        precision_micro, recall_micro, f1_micro, _ = precision_recall_fscore_support(\n",
    "            all_labels, all_predictions, average='micro', zero_division=0\n",
    "        )\n",
    "\n",
    "        return {\n",
    "            'accuracy': accuracy,\n",
    "            'hamming_loss': hamming,\n",
    "            'jaccard_score': jaccard,\n",
    "            'precision_macro': precision_macro,\n",
    "            'recall_macro': recall_macro,\n",
    "            'f1_macro': f1_macro,\n",
    "            'precision_micro': precision_micro,\n",
    "            'recall_micro': recall_micro,\n",
    "            'f1_micro': f1_micro,\n",
    "            'loss': total_loss / len(val_dataloader)\n",
    "        }\n",
    "\n",
    "    def train(self, train_dataset: Dataset, val_dataset: Dataset):\n",
    "        train_dataloader = DataLoader(\n",
    "            train_dataset,\n",
    "            batch_size=self.config.batch_size,\n",
    "            shuffle=True,\n",
    "            num_workers=self.config.num_workers,\n",
    "            pin_memory=True\n",
    "        )\n",
    "        val_dataloader = DataLoader(\n",
    "            val_dataset,\n",
    "            batch_size=self.config.batch_size,\n",
    "            shuffle=False,\n",
    "            num_workers=self.config.num_workers,\n",
    "            pin_memory=True\n",
    "        )\n",
    "    \n",
    "        self.setup_model()\n",
    "        self.create_scheduler(train_dataloader)\n",
    "    \n",
    "        best_f1 = 0.0\n",
    "        patience = 3\n",
    "        no_improve = 0\n",
    "    \n",
    "        for epoch in range(self.config.num_epochs):\n",
    "            print(f\"\\n===== Epoch {epoch+1}/{self.config.num_epochs} =====\")\n",
    "            \n",
    "            train_loss = self.train_epoch(train_dataloader)\n",
    "            val_metrics = self.evaluate(val_dataloader)\n",
    "    \n",
    "            self.history['train_loss'].append(train_loss)\n",
    "            self.history['val_loss'].append(val_metrics['loss'])\n",
    "            self.history['val_accuracy'].append(val_metrics['accuracy'])\n",
    "            self.history['val_f1_macro'].append(val_metrics['f1_macro'])\n",
    "            self.history['val_f1_micro'].append(val_metrics['f1_micro'])\n",
    "    \n",
    "            print(f\"Train Loss   : {train_loss:.4f}\")\n",
    "            print(f\"Val Loss     : {val_metrics['loss']:.4f}\")\n",
    "            print(f\"Val Accuracy : {val_metrics['accuracy']*100:.2f}%\")\n",
    "            print(f\"Val F1 Macro : {val_metrics['f1_macro']:.4f}\")\n",
    "            print(f\"Val F1 Micro : {val_metrics['f1_micro']:.4f}\")\n",
    "    \n",
    "            # Early stopping\n",
    "            if val_metrics['f1_macro'] > best_f1:\n",
    "                best_f1 = val_metrics['f1_macro']\n",
    "                no_improve = 0\n",
    "                self.save_model('best_model.pt')\n",
    "                print(\">> Best model saved!\")\n",
    "            else:\n",
    "                no_improve += 1\n",
    "                if no_improve >= patience:\n",
    "                    print(\">> Early stopping triggered!\")\n",
    "                    break\n",
    "    \n",
    "        self.save_model('final_model.pt')\n",
    "        \n",
    "    def save_model(self, filename: str):\n",
    "        checkpoint = {\n",
    "            'model_state_dict': self.model.state_dict(),\n",
    "            'config': self.config.__dict__,\n",
    "            'emotion_labels': emotion_labels\n",
    "        }\n",
    "        filepath = os.path.join(self.config.model_save_path, filename)\n",
    "        torch.save(checkpoint, filepath)\n",
    "        self.tokenizer.save_pretrained(self.config.model_save_path)\n",
    "\n",
    "    def test(self, test_dataset: Dataset) -> Dict[str, float]:\n",
    "        test_dataloader = DataLoader(\n",
    "            test_dataset,\n",
    "            batch_size=self.config.batch_size,\n",
    "            shuffle=False,\n",
    "            num_workers=self.config.num_workers\n",
    "        )\n",
    "\n",
    "        metrics = self.evaluate(test_dataloader)\n",
    "        return metrics\n",
    "\n",
    "    def predict(self, texts: List[str]) -> List[Dict[str, float]]:\n",
    "        self.model.eval()\n",
    "        results = []\n",
    "\n",
    "        with torch.no_grad():\n",
    "            for text in texts:\n",
    "                encoding = self.tokenizer(\n",
    "                    text,\n",
    "                    truncation=True,\n",
    "                    padding='max_length',\n",
    "                    max_length=self.config.max_length,\n",
    "                    return_tensors='pt'\n",
    "                ).to(self.config.device)\n",
    "\n",
    "                logits = self.model(encoding['input_ids'], encoding['attention_mask'])\n",
    "                probabilities = torch.sigmoid(logits).cpu().numpy()[0]\n",
    "                predictions = {emotion_labels[i]: float(prob) for i, prob in enumerate(probabilities)}\n",
    "                results.append(predictions)\n",
    "\n",
    "        return results"
   ]
  },
  {
   "cell_type": "code",
   "execution_count": 42,
   "id": "j7osZgElFb6V",
   "metadata": {
    "colab": {
     "base_uri": "https://localhost:8080/",
     "height": 113,
     "referenced_widgets": [
      "6256cb5fd2c94d35991b3796c3fe5352",
      "d62f9443c94b4911827d84a6c6b5b3b4",
      "e3b2c63254b54295afeb48c10a5379d0",
      "66715aa05c8444318d2ae0c67aff2c46",
      "0cbce4e9ba174147885eb35f35ed53c0",
      "e0a32ed0c39a4eada8cbf21345dc2588",
      "79867f0ef7a5489887f1bbaeeefb515f",
      "62aff88a33cb4cb688513c1871f5e724",
      "49c4ba7984204055baf1ea7d447b081c",
      "1c310ba824de4660998b8046fd1addb0",
      "ee10706f8e8d47aab2727b41c94a6b25",
      "ca525cd7af964d3b95a63479edaf8ccb",
      "ce41138911a849cfbb5cfdf3dd9d5713",
      "2fd4c6ab600f4ca8b4c5eacf5fb9973c",
      "4e72dc888a674caab492000908a967cf",
      "a994730134c948539bef707662f77cb4",
      "efd7a9e8d84c401da9e02c2f486b802e",
      "77e27b5d703046d9867d0cb4a142c2e7",
      "eb12117ec2414df4a5b39381fc657434",
      "ee6de43d7b614112a312ad3a0dcabc71",
      "fa027279f74243ecb3d63844adc8e261",
      "f1967a1a12c84d5eb4a08dd02ea113af",
      "5e30134030bf4655a2dc02a261622d56",
      "c89077b13cb04685a777da535d46b732",
      "c9a4f882064b45a0a8f4dab3c4f85560",
      "9faf686ebd884150875333d8ec7e568e",
      "c7d140295ccc4ea0b77440fd946891c8",
      "65b2efb64dc7414c85e57406aa6077ee",
      "4b63db0312ea423a97bbb4c066cb1caa",
      "01ae2ef764cc40a092b20a4059a2e6f3",
      "03dd8d76c9464c5b83a4e2e9d4aeab31",
      "4e19869b42ec4b379f9152c31fbc23b6",
      "bcb067f0ab0a4ae7a9cf2c730859c491"
     ]
    },
    "execution": {
     "iopub.execute_input": "2025-09-05T15:38:00.298635Z",
     "iopub.status.busy": "2025-09-05T15:38:00.298413Z",
     "iopub.status.idle": "2025-09-05T15:38:06.167860Z",
     "shell.execute_reply": "2025-09-05T15:38:06.167359Z",
     "shell.execute_reply.started": "2025-09-05T15:38:00.298619Z"
    },
    "id": "j7osZgElFb6V",
    "outputId": "e07e608e-22f4-45d8-db73-82ec29958a38"
   },
   "outputs": [],
   "source": [
    "trainer = GoEmotionsTrainer(config)\n",
    "train_dataset, val_dataset, test_dataset = trainer.load_data()\n"
   ]
  },
  {
   "cell_type": "code",
   "execution_count": 43,
   "id": "wSgKPon5Fpvd",
   "metadata": {
    "colab": {
     "base_uri": "https://localhost:8080/"
    },
    "execution": {
     "iopub.execute_input": "2025-09-05T15:38:06.720903Z",
     "iopub.status.busy": "2025-09-05T15:38:06.720687Z",
     "iopub.status.idle": "2025-09-05T15:38:07.144545Z",
     "shell.execute_reply": "2025-09-05T15:38:07.143960Z",
     "shell.execute_reply.started": "2025-09-05T15:38:06.720888Z"
    },
    "id": "wSgKPon5Fpvd",
    "outputId": "2599cf57-2a46-48e3-bdd9-151053731aa6"
   },
   "outputs": [
    {
     "name": "stdout",
     "output_type": "stream",
     "text": [
      "Fri Sep  5 15:38:06 2025       \n",
      "+-----------------------------------------------------------------------------------------+\n",
      "| NVIDIA-SMI 550.163.01             Driver Version: 550.163.01     CUDA Version: 12.6     |\n",
      "|-----------------------------------------+------------------------+----------------------+\n",
      "| GPU  Name                 Persistence-M | Bus-Id          Disp.A | Volatile Uncorr. ECC |\n",
      "| Fan  Temp   Perf          Pwr:Usage/Cap |           Memory-Usage | GPU-Util  Compute M. |\n",
      "|                                         |                        |               MIG M. |\n",
      "|=========================================+========================+======================|\n",
      "|   0  NVIDIA A10G                    On  |   00000000:00:1E.0 Off |                    0 |\n",
      "|  0%   36C    P0             61W /  300W |   11789MiB /  23028MiB |      0%      Default |\n",
      "|                                         |                        |                  N/A |\n",
      "+-----------------------------------------+------------------------+----------------------+\n",
      "                                                                                         \n",
      "+-----------------------------------------------------------------------------------------+\n",
      "| Processes:                                                                              |\n",
      "|  GPU   GI   CI        PID   Type   Process name                              GPU Memory |\n",
      "|        ID   ID                                                               Usage      |\n",
      "|=========================================================================================|\n",
      "+-----------------------------------------------------------------------------------------+\n"
     ]
    }
   ],
   "source": [
    "!nvidia-smi"
   ]
  },
  {
   "cell_type": "code",
   "execution_count": null,
   "id": "av1UwHJbFudG",
   "metadata": {
    "execution": {
     "iopub.execute_input": "2025-09-05T15:38:08.702207Z",
     "iopub.status.busy": "2025-09-05T15:38:08.701964Z",
     "iopub.status.idle": "2025-09-05T18:43:53.575797Z"
    },
    "id": "av1UwHJbFudG",
    "scrolled": true
   },
   "outputs": [
    {
     "name": "stdout",
     "output_type": "stream",
     "text": [
      "\n",
      "===== Epoch 1/8 =====\n"
     ]
    },
    {
     "name": "stderr",
     "output_type": "stream",
     "text": [
      "                                                             "
     ]
    },
    {
     "name": "stdout",
     "output_type": "stream",
     "text": [
      "Train Loss   : 0.0183\n",
      "Val Loss     : 0.0086\n",
      "Val Accuracy : 30.17%\n",
      "Val F1 Macro : 0.1057\n",
      "Val F1 Micro : 0.3973\n",
      ">> Best model saved!\n",
      "\n",
      "===== Epoch 2/8 =====\n"
     ]
    },
    {
     "name": "stderr",
     "output_type": "stream",
     "text": [
      "                                                             "
     ]
    },
    {
     "name": "stdout",
     "output_type": "stream",
     "text": [
      "Train Loss   : 0.0085\n",
      "Val Loss     : 0.0054\n",
      "Val Accuracy : 29.58%\n",
      "Val F1 Macro : 0.4043\n",
      "Val F1 Micro : 0.5476\n",
      ">> Best model saved!\n",
      "\n",
      "===== Epoch 3/8 =====\n"
     ]
    },
    {
     "name": "stderr",
     "output_type": "stream",
     "text": [
      "                                                             "
     ]
    },
    {
     "name": "stdout",
     "output_type": "stream",
     "text": [
      "Train Loss   : 0.0065\n",
      "Val Loss     : 0.0051\n",
      "Val Accuracy : 32.53%\n",
      "Val F1 Macro : 0.4621\n",
      "Val F1 Micro : 0.5778\n",
      ">> Best model saved!\n",
      "\n",
      "===== Epoch 4/8 =====\n"
     ]
    },
    {
     "name": "stderr",
     "output_type": "stream",
     "text": [
      "                                                             "
     ]
    },
    {
     "name": "stdout",
     "output_type": "stream",
     "text": [
      "Train Loss   : 0.0058\n",
      "Val Loss     : 0.0050\n",
      "Val Accuracy : 30.80%\n",
      "Val F1 Macro : 0.4688\n",
      "Val F1 Micro : 0.5767\n",
      ">> Best model saved!\n",
      "\n",
      "===== Epoch 5/8 =====\n"
     ]
    },
    {
     "name": "stderr",
     "output_type": "stream",
     "text": [
      "                                                             "
     ]
    },
    {
     "name": "stdout",
     "output_type": "stream",
     "text": [
      "Train Loss   : 0.0054\n",
      "Val Loss     : 0.0050\n",
      "Val Accuracy : 28.36%\n",
      "Val F1 Macro : 0.4758\n",
      "Val F1 Micro : 0.5718\n",
      ">> Best model saved!\n",
      "\n",
      "===== Epoch 6/8 =====\n"
     ]
    },
    {
     "name": "stderr",
     "output_type": "stream",
     "text": [
      "                                                             "
     ]
    },
    {
     "name": "stdout",
     "output_type": "stream",
     "text": [
      "Train Loss   : 0.0051\n",
      "Val Loss     : 0.0050\n",
      "Val Accuracy : 28.84%\n",
      "Val F1 Macro : 0.4897\n",
      "Val F1 Micro : 0.5698\n",
      ">> Best model saved!\n",
      "\n",
      "===== Epoch 7/8 =====\n"
     ]
    },
    {
     "name": "stderr",
     "output_type": "stream",
     "text": [
      "                                                             "
     ]
    },
    {
     "name": "stdout",
     "output_type": "stream",
     "text": [
      "Train Loss   : 0.0049\n",
      "Val Loss     : 0.0050\n",
      "Val Accuracy : 29.71%\n",
      "Val F1 Macro : 0.4962\n",
      "Val F1 Micro : 0.5771\n",
      ">> Best model saved!\n",
      "\n",
      "===== Epoch 8/8 =====\n"
     ]
    },
    {
     "name": "stderr",
     "output_type": "stream",
     "text": [
      "                                                             "
     ]
    },
    {
     "name": "stdout",
     "output_type": "stream",
     "text": [
      "Train Loss   : 0.0047\n",
      "Val Loss     : 0.0050\n",
      "Val Accuracy : 29.69%\n",
      "Val F1 Macro : 0.5003\n",
      "Val F1 Micro : 0.5740\n",
      ">> Best model saved!\n"
     ]
    }
   ],
   "source": [
    "trainer.train(train_dataset, val_dataset)"
   ]
  },
  {
   "cell_type": "code",
   "execution_count": 45,
   "id": "rhLkwz1YF0CN",
   "metadata": {
    "execution": {
     "iopub.execute_input": "2025-09-05T18:44:12.391543Z",
     "iopub.status.busy": "2025-09-05T18:44:12.391292Z",
     "iopub.status.idle": "2025-09-05T18:44:12.795783Z",
     "shell.execute_reply": "2025-09-05T18:44:12.795055Z",
     "shell.execute_reply.started": "2025-09-05T18:44:12.391523Z"
    },
    "id": "rhLkwz1YF0CN"
   },
   "outputs": [
    {
     "name": "stdout",
     "output_type": "stream",
     "text": [
      "Fri Sep  5 18:44:12 2025       \n",
      "+-----------------------------------------------------------------------------------------+\n",
      "| NVIDIA-SMI 550.163.01             Driver Version: 550.163.01     CUDA Version: 12.6     |\n",
      "|-----------------------------------------+------------------------+----------------------+\n",
      "| GPU  Name                 Persistence-M | Bus-Id          Disp.A | Volatile Uncorr. ECC |\n",
      "| Fan  Temp   Perf          Pwr:Usage/Cap |           Memory-Usage | GPU-Util  Compute M. |\n",
      "|                                         |                        |               MIG M. |\n",
      "|=========================================+========================+======================|\n",
      "|   0  NVIDIA A10G                    On  |   00000000:00:1E.0 Off |                    0 |\n",
      "|  0%   42C    P0             63W /  300W |   14317MiB /  23028MiB |      0%      Default |\n",
      "|                                         |                        |                  N/A |\n",
      "+-----------------------------------------+------------------------+----------------------+\n",
      "                                                                                         \n",
      "+-----------------------------------------------------------------------------------------+\n",
      "| Processes:                                                                              |\n",
      "|  GPU   GI   CI        PID   Type   Process name                              GPU Memory |\n",
      "|        ID   ID                                                               Usage      |\n",
      "|=========================================================================================|\n",
      "+-----------------------------------------------------------------------------------------+\n"
     ]
    }
   ],
   "source": [
    "!nvidia-smi"
   ]
  },
  {
   "cell_type": "code",
   "execution_count": 52,
   "id": "19b3535d-9660-4cfa-9d25-31c6ecb7d538",
   "metadata": {
    "execution": {
     "iopub.execute_input": "2025-09-05T18:50:27.707410Z",
     "iopub.status.busy": "2025-09-05T18:50:27.707145Z",
     "iopub.status.idle": "2025-09-05T18:50:27.711521Z",
     "shell.execute_reply": "2025-09-05T18:50:27.710953Z",
     "shell.execute_reply.started": "2025-09-05T18:50:27.707393Z"
    }
   },
   "outputs": [],
   "source": [
    "def print_test_results(test_metrics: Dict[str, float]):\n",
    "    print(\"\\n===== Test Set Results =====\")\n",
    "    print(f\"Test Loss       : {test_metrics['loss']:.4f}\")\n",
    "    print(f\"Test Accuracy   : {test_metrics['accuracy']*100:.2f}%\")\n",
    "    print(f\"Test Hamming    : {test_metrics['hamming_loss']:.4f}\")\n",
    "    print(f\"Test Jaccard    : {test_metrics['jaccard_score']:.4f}\")\n",
    "    print(f\"Test Precision (Macro): {test_metrics['precision_macro']:.4f}\")\n",
    "    print(f\"Test Recall    (Macro): {test_metrics['recall_macro']:.4f}\")\n",
    "    print(f\"Test F1 Macro   : {test_metrics['f1_macro']:.4f}\")\n",
    "    print(f\"Test Precision (Micro): {test_metrics['precision_micro']:.4f}\")\n",
    "    print(f\"Test Recall    (Micro): {test_metrics['recall_micro']:.4f}\")\n",
    "    print(f\"Test F1 Micro   : {test_metrics['f1_micro']:.4f}\")\n"
   ]
  },
  {
   "cell_type": "code",
   "execution_count": 53,
   "id": "TrTi306mF35O",
   "metadata": {
    "execution": {
     "iopub.execute_input": "2025-09-05T18:51:26.289430Z",
     "iopub.status.busy": "2025-09-05T18:51:26.289199Z",
     "iopub.status.idle": "2025-09-05T18:52:22.058952Z",
     "shell.execute_reply": "2025-09-05T18:52:22.058374Z",
     "shell.execute_reply.started": "2025-09-05T18:51:26.289414Z"
    },
    "id": "TrTi306mF35O"
   },
   "outputs": [
    {
     "name": "stderr",
     "output_type": "stream",
     "text": [
      "Evaluating:   0%|          | 0/453 [00:00<?, ?it/s]huggingface/tokenizers: The current process just got forked, after parallelism has already been used. Disabling parallelism to avoid deadlocks...\n",
      "To disable this warning, you can either:\n",
      "\t- Avoid using `tokenizers` before the fork if possible\n",
      "\t- Explicitly set the environment variable TOKENIZERS_PARALLELISM=(true | false)\n",
      "huggingface/tokenizers: The current process just got forked, after parallelism has already been used. Disabling parallelism to avoid deadlocks...\n",
      "To disable this warning, you can either:\n",
      "\t- Avoid using `tokenizers` before the fork if possible\n",
      "\t- Explicitly set the environment variable TOKENIZERS_PARALLELISM=(true | false)\n",
      "                                                             "
     ]
    },
    {
     "name": "stdout",
     "output_type": "stream",
     "text": [
      "\n",
      "===== Test Set Results =====\n",
      "Test Loss       : 0.0050\n",
      "Test Accuracy   : 28.63%\n",
      "Test Hamming    : 0.0481\n",
      "Test Jaccard    : 0.5196\n",
      "Test Precision (Macro): 0.4253\n",
      "Test Recall    (Macro): 0.6527\n",
      "Test F1 Macro   : 0.4986\n",
      "Test Precision (Micro): 0.4544\n",
      "Test Recall    (Micro): 0.7706\n",
      "Test F1 Micro   : 0.5717\n"
     ]
    },
    {
     "name": "stderr",
     "output_type": "stream",
     "text": []
    }
   ],
   "source": [
    "test_metrics = trainer.test(test_dataset)\n",
    "\n",
    "print_test_results(test_metrics)\n"
   ]
  },
  {
   "cell_type": "code",
   "execution_count": 54,
   "id": "bfd488ea-d9d0-4870-b4a3-3d00d2495cc7",
   "metadata": {
    "execution": {
     "iopub.execute_input": "2025-09-05T18:52:38.287356Z",
     "iopub.status.busy": "2025-09-05T18:52:38.287101Z",
     "iopub.status.idle": "2025-09-05T18:52:38.290176Z",
     "shell.execute_reply": "2025-09-05T18:52:38.289669Z",
     "shell.execute_reply.started": "2025-09-05T18:52:38.287334Z"
    }
   },
   "outputs": [],
   "source": [
    "sample_texts = [\n",
    "    \"I love this so much!\",\n",
    "    \"This makes me really angry\",\n",
    "    \"I'm feeling sad about this\",\n",
    "    \"I'm excited and grateful!\",\n",
    "    \"This is confusing\",\n",
    "    \"I'm worried about tomorrow\",\n",
    "    \"That was hilarious\",\n",
    "    \"I feel proud of myself\"\n",
    "]"
   ]
  },
  {
   "cell_type": "code",
   "execution_count": 55,
   "id": "1r2afVwTF8U9",
   "metadata": {
    "execution": {
     "iopub.execute_input": "2025-09-05T18:52:40.574461Z",
     "iopub.status.busy": "2025-09-05T18:52:40.574237Z",
     "iopub.status.idle": "2025-09-05T18:52:40.704056Z",
     "shell.execute_reply": "2025-09-05T18:52:40.703541Z",
     "shell.execute_reply.started": "2025-09-05T18:52:40.574446Z"
    },
    "id": "1r2afVwTF8U9"
   },
   "outputs": [],
   "source": [
    "predictions = trainer.predict(sample_texts)"
   ]
  },
  {
   "cell_type": "code",
   "execution_count": 56,
   "id": "93cy9DJGF-i2",
   "metadata": {
    "execution": {
     "iopub.execute_input": "2025-09-05T18:52:43.785392Z",
     "iopub.status.busy": "2025-09-05T18:52:43.785157Z",
     "iopub.status.idle": "2025-09-05T18:52:43.789366Z",
     "shell.execute_reply": "2025-09-05T18:52:43.788864Z",
     "shell.execute_reply.started": "2025-09-05T18:52:43.785377Z"
    },
    "id": "93cy9DJGF-i2"
   },
   "outputs": [
    {
     "name": "stdout",
     "output_type": "stream",
     "text": [
      "\n",
      "'I love this so much!'\n",
      "  love: 0.835\n",
      "  admiration: 0.222\n",
      "\n",
      "'This makes me really angry'\n",
      "  anger: 0.669\n",
      "  annoyance: 0.336\n",
      "  neutral: 0.220\n",
      "\n",
      "'I'm feeling sad about this'\n",
      "  sadness: 0.787\n",
      "  disappointment: 0.259\n",
      "  grief: 0.211\n",
      "\n",
      "'I'm excited and grateful!'\n",
      "  excitement: 0.599\n",
      "  gratitude: 0.477\n",
      "  joy: 0.471\n",
      "\n",
      "'This is confusing'\n",
      "  confusion: 0.801\n",
      "  curiosity: 0.223\n",
      "\n",
      "'I'm worried about tomorrow'\n",
      "  fear: 0.591\n",
      "  nervousness: 0.481\n",
      "  sadness: 0.316\n",
      "\n",
      "'That was hilarious'\n",
      "  amusement: 0.777\n",
      "  joy: 0.336\n",
      "\n",
      "'I feel proud of myself'\n",
      "  pride: 0.524\n",
      "  admiration: 0.409\n",
      "  excitement: 0.301\n"
     ]
    }
   ],
   "source": [
    "for text, pred in zip(sample_texts, predictions):\n",
    "    top_emotions = sorted(pred.items(), key=lambda x: x[1], reverse=True)\n",
    "    relevant = [(emotion, score) for emotion, score in top_emotions if score > 0.2][:3]\n",
    "\n",
    "    print(f\"\\n'{text}'\")\n",
    "    for emotion, score in relevant:\n",
    "        print(f\"  {emotion}: {score:.3f}\")"
   ]
  },
  {
   "cell_type": "code",
   "execution_count": 57,
   "id": "z9AOPtAJGAn9",
   "metadata": {
    "execution": {
     "iopub.execute_input": "2025-09-05T18:52:46.393537Z",
     "iopub.status.busy": "2025-09-05T18:52:46.393325Z",
     "iopub.status.idle": "2025-09-05T18:52:46.396268Z",
     "shell.execute_reply": "2025-09-05T18:52:46.395712Z",
     "shell.execute_reply.started": "2025-09-05T18:52:46.393521Z"
    },
    "id": "z9AOPtAJGAn9"
   },
   "outputs": [],
   "source": [
    "results = {\n",
    "    'test_metrics': test_metrics,\n",
    "    'config': config.__dict__,\n",
    "    'training_completed': datetime.now().isoformat()\n",
    "}\n"
   ]
  },
  {
   "cell_type": "code",
   "execution_count": 58,
   "id": "rVccT4BoGChl",
   "metadata": {
    "execution": {
     "iopub.execute_input": "2025-09-05T18:52:47.226616Z",
     "iopub.status.busy": "2025-09-05T18:52:47.226390Z",
     "iopub.status.idle": "2025-09-05T18:52:47.635012Z",
     "shell.execute_reply": "2025-09-05T18:52:47.634440Z",
     "shell.execute_reply.started": "2025-09-05T18:52:47.226599Z"
    },
    "id": "rVccT4BoGChl"
   },
   "outputs": [
    {
     "name": "stdout",
     "output_type": "stream",
     "text": [
      "Fri Sep  5 18:52:47 2025       \n",
      "+-----------------------------------------------------------------------------------------+\n",
      "| NVIDIA-SMI 550.163.01             Driver Version: 550.163.01     CUDA Version: 12.6     |\n",
      "|-----------------------------------------+------------------------+----------------------+\n",
      "| GPU  Name                 Persistence-M | Bus-Id          Disp.A | Volatile Uncorr. ECC |\n",
      "| Fan  Temp   Perf          Pwr:Usage/Cap |           Memory-Usage | GPU-Util  Compute M. |\n",
      "|                                         |                        |               MIG M. |\n",
      "|=========================================+========================+======================|\n",
      "|   0  NVIDIA A10G                    On  |   00000000:00:1E.0 Off |                    0 |\n",
      "|  0%   41C    P0             62W /  300W |   14317MiB /  23028MiB |      0%      Default |\n",
      "|                                         |                        |                  N/A |\n",
      "+-----------------------------------------+------------------------+----------------------+\n",
      "                                                                                         \n",
      "+-----------------------------------------------------------------------------------------+\n",
      "| Processes:                                                                              |\n",
      "|  GPU   GI   CI        PID   Type   Process name                              GPU Memory |\n",
      "|        ID   ID                                                               Usage      |\n",
      "|=========================================================================================|\n",
      "+-----------------------------------------------------------------------------------------+\n"
     ]
    },
    {
     "name": "stderr",
     "output_type": "stream",
     "text": [
      "huggingface/tokenizers: The current process just got forked, after parallelism has already been used. Disabling parallelism to avoid deadlocks...\n",
      "To disable this warning, you can either:\n",
      "\t- Avoid using `tokenizers` before the fork if possible\n",
      "\t- Explicitly set the environment variable TOKENIZERS_PARALLELISM=(true | false)\n"
     ]
    }
   ],
   "source": [
    "with open(os.path.join(config.results_path, 'results.json'), 'w') as f:\n",
    "    json.dump(results, f, indent=2, default=str)\n",
    "\n",
    "!nvidia-smi"
   ]
  },
  {
   "cell_type": "code",
   "execution_count": 59,
   "id": "4ZxXXzQWGDjF",
   "metadata": {
    "execution": {
     "iopub.execute_input": "2025-09-05T18:52:50.887186Z",
     "iopub.status.busy": "2025-09-05T18:52:50.886953Z",
     "iopub.status.idle": "2025-09-05T18:52:50.890496Z",
     "shell.execute_reply": "2025-09-05T18:52:50.890005Z",
     "shell.execute_reply.started": "2025-09-05T18:52:50.887166Z"
    },
    "id": "4ZxXXzQWGDjF"
   },
   "outputs": [
    {
     "name": "stdout",
     "output_type": "stream",
     "text": [
      "Training Successfully Completed!\n"
     ]
    }
   ],
   "source": [
    "print(\"Training Successfully Completed!\")"
   ]
  },
  {
   "cell_type": "code",
   "execution_count": null,
   "id": "da4b69c8-cbee-41b8-bad3-0bd63ec80440",
   "metadata": {},
   "outputs": [],
   "source": []
  }
 ],
 "metadata": {
  "colab": {
   "provenance": []
  },
  "kernelspec": {
   "display_name": "Python 3 (ipykernel)",
   "language": "python",
   "name": "python3"
  },
  "language_info": {
   "codemirror_mode": {
    "name": "ipython",
    "version": 3
   },
   "file_extension": ".py",
   "mimetype": "text/x-python",
   "name": "python",
   "nbconvert_exporter": "python",
   "pygments_lexer": "ipython3",
   "version": "3.12.9"
  },
  "widgets": {
   "application/vnd.jupyter.widget-state+json": {
    "0186fb130a0f4942bd3b492fb9aa24ee": {
     "model_module": "@jupyter-widgets/base",
     "model_module_version": "1.2.0",
     "model_name": "LayoutModel",
     "state": {
      "_model_module": "@jupyter-widgets/base",
      "_model_module_version": "1.2.0",
      "_model_name": "LayoutModel",
      "_view_count": null,
      "_view_module": "@jupyter-widgets/base",
      "_view_module_version": "1.2.0",
      "_view_name": "LayoutView",
      "align_content": null,
      "align_items": null,
      "align_self": null,
      "border": null,
      "bottom": null,
      "display": null,
      "flex": null,
      "flex_flow": null,
      "grid_area": null,
      "grid_auto_columns": null,
      "grid_auto_flow": null,
      "grid_auto_rows": null,
      "grid_column": null,
      "grid_gap": null,
      "grid_row": null,
      "grid_template_areas": null,
      "grid_template_columns": null,
      "grid_template_rows": null,
      "height": null,
      "justify_content": null,
      "justify_items": null,
      "left": null,
      "margin": null,
      "max_height": null,
      "max_width": null,
      "min_height": null,
      "min_width": null,
      "object_fit": null,
      "object_position": null,
      "order": null,
      "overflow": null,
      "overflow_x": null,
      "overflow_y": null,
      "padding": null,
      "right": null,
      "top": null,
      "visibility": null,
      "width": null
     }
    },
    "01ae2ef764cc40a092b20a4059a2e6f3": {
     "model_module": "@jupyter-widgets/base",
     "model_module_version": "1.2.0",
     "model_name": "LayoutModel",
     "state": {
      "_model_module": "@jupyter-widgets/base",
      "_model_module_version": "1.2.0",
      "_model_name": "LayoutModel",
      "_view_count": null,
      "_view_module": "@jupyter-widgets/base",
      "_view_module_version": "1.2.0",
      "_view_name": "LayoutView",
      "align_content": null,
      "align_items": null,
      "align_self": null,
      "border": null,
      "bottom": null,
      "display": null,
      "flex": null,
      "flex_flow": null,
      "grid_area": null,
      "grid_auto_columns": null,
      "grid_auto_flow": null,
      "grid_auto_rows": null,
      "grid_column": null,
      "grid_gap": null,
      "grid_row": null,
      "grid_template_areas": null,
      "grid_template_columns": null,
      "grid_template_rows": null,
      "height": null,
      "justify_content": null,
      "justify_items": null,
      "left": null,
      "margin": null,
      "max_height": null,
      "max_width": null,
      "min_height": null,
      "min_width": null,
      "object_fit": null,
      "object_position": null,
      "order": null,
      "overflow": null,
      "overflow_x": null,
      "overflow_y": null,
      "padding": null,
      "right": null,
      "top": null,
      "visibility": null,
      "width": null
     }
    },
    "03dd8d76c9464c5b83a4e2e9d4aeab31": {
     "model_module": "@jupyter-widgets/controls",
     "model_module_version": "1.5.0",
     "model_name": "ProgressStyleModel",
     "state": {
      "_model_module": "@jupyter-widgets/controls",
      "_model_module_version": "1.5.0",
      "_model_name": "ProgressStyleModel",
      "_view_count": null,
      "_view_module": "@jupyter-widgets/base",
      "_view_module_version": "1.2.0",
      "_view_name": "StyleView",
      "bar_color": null,
      "description_width": ""
     }
    },
    "079d4fc481be46afbdfe9acba25ed6a4": {
     "model_module": "@jupyter-widgets/controls",
     "model_module_version": "1.5.0",
     "model_name": "HBoxModel",
     "state": {
      "_dom_classes": [],
      "_model_module": "@jupyter-widgets/controls",
      "_model_module_version": "1.5.0",
      "_model_name": "HBoxModel",
      "_view_count": null,
      "_view_module": "@jupyter-widgets/controls",
      "_view_module_version": "1.5.0",
      "_view_name": "HBoxView",
      "box_style": "",
      "children": [
       "IPY_MODEL_9c2f1b416cfa4cc2b17b38c949940bd5",
       "IPY_MODEL_fd47f26279e843a4894e10bce95ca74f",
       "IPY_MODEL_fb3141ec8e3f4b51a8f0af79fd606b7c"
      ],
      "layout": "IPY_MODEL_5671b4d1c5be4e41b64a2fed97a0a1e3"
     }
    },
    "07df5a706af14456b754252d4f39aa91": {
     "model_module": "@jupyter-widgets/base",
     "model_module_version": "1.2.0",
     "model_name": "LayoutModel",
     "state": {
      "_model_module": "@jupyter-widgets/base",
      "_model_module_version": "1.2.0",
      "_model_name": "LayoutModel",
      "_view_count": null,
      "_view_module": "@jupyter-widgets/base",
      "_view_module_version": "1.2.0",
      "_view_name": "LayoutView",
      "align_content": null,
      "align_items": null,
      "align_self": null,
      "border": null,
      "bottom": null,
      "display": null,
      "flex": null,
      "flex_flow": null,
      "grid_area": null,
      "grid_auto_columns": null,
      "grid_auto_flow": null,
      "grid_auto_rows": null,
      "grid_column": null,
      "grid_gap": null,
      "grid_row": null,
      "grid_template_areas": null,
      "grid_template_columns": null,
      "grid_template_rows": null,
      "height": null,
      "justify_content": null,
      "justify_items": null,
      "left": null,
      "margin": null,
      "max_height": null,
      "max_width": null,
      "min_height": null,
      "min_width": null,
      "object_fit": null,
      "object_position": null,
      "order": null,
      "overflow": null,
      "overflow_x": null,
      "overflow_y": null,
      "padding": null,
      "right": null,
      "top": null,
      "visibility": null,
      "width": null
     }
    },
    "0cbce4e9ba174147885eb35f35ed53c0": {
     "model_module": "@jupyter-widgets/base",
     "model_module_version": "1.2.0",
     "model_name": "LayoutModel",
     "state": {
      "_model_module": "@jupyter-widgets/base",
      "_model_module_version": "1.2.0",
      "_model_name": "LayoutModel",
      "_view_count": null,
      "_view_module": "@jupyter-widgets/base",
      "_view_module_version": "1.2.0",
      "_view_name": "LayoutView",
      "align_content": null,
      "align_items": null,
      "align_self": null,
      "border": null,
      "bottom": null,
      "display": null,
      "flex": null,
      "flex_flow": null,
      "grid_area": null,
      "grid_auto_columns": null,
      "grid_auto_flow": null,
      "grid_auto_rows": null,
      "grid_column": null,
      "grid_gap": null,
      "grid_row": null,
      "grid_template_areas": null,
      "grid_template_columns": null,
      "grid_template_rows": null,
      "height": null,
      "justify_content": null,
      "justify_items": null,
      "left": null,
      "margin": null,
      "max_height": null,
      "max_width": null,
      "min_height": null,
      "min_width": null,
      "object_fit": null,
      "object_position": null,
      "order": null,
      "overflow": null,
      "overflow_x": null,
      "overflow_y": null,
      "padding": null,
      "right": null,
      "top": null,
      "visibility": null,
      "width": null
     }
    },
    "13274717204c4574a456008775b51f60": {
     "model_module": "@jupyter-widgets/controls",
     "model_module_version": "1.5.0",
     "model_name": "FloatProgressModel",
     "state": {
      "_dom_classes": [],
      "_model_module": "@jupyter-widgets/controls",
      "_model_module_version": "1.5.0",
      "_model_name": "FloatProgressModel",
      "_view_count": null,
      "_view_module": "@jupyter-widgets/controls",
      "_view_module_version": "1.5.0",
      "_view_name": "ProgressView",
      "bar_style": "success",
      "description": "",
      "description_tooltip": null,
      "layout": "IPY_MODEL_508b6bf6e337494b86b28eb378de9e22",
      "max": 5427,
      "min": 0,
      "orientation": "horizontal",
      "style": "IPY_MODEL_3cf4ab6fd92941778f931c49610d29c6",
      "value": 5427
     }
    },
    "19e9d9f1ea684931bdbb55b65a670f4a": {
     "model_module": "@jupyter-widgets/controls",
     "model_module_version": "1.5.0",
     "model_name": "DescriptionStyleModel",
     "state": {
      "_model_module": "@jupyter-widgets/controls",
      "_model_module_version": "1.5.0",
      "_model_name": "DescriptionStyleModel",
      "_view_count": null,
      "_view_module": "@jupyter-widgets/base",
      "_view_module_version": "1.2.0",
      "_view_name": "StyleView",
      "description_width": ""
     }
    },
    "1c310ba824de4660998b8046fd1addb0": {
     "model_module": "@jupyter-widgets/base",
     "model_module_version": "1.2.0",
     "model_name": "LayoutModel",
     "state": {
      "_model_module": "@jupyter-widgets/base",
      "_model_module_version": "1.2.0",
      "_model_name": "LayoutModel",
      "_view_count": null,
      "_view_module": "@jupyter-widgets/base",
      "_view_module_version": "1.2.0",
      "_view_name": "LayoutView",
      "align_content": null,
      "align_items": null,
      "align_self": null,
      "border": null,
      "bottom": null,
      "display": null,
      "flex": null,
      "flex_flow": null,
      "grid_area": null,
      "grid_auto_columns": null,
      "grid_auto_flow": null,
      "grid_auto_rows": null,
      "grid_column": null,
      "grid_gap": null,
      "grid_row": null,
      "grid_template_areas": null,
      "grid_template_columns": null,
      "grid_template_rows": null,
      "height": null,
      "justify_content": null,
      "justify_items": null,
      "left": null,
      "margin": null,
      "max_height": null,
      "max_width": null,
      "min_height": null,
      "min_width": null,
      "object_fit": null,
      "object_position": null,
      "order": null,
      "overflow": null,
      "overflow_x": null,
      "overflow_y": null,
      "padding": null,
      "right": null,
      "top": null,
      "visibility": null,
      "width": null
     }
    },
    "23c90c690b16446f8fe0729b157bb833": {
     "model_module": "@jupyter-widgets/base",
     "model_module_version": "1.2.0",
     "model_name": "LayoutModel",
     "state": {
      "_model_module": "@jupyter-widgets/base",
      "_model_module_version": "1.2.0",
      "_model_name": "LayoutModel",
      "_view_count": null,
      "_view_module": "@jupyter-widgets/base",
      "_view_module_version": "1.2.0",
      "_view_name": "LayoutView",
      "align_content": null,
      "align_items": null,
      "align_self": null,
      "border": null,
      "bottom": null,
      "display": null,
      "flex": null,
      "flex_flow": null,
      "grid_area": null,
      "grid_auto_columns": null,
      "grid_auto_flow": null,
      "grid_auto_rows": null,
      "grid_column": null,
      "grid_gap": null,
      "grid_row": null,
      "grid_template_areas": null,
      "grid_template_columns": null,
      "grid_template_rows": null,
      "height": null,
      "justify_content": null,
      "justify_items": null,
      "left": null,
      "margin": null,
      "max_height": null,
      "max_width": null,
      "min_height": null,
      "min_width": null,
      "object_fit": null,
      "object_position": null,
      "order": null,
      "overflow": null,
      "overflow_x": null,
      "overflow_y": null,
      "padding": null,
      "right": null,
      "top": null,
      "visibility": null,
      "width": null
     }
    },
    "26b10aa473ea4c56a1aca0a5d8307c1a": {
     "model_module": "@jupyter-widgets/base",
     "model_module_version": "1.2.0",
     "model_name": "LayoutModel",
     "state": {
      "_model_module": "@jupyter-widgets/base",
      "_model_module_version": "1.2.0",
      "_model_name": "LayoutModel",
      "_view_count": null,
      "_view_module": "@jupyter-widgets/base",
      "_view_module_version": "1.2.0",
      "_view_name": "LayoutView",
      "align_content": null,
      "align_items": null,
      "align_self": null,
      "border": null,
      "bottom": null,
      "display": null,
      "flex": null,
      "flex_flow": null,
      "grid_area": null,
      "grid_auto_columns": null,
      "grid_auto_flow": null,
      "grid_auto_rows": null,
      "grid_column": null,
      "grid_gap": null,
      "grid_row": null,
      "grid_template_areas": null,
      "grid_template_columns": null,
      "grid_template_rows": null,
      "height": null,
      "justify_content": null,
      "justify_items": null,
      "left": null,
      "margin": null,
      "max_height": null,
      "max_width": null,
      "min_height": null,
      "min_width": null,
      "object_fit": null,
      "object_position": null,
      "order": null,
      "overflow": null,
      "overflow_x": null,
      "overflow_y": null,
      "padding": null,
      "right": null,
      "top": null,
      "visibility": null,
      "width": null
     }
    },
    "26e9736d19df458995dbe4214dbb41c5": {
     "model_module": "@jupyter-widgets/base",
     "model_module_version": "1.2.0",
     "model_name": "LayoutModel",
     "state": {
      "_model_module": "@jupyter-widgets/base",
      "_model_module_version": "1.2.0",
      "_model_name": "LayoutModel",
      "_view_count": null,
      "_view_module": "@jupyter-widgets/base",
      "_view_module_version": "1.2.0",
      "_view_name": "LayoutView",
      "align_content": null,
      "align_items": null,
      "align_self": null,
      "border": null,
      "bottom": null,
      "display": null,
      "flex": null,
      "flex_flow": null,
      "grid_area": null,
      "grid_auto_columns": null,
      "grid_auto_flow": null,
      "grid_auto_rows": null,
      "grid_column": null,
      "grid_gap": null,
      "grid_row": null,
      "grid_template_areas": null,
      "grid_template_columns": null,
      "grid_template_rows": null,
      "height": null,
      "justify_content": null,
      "justify_items": null,
      "left": null,
      "margin": null,
      "max_height": null,
      "max_width": null,
      "min_height": null,
      "min_width": null,
      "object_fit": null,
      "object_position": null,
      "order": null,
      "overflow": null,
      "overflow_x": null,
      "overflow_y": null,
      "padding": null,
      "right": null,
      "top": null,
      "visibility": null,
      "width": null
     }
    },
    "295f0f238255442b89d679f535055aff": {
     "model_module": "@jupyter-widgets/controls",
     "model_module_version": "1.5.0",
     "model_name": "HTMLModel",
     "state": {
      "_dom_classes": [],
      "_model_module": "@jupyter-widgets/controls",
      "_model_module_version": "1.5.0",
      "_model_name": "HTMLModel",
      "_view_count": null,
      "_view_module": "@jupyter-widgets/controls",
      "_view_module_version": "1.5.0",
      "_view_name": "HTMLView",
      "description": "",
      "description_tooltip": null,
      "layout": "IPY_MODEL_6f90e3bb55be499c9e658213446fb4c7",
      "placeholder": "​",
      "style": "IPY_MODEL_c62ab6b371c642f0aa3fea7d97c5ec3b",
      "value": " 43410/43410 [00:00&lt;00:00, 384159.58 examples/s]"
     }
    },
    "298b5b60b2ab4a7699bcd0aff96415fc": {
     "model_module": "@jupyter-widgets/controls",
     "model_module_version": "1.5.0",
     "model_name": "ProgressStyleModel",
     "state": {
      "_model_module": "@jupyter-widgets/controls",
      "_model_module_version": "1.5.0",
      "_model_name": "ProgressStyleModel",
      "_view_count": null,
      "_view_module": "@jupyter-widgets/base",
      "_view_module_version": "1.2.0",
      "_view_name": "StyleView",
      "bar_color": null,
      "description_width": ""
     }
    },
    "2e64ff2923244383825274523f4c5288": {
     "model_module": "@jupyter-widgets/controls",
     "model_module_version": "1.5.0",
     "model_name": "DescriptionStyleModel",
     "state": {
      "_model_module": "@jupyter-widgets/controls",
      "_model_module_version": "1.5.0",
      "_model_name": "DescriptionStyleModel",
      "_view_count": null,
      "_view_module": "@jupyter-widgets/base",
      "_view_module_version": "1.2.0",
      "_view_name": "StyleView",
      "description_width": ""
     }
    },
    "2fd4c6ab600f4ca8b4c5eacf5fb9973c": {
     "model_module": "@jupyter-widgets/controls",
     "model_module_version": "1.5.0",
     "model_name": "FloatProgressModel",
     "state": {
      "_dom_classes": [],
      "_model_module": "@jupyter-widgets/controls",
      "_model_module_version": "1.5.0",
      "_model_name": "FloatProgressModel",
      "_view_count": null,
      "_view_module": "@jupyter-widgets/controls",
      "_view_module_version": "1.5.0",
      "_view_name": "ProgressView",
      "bar_style": "success",
      "description": "",
      "description_tooltip": null,
      "layout": "IPY_MODEL_eb12117ec2414df4a5b39381fc657434",
      "max": 579,
      "min": 0,
      "orientation": "horizontal",
      "style": "IPY_MODEL_ee6de43d7b614112a312ad3a0dcabc71",
      "value": 579
     }
    },
    "36655e3634614cd39aaac492af488706": {
     "model_module": "@jupyter-widgets/controls",
     "model_module_version": "1.5.0",
     "model_name": "DescriptionStyleModel",
     "state": {
      "_model_module": "@jupyter-widgets/controls",
      "_model_module_version": "1.5.0",
      "_model_name": "DescriptionStyleModel",
      "_view_count": null,
      "_view_module": "@jupyter-widgets/base",
      "_view_module_version": "1.2.0",
      "_view_name": "StyleView",
      "description_width": ""
     }
    },
    "36f1d26ebe3148f4a3d8dd5ed57a9353": {
     "model_module": "@jupyter-widgets/controls",
     "model_module_version": "1.5.0",
     "model_name": "FloatProgressModel",
     "state": {
      "_dom_classes": [],
      "_model_module": "@jupyter-widgets/controls",
      "_model_module_version": "1.5.0",
      "_model_name": "FloatProgressModel",
      "_view_count": null,
      "_view_module": "@jupyter-widgets/controls",
      "_view_module_version": "1.5.0",
      "_view_name": "ProgressView",
      "bar_style": "success",
      "description": "",
      "description_tooltip": null,
      "layout": "IPY_MODEL_76d7a1c33ea84b4dae0b79a06f8b9d07",
      "max": 346630,
      "min": 0,
      "orientation": "horizontal",
      "style": "IPY_MODEL_3c04c4815ba94b47bcb21bc75b630729",
      "value": 346630
     }
    },
    "3a739923f5c246c1a86db5c370faab6f": {
     "model_module": "@jupyter-widgets/controls",
     "model_module_version": "1.5.0",
     "model_name": "HBoxModel",
     "state": {
      "_dom_classes": [],
      "_model_module": "@jupyter-widgets/controls",
      "_model_module_version": "1.5.0",
      "_model_name": "HBoxModel",
      "_view_count": null,
      "_view_module": "@jupyter-widgets/controls",
      "_view_module_version": "1.5.0",
      "_view_name": "HBoxView",
      "box_style": "",
      "children": [
       "IPY_MODEL_6f0cf6f528ad4e3f8ebbb0198451e8b5",
       "IPY_MODEL_44425604fe3f48838a292f5d2f7cdf9c",
       "IPY_MODEL_a24a4af6ba9b423abea104905ad8e697"
      ],
      "layout": "IPY_MODEL_9b52037aa58442369ae9cd59942e012a"
     }
    },
    "3c04c4815ba94b47bcb21bc75b630729": {
     "model_module": "@jupyter-widgets/controls",
     "model_module_version": "1.5.0",
     "model_name": "ProgressStyleModel",
     "state": {
      "_model_module": "@jupyter-widgets/controls",
      "_model_module_version": "1.5.0",
      "_model_name": "ProgressStyleModel",
      "_view_count": null,
      "_view_module": "@jupyter-widgets/base",
      "_view_module_version": "1.2.0",
      "_view_name": "StyleView",
      "bar_color": null,
      "description_width": ""
     }
    },
    "3cf4ab6fd92941778f931c49610d29c6": {
     "model_module": "@jupyter-widgets/controls",
     "model_module_version": "1.5.0",
     "model_name": "ProgressStyleModel",
     "state": {
      "_model_module": "@jupyter-widgets/controls",
      "_model_module_version": "1.5.0",
      "_model_name": "ProgressStyleModel",
      "_view_count": null,
      "_view_module": "@jupyter-widgets/base",
      "_view_module_version": "1.2.0",
      "_view_name": "StyleView",
      "bar_color": null,
      "description_width": ""
     }
    },
    "3e91291f4bb24e9caabff50993f7e0e2": {
     "model_module": "@jupyter-widgets/controls",
     "model_module_version": "1.5.0",
     "model_name": "HTMLModel",
     "state": {
      "_dom_classes": [],
      "_model_module": "@jupyter-widgets/controls",
      "_model_module_version": "1.5.0",
      "_model_name": "HTMLModel",
      "_view_count": null,
      "_view_module": "@jupyter-widgets/controls",
      "_view_module_version": "1.5.0",
      "_view_name": "HTMLView",
      "description": "",
      "description_tooltip": null,
      "layout": "IPY_MODEL_7301b6dc411c4d4aa7f8e4c80bdb75ac",
      "placeholder": "​",
      "style": "IPY_MODEL_50b719af95314f84888862238f7b524b",
      "value": "Generating train split: 100%"
     }
    },
    "44425604fe3f48838a292f5d2f7cdf9c": {
     "model_module": "@jupyter-widgets/controls",
     "model_module_version": "1.5.0",
     "model_name": "FloatProgressModel",
     "state": {
      "_dom_classes": [],
      "_model_module": "@jupyter-widgets/controls",
      "_model_module_version": "1.5.0",
      "_model_name": "FloatProgressModel",
      "_view_count": null,
      "_view_module": "@jupyter-widgets/controls",
      "_view_module_version": "1.5.0",
      "_view_name": "ProgressView",
      "bar_style": "success",
      "description": "",
      "description_tooltip": null,
      "layout": "IPY_MODEL_b6311f01d4754c948a417888f9de807b",
      "max": 350063,
      "min": 0,
      "orientation": "horizontal",
      "style": "IPY_MODEL_b364710129cc45b6b4629d8bcc41c607",
      "value": 350063
     }
    },
    "458914cccb674b20829686cb679e2e9b": {
     "model_module": "@jupyter-widgets/base",
     "model_module_version": "1.2.0",
     "model_name": "LayoutModel",
     "state": {
      "_model_module": "@jupyter-widgets/base",
      "_model_module_version": "1.2.0",
      "_model_name": "LayoutModel",
      "_view_count": null,
      "_view_module": "@jupyter-widgets/base",
      "_view_module_version": "1.2.0",
      "_view_name": "LayoutView",
      "align_content": null,
      "align_items": null,
      "align_self": null,
      "border": null,
      "bottom": null,
      "display": null,
      "flex": null,
      "flex_flow": null,
      "grid_area": null,
      "grid_auto_columns": null,
      "grid_auto_flow": null,
      "grid_auto_rows": null,
      "grid_column": null,
      "grid_gap": null,
      "grid_row": null,
      "grid_template_areas": null,
      "grid_template_columns": null,
      "grid_template_rows": null,
      "height": null,
      "justify_content": null,
      "justify_items": null,
      "left": null,
      "margin": null,
      "max_height": null,
      "max_width": null,
      "min_height": null,
      "min_width": null,
      "object_fit": null,
      "object_position": null,
      "order": null,
      "overflow": null,
      "overflow_x": null,
      "overflow_y": null,
      "padding": null,
      "right": null,
      "top": null,
      "visibility": null,
      "width": null
     }
    },
    "463a147779fb43eeaaf9e004085ebf2e": {
     "model_module": "@jupyter-widgets/controls",
     "model_module_version": "1.5.0",
     "model_name": "DescriptionStyleModel",
     "state": {
      "_model_module": "@jupyter-widgets/controls",
      "_model_module_version": "1.5.0",
      "_model_name": "DescriptionStyleModel",
      "_view_count": null,
      "_view_module": "@jupyter-widgets/base",
      "_view_module_version": "1.2.0",
      "_view_name": "StyleView",
      "description_width": ""
     }
    },
    "48693ff062c34aed863d60ccd000be48": {
     "model_module": "@jupyter-widgets/controls",
     "model_module_version": "1.5.0",
     "model_name": "DescriptionStyleModel",
     "state": {
      "_model_module": "@jupyter-widgets/controls",
      "_model_module_version": "1.5.0",
      "_model_name": "DescriptionStyleModel",
      "_view_count": null,
      "_view_module": "@jupyter-widgets/base",
      "_view_module_version": "1.2.0",
      "_view_name": "StyleView",
      "description_width": ""
     }
    },
    "49c4ba7984204055baf1ea7d447b081c": {
     "model_module": "@jupyter-widgets/controls",
     "model_module_version": "1.5.0",
     "model_name": "ProgressStyleModel",
     "state": {
      "_model_module": "@jupyter-widgets/controls",
      "_model_module_version": "1.5.0",
      "_model_name": "ProgressStyleModel",
      "_view_count": null,
      "_view_module": "@jupyter-widgets/base",
      "_view_module_version": "1.2.0",
      "_view_name": "StyleView",
      "bar_color": null,
      "description_width": ""
     }
    },
    "4b63db0312ea423a97bbb4c066cb1caa": {
     "model_module": "@jupyter-widgets/controls",
     "model_module_version": "1.5.0",
     "model_name": "DescriptionStyleModel",
     "state": {
      "_model_module": "@jupyter-widgets/controls",
      "_model_module_version": "1.5.0",
      "_model_name": "DescriptionStyleModel",
      "_view_count": null,
      "_view_module": "@jupyter-widgets/base",
      "_view_module_version": "1.2.0",
      "_view_name": "StyleView",
      "description_width": ""
     }
    },
    "4e19869b42ec4b379f9152c31fbc23b6": {
     "model_module": "@jupyter-widgets/base",
     "model_module_version": "1.2.0",
     "model_name": "LayoutModel",
     "state": {
      "_model_module": "@jupyter-widgets/base",
      "_model_module_version": "1.2.0",
      "_model_name": "LayoutModel",
      "_view_count": null,
      "_view_module": "@jupyter-widgets/base",
      "_view_module_version": "1.2.0",
      "_view_name": "LayoutView",
      "align_content": null,
      "align_items": null,
      "align_self": null,
      "border": null,
      "bottom": null,
      "display": null,
      "flex": null,
      "flex_flow": null,
      "grid_area": null,
      "grid_auto_columns": null,
      "grid_auto_flow": null,
      "grid_auto_rows": null,
      "grid_column": null,
      "grid_gap": null,
      "grid_row": null,
      "grid_template_areas": null,
      "grid_template_columns": null,
      "grid_template_rows": null,
      "height": null,
      "justify_content": null,
      "justify_items": null,
      "left": null,
      "margin": null,
      "max_height": null,
      "max_width": null,
      "min_height": null,
      "min_width": null,
      "object_fit": null,
      "object_position": null,
      "order": null,
      "overflow": null,
      "overflow_x": null,
      "overflow_y": null,
      "padding": null,
      "right": null,
      "top": null,
      "visibility": null,
      "width": null
     }
    },
    "4e5bfd0af9ea49a4b0273ebf6909a9b5": {
     "model_module": "@jupyter-widgets/controls",
     "model_module_version": "1.5.0",
     "model_name": "DescriptionStyleModel",
     "state": {
      "_model_module": "@jupyter-widgets/controls",
      "_model_module_version": "1.5.0",
      "_model_name": "DescriptionStyleModel",
      "_view_count": null,
      "_view_module": "@jupyter-widgets/base",
      "_view_module_version": "1.2.0",
      "_view_name": "StyleView",
      "description_width": ""
     }
    },
    "4e72dc888a674caab492000908a967cf": {
     "model_module": "@jupyter-widgets/controls",
     "model_module_version": "1.5.0",
     "model_name": "HTMLModel",
     "state": {
      "_dom_classes": [],
      "_model_module": "@jupyter-widgets/controls",
      "_model_module_version": "1.5.0",
      "_model_name": "HTMLModel",
      "_view_count": null,
      "_view_module": "@jupyter-widgets/controls",
      "_view_module_version": "1.5.0",
      "_view_name": "HTMLView",
      "description": "",
      "description_tooltip": null,
      "layout": "IPY_MODEL_fa027279f74243ecb3d63844adc8e261",
      "placeholder": "​",
      "style": "IPY_MODEL_f1967a1a12c84d5eb4a08dd02ea113af",
      "value": " 579/579 [00:00&lt;00:00, 11.4kB/s]"
     }
    },
    "5039540f48b148da8cc3b6e2fe80520f": {
     "model_module": "@jupyter-widgets/controls",
     "model_module_version": "1.5.0",
     "model_name": "FloatProgressModel",
     "state": {
      "_dom_classes": [],
      "_model_module": "@jupyter-widgets/controls",
      "_model_module_version": "1.5.0",
      "_model_name": "FloatProgressModel",
      "_view_count": null,
      "_view_module": "@jupyter-widgets/controls",
      "_view_module_version": "1.5.0",
      "_view_name": "ProgressView",
      "bar_style": "success",
      "description": "",
      "description_tooltip": null,
      "layout": "IPY_MODEL_a4ce8357f625402caf1e733df5b9f5f9",
      "max": 5426,
      "min": 0,
      "orientation": "horizontal",
      "style": "IPY_MODEL_f1f42a0e8d9a48a8b69005b613f93277",
      "value": 5426
     }
    },
    "508b6bf6e337494b86b28eb378de9e22": {
     "model_module": "@jupyter-widgets/base",
     "model_module_version": "1.2.0",
     "model_name": "LayoutModel",
     "state": {
      "_model_module": "@jupyter-widgets/base",
      "_model_module_version": "1.2.0",
      "_model_name": "LayoutModel",
      "_view_count": null,
      "_view_module": "@jupyter-widgets/base",
      "_view_module_version": "1.2.0",
      "_view_name": "LayoutView",
      "align_content": null,
      "align_items": null,
      "align_self": null,
      "border": null,
      "bottom": null,
      "display": null,
      "flex": null,
      "flex_flow": null,
      "grid_area": null,
      "grid_auto_columns": null,
      "grid_auto_flow": null,
      "grid_auto_rows": null,
      "grid_column": null,
      "grid_gap": null,
      "grid_row": null,
      "grid_template_areas": null,
      "grid_template_columns": null,
      "grid_template_rows": null,
      "height": null,
      "justify_content": null,
      "justify_items": null,
      "left": null,
      "margin": null,
      "max_height": null,
      "max_width": null,
      "min_height": null,
      "min_width": null,
      "object_fit": null,
      "object_position": null,
      "order": null,
      "overflow": null,
      "overflow_x": null,
      "overflow_y": null,
      "padding": null,
      "right": null,
      "top": null,
      "visibility": null,
      "width": null
     }
    },
    "50b719af95314f84888862238f7b524b": {
     "model_module": "@jupyter-widgets/controls",
     "model_module_version": "1.5.0",
     "model_name": "DescriptionStyleModel",
     "state": {
      "_model_module": "@jupyter-widgets/controls",
      "_model_module_version": "1.5.0",
      "_model_name": "DescriptionStyleModel",
      "_view_count": null,
      "_view_module": "@jupyter-widgets/base",
      "_view_module_version": "1.2.0",
      "_view_name": "StyleView",
      "description_width": ""
     }
    },
    "553dc83fa5f54931a068863bf373cbca": {
     "model_module": "@jupyter-widgets/controls",
     "model_module_version": "1.5.0",
     "model_name": "DescriptionStyleModel",
     "state": {
      "_model_module": "@jupyter-widgets/controls",
      "_model_module_version": "1.5.0",
      "_model_name": "DescriptionStyleModel",
      "_view_count": null,
      "_view_module": "@jupyter-widgets/base",
      "_view_module_version": "1.2.0",
      "_view_name": "StyleView",
      "description_width": ""
     }
    },
    "56045cda25e24bc9a8045a0835b1375b": {
     "model_module": "@jupyter-widgets/base",
     "model_module_version": "1.2.0",
     "model_name": "LayoutModel",
     "state": {
      "_model_module": "@jupyter-widgets/base",
      "_model_module_version": "1.2.0",
      "_model_name": "LayoutModel",
      "_view_count": null,
      "_view_module": "@jupyter-widgets/base",
      "_view_module_version": "1.2.0",
      "_view_name": "LayoutView",
      "align_content": null,
      "align_items": null,
      "align_self": null,
      "border": null,
      "bottom": null,
      "display": null,
      "flex": null,
      "flex_flow": null,
      "grid_area": null,
      "grid_auto_columns": null,
      "grid_auto_flow": null,
      "grid_auto_rows": null,
      "grid_column": null,
      "grid_gap": null,
      "grid_row": null,
      "grid_template_areas": null,
      "grid_template_columns": null,
      "grid_template_rows": null,
      "height": null,
      "justify_content": null,
      "justify_items": null,
      "left": null,
      "margin": null,
      "max_height": null,
      "max_width": null,
      "min_height": null,
      "min_width": null,
      "object_fit": null,
      "object_position": null,
      "order": null,
      "overflow": null,
      "overflow_x": null,
      "overflow_y": null,
      "padding": null,
      "right": null,
      "top": null,
      "visibility": null,
      "width": null
     }
    },
    "5671b4d1c5be4e41b64a2fed97a0a1e3": {
     "model_module": "@jupyter-widgets/base",
     "model_module_version": "1.2.0",
     "model_name": "LayoutModel",
     "state": {
      "_model_module": "@jupyter-widgets/base",
      "_model_module_version": "1.2.0",
      "_model_name": "LayoutModel",
      "_view_count": null,
      "_view_module": "@jupyter-widgets/base",
      "_view_module_version": "1.2.0",
      "_view_name": "LayoutView",
      "align_content": null,
      "align_items": null,
      "align_self": null,
      "border": null,
      "bottom": null,
      "display": null,
      "flex": null,
      "flex_flow": null,
      "grid_area": null,
      "grid_auto_columns": null,
      "grid_auto_flow": null,
      "grid_auto_rows": null,
      "grid_column": null,
      "grid_gap": null,
      "grid_row": null,
      "grid_template_areas": null,
      "grid_template_columns": null,
      "grid_template_rows": null,
      "height": null,
      "justify_content": null,
      "justify_items": null,
      "left": null,
      "margin": null,
      "max_height": null,
      "max_width": null,
      "min_height": null,
      "min_width": null,
      "object_fit": null,
      "object_position": null,
      "order": null,
      "overflow": null,
      "overflow_x": null,
      "overflow_y": null,
      "padding": null,
      "right": null,
      "top": null,
      "visibility": null,
      "width": null
     }
    },
    "577133bd5ccf43349a161dfacb1dfe2d": {
     "model_module": "@jupyter-widgets/controls",
     "model_module_version": "1.5.0",
     "model_name": "FloatProgressModel",
     "state": {
      "_dom_classes": [],
      "_model_module": "@jupyter-widgets/controls",
      "_model_module_version": "1.5.0",
      "_model_name": "FloatProgressModel",
      "_view_count": null,
      "_view_module": "@jupyter-widgets/controls",
      "_view_module_version": "1.5.0",
      "_view_name": "ProgressView",
      "bar_style": "success",
      "description": "",
      "description_tooltip": null,
      "layout": "IPY_MODEL_a0847d42d6044ffeab75b71cbee53636",
      "max": 1,
      "min": 0,
      "orientation": "horizontal",
      "style": "IPY_MODEL_d70fb41514164ec388c8dce4fb32fe55",
      "value": 1
     }
    },
    "5d38ecb25ad647208a48f48017a3e9f4": {
     "model_module": "@jupyter-widgets/controls",
     "model_module_version": "1.5.0",
     "model_name": "HTMLModel",
     "state": {
      "_dom_classes": [],
      "_model_module": "@jupyter-widgets/controls",
      "_model_module_version": "1.5.0",
      "_model_name": "HTMLModel",
      "_view_count": null,
      "_view_module": "@jupyter-widgets/controls",
      "_view_module_version": "1.5.0",
      "_view_name": "HTMLView",
      "description": "",
      "description_tooltip": null,
      "layout": "IPY_MODEL_8fc811c7b4fd41a49f9ddaeb90a7467f",
      "placeholder": "​",
      "style": "IPY_MODEL_2e64ff2923244383825274523f4c5288",
      "value": " 9.40k/? [00:00&lt;00:00, 398kB/s]"
     }
    },
    "5e30134030bf4655a2dc02a261622d56": {
     "model_module": "@jupyter-widgets/controls",
     "model_module_version": "1.5.0",
     "model_name": "HBoxModel",
     "state": {
      "_dom_classes": [],
      "_model_module": "@jupyter-widgets/controls",
      "_model_module_version": "1.5.0",
      "_model_name": "HBoxModel",
      "_view_count": null,
      "_view_module": "@jupyter-widgets/controls",
      "_view_module_version": "1.5.0",
      "_view_name": "HBoxView",
      "box_style": "",
      "children": [
       "IPY_MODEL_c89077b13cb04685a777da535d46b732",
       "IPY_MODEL_c9a4f882064b45a0a8f4dab3c4f85560",
       "IPY_MODEL_9faf686ebd884150875333d8ec7e568e"
      ],
      "layout": "IPY_MODEL_c7d140295ccc4ea0b77440fd946891c8"
     }
    },
    "5ff483db651542f3982d73974fe424d8": {
     "model_module": "@jupyter-widgets/controls",
     "model_module_version": "1.5.0",
     "model_name": "HBoxModel",
     "state": {
      "_dom_classes": [],
      "_model_module": "@jupyter-widgets/controls",
      "_model_module_version": "1.5.0",
      "_model_name": "HBoxModel",
      "_view_count": null,
      "_view_module": "@jupyter-widgets/controls",
      "_view_module_version": "1.5.0",
      "_view_name": "HBoxView",
      "box_style": "",
      "children": [
       "IPY_MODEL_7c3fcf17c28443b9b428f2261aaa849b",
       "IPY_MODEL_5039540f48b148da8cc3b6e2fe80520f",
       "IPY_MODEL_6571e15d3b874cd289926257edd60678"
      ],
      "layout": "IPY_MODEL_cd5c9fad9f1a46a885a82c2008579b9f"
     }
    },
    "6018fb08bb094fa18755005e18ec4215": {
     "model_module": "@jupyter-widgets/controls",
     "model_module_version": "1.5.0",
     "model_name": "HTMLModel",
     "state": {
      "_dom_classes": [],
      "_model_module": "@jupyter-widgets/controls",
      "_model_module_version": "1.5.0",
      "_model_name": "HTMLModel",
      "_view_count": null,
      "_view_module": "@jupyter-widgets/controls",
      "_view_module_version": "1.5.0",
      "_view_name": "HTMLView",
      "description": "",
      "description_tooltip": null,
      "layout": "IPY_MODEL_877f04dced0341bbb977b50d2a8f7677",
      "placeholder": "​",
      "style": "IPY_MODEL_4e5bfd0af9ea49a4b0273ebf6909a9b5",
      "value": "README.md: "
     }
    },
    "603061f956a6433f99547c1391ae7cb1": {
     "model_module": "@jupyter-widgets/controls",
     "model_module_version": "1.5.0",
     "model_name": "HBoxModel",
     "state": {
      "_dom_classes": [],
      "_model_module": "@jupyter-widgets/controls",
      "_model_module_version": "1.5.0",
      "_model_name": "HBoxModel",
      "_view_count": null,
      "_view_module": "@jupyter-widgets/controls",
      "_view_module_version": "1.5.0",
      "_view_name": "HBoxView",
      "box_style": "",
      "children": [
       "IPY_MODEL_c2877126706d4cbc894a9226a8831f5c",
       "IPY_MODEL_13274717204c4574a456008775b51f60",
       "IPY_MODEL_cdce129f84d8403496f9754f0e229d9a"
      ],
      "layout": "IPY_MODEL_88cac655415942248d162df8b5666574"
     }
    },
    "60f4f0a8b5ab40099603c880fe5607b9": {
     "model_module": "@jupyter-widgets/controls",
     "model_module_version": "1.5.0",
     "model_name": "DescriptionStyleModel",
     "state": {
      "_model_module": "@jupyter-widgets/controls",
      "_model_module_version": "1.5.0",
      "_model_name": "DescriptionStyleModel",
      "_view_count": null,
      "_view_module": "@jupyter-widgets/base",
      "_view_module_version": "1.2.0",
      "_view_name": "StyleView",
      "description_width": ""
     }
    },
    "6256cb5fd2c94d35991b3796c3fe5352": {
     "model_module": "@jupyter-widgets/controls",
     "model_module_version": "1.5.0",
     "model_name": "HBoxModel",
     "state": {
      "_dom_classes": [],
      "_model_module": "@jupyter-widgets/controls",
      "_model_module_version": "1.5.0",
      "_model_name": "HBoxModel",
      "_view_count": null,
      "_view_module": "@jupyter-widgets/controls",
      "_view_module_version": "1.5.0",
      "_view_name": "HBoxView",
      "box_style": "",
      "children": [
       "IPY_MODEL_d62f9443c94b4911827d84a6c6b5b3b4",
       "IPY_MODEL_e3b2c63254b54295afeb48c10a5379d0",
       "IPY_MODEL_66715aa05c8444318d2ae0c67aff2c46"
      ],
      "layout": "IPY_MODEL_0cbce4e9ba174147885eb35f35ed53c0"
     }
    },
    "62aff88a33cb4cb688513c1871f5e724": {
     "model_module": "@jupyter-widgets/base",
     "model_module_version": "1.2.0",
     "model_name": "LayoutModel",
     "state": {
      "_model_module": "@jupyter-widgets/base",
      "_model_module_version": "1.2.0",
      "_model_name": "LayoutModel",
      "_view_count": null,
      "_view_module": "@jupyter-widgets/base",
      "_view_module_version": "1.2.0",
      "_view_name": "LayoutView",
      "align_content": null,
      "align_items": null,
      "align_self": null,
      "border": null,
      "bottom": null,
      "display": null,
      "flex": null,
      "flex_flow": null,
      "grid_area": null,
      "grid_auto_columns": null,
      "grid_auto_flow": null,
      "grid_auto_rows": null,
      "grid_column": null,
      "grid_gap": null,
      "grid_row": null,
      "grid_template_areas": null,
      "grid_template_columns": null,
      "grid_template_rows": null,
      "height": null,
      "justify_content": null,
      "justify_items": null,
      "left": null,
      "margin": null,
      "max_height": null,
      "max_width": null,
      "min_height": null,
      "min_width": null,
      "object_fit": null,
      "object_position": null,
      "order": null,
      "overflow": null,
      "overflow_x": null,
      "overflow_y": null,
      "padding": null,
      "right": null,
      "top": null,
      "visibility": null,
      "width": null
     }
    },
    "65561fcc99514c93b33e114c5cbf5e75": {
     "model_module": "@jupyter-widgets/base",
     "model_module_version": "1.2.0",
     "model_name": "LayoutModel",
     "state": {
      "_model_module": "@jupyter-widgets/base",
      "_model_module_version": "1.2.0",
      "_model_name": "LayoutModel",
      "_view_count": null,
      "_view_module": "@jupyter-widgets/base",
      "_view_module_version": "1.2.0",
      "_view_name": "LayoutView",
      "align_content": null,
      "align_items": null,
      "align_self": null,
      "border": null,
      "bottom": null,
      "display": null,
      "flex": null,
      "flex_flow": null,
      "grid_area": null,
      "grid_auto_columns": null,
      "grid_auto_flow": null,
      "grid_auto_rows": null,
      "grid_column": null,
      "grid_gap": null,
      "grid_row": null,
      "grid_template_areas": null,
      "grid_template_columns": null,
      "grid_template_rows": null,
      "height": null,
      "justify_content": null,
      "justify_items": null,
      "left": null,
      "margin": null,
      "max_height": null,
      "max_width": null,
      "min_height": null,
      "min_width": null,
      "object_fit": null,
      "object_position": null,
      "order": null,
      "overflow": null,
      "overflow_x": null,
      "overflow_y": null,
      "padding": null,
      "right": null,
      "top": null,
      "visibility": null,
      "width": null
     }
    },
    "6571e15d3b874cd289926257edd60678": {
     "model_module": "@jupyter-widgets/controls",
     "model_module_version": "1.5.0",
     "model_name": "HTMLModel",
     "state": {
      "_dom_classes": [],
      "_model_module": "@jupyter-widgets/controls",
      "_model_module_version": "1.5.0",
      "_model_name": "HTMLModel",
      "_view_count": null,
      "_view_module": "@jupyter-widgets/controls",
      "_view_module_version": "1.5.0",
      "_view_name": "HTMLView",
      "description": "",
      "description_tooltip": null,
      "layout": "IPY_MODEL_65561fcc99514c93b33e114c5cbf5e75",
      "placeholder": "​",
      "style": "IPY_MODEL_48693ff062c34aed863d60ccd000be48",
      "value": " 5426/5426 [00:00&lt;00:00, 166557.82 examples/s]"
     }
    },
    "65b2efb64dc7414c85e57406aa6077ee": {
     "model_module": "@jupyter-widgets/base",
     "model_module_version": "1.2.0",
     "model_name": "LayoutModel",
     "state": {
      "_model_module": "@jupyter-widgets/base",
      "_model_module_version": "1.2.0",
      "_model_name": "LayoutModel",
      "_view_count": null,
      "_view_module": "@jupyter-widgets/base",
      "_view_module_version": "1.2.0",
      "_view_name": "LayoutView",
      "align_content": null,
      "align_items": null,
      "align_self": null,
      "border": null,
      "bottom": null,
      "display": null,
      "flex": null,
      "flex_flow": null,
      "grid_area": null,
      "grid_auto_columns": null,
      "grid_auto_flow": null,
      "grid_auto_rows": null,
      "grid_column": null,
      "grid_gap": null,
      "grid_row": null,
      "grid_template_areas": null,
      "grid_template_columns": null,
      "grid_template_rows": null,
      "height": null,
      "justify_content": null,
      "justify_items": null,
      "left": null,
      "margin": null,
      "max_height": null,
      "max_width": null,
      "min_height": null,
      "min_width": null,
      "object_fit": null,
      "object_position": null,
      "order": null,
      "overflow": null,
      "overflow_x": null,
      "overflow_y": null,
      "padding": null,
      "right": null,
      "top": null,
      "visibility": null,
      "width": null
     }
    },
    "66715aa05c8444318d2ae0c67aff2c46": {
     "model_module": "@jupyter-widgets/controls",
     "model_module_version": "1.5.0",
     "model_name": "HTMLModel",
     "state": {
      "_dom_classes": [],
      "_model_module": "@jupyter-widgets/controls",
      "_model_module_version": "1.5.0",
      "_model_name": "HTMLModel",
      "_view_count": null,
      "_view_module": "@jupyter-widgets/controls",
      "_view_module_version": "1.5.0",
      "_view_name": "HTMLView",
      "description": "",
      "description_tooltip": null,
      "layout": "IPY_MODEL_1c310ba824de4660998b8046fd1addb0",
      "placeholder": "​",
      "style": "IPY_MODEL_ee10706f8e8d47aab2727b41c94a6b25",
      "value": " 52.0/52.0 [00:00&lt;00:00, 980B/s]"
     }
    },
    "6749460fede845d88a5b6040771a0773": {
     "model_module": "@jupyter-widgets/controls",
     "model_module_version": "1.5.0",
     "model_name": "DescriptionStyleModel",
     "state": {
      "_model_module": "@jupyter-widgets/controls",
      "_model_module_version": "1.5.0",
      "_model_name": "DescriptionStyleModel",
      "_view_count": null,
      "_view_module": "@jupyter-widgets/base",
      "_view_module_version": "1.2.0",
      "_view_name": "StyleView",
      "description_width": ""
     }
    },
    "6f0cf6f528ad4e3f8ebbb0198451e8b5": {
     "model_module": "@jupyter-widgets/controls",
     "model_module_version": "1.5.0",
     "model_name": "HTMLModel",
     "state": {
      "_dom_classes": [],
      "_model_module": "@jupyter-widgets/controls",
      "_model_module_version": "1.5.0",
      "_model_name": "HTMLModel",
      "_view_count": null,
      "_view_module": "@jupyter-widgets/controls",
      "_view_module_version": "1.5.0",
      "_view_name": "HTMLView",
      "description": "",
      "description_tooltip": null,
      "layout": "IPY_MODEL_0186fb130a0f4942bd3b492fb9aa24ee",
      "placeholder": "​",
      "style": "IPY_MODEL_553dc83fa5f54931a068863bf373cbca",
      "value": "simplified/validation-00000-of-00001.par(…): 100%"
     }
    },
    "6f90e3bb55be499c9e658213446fb4c7": {
     "model_module": "@jupyter-widgets/base",
     "model_module_version": "1.2.0",
     "model_name": "LayoutModel",
     "state": {
      "_model_module": "@jupyter-widgets/base",
      "_model_module_version": "1.2.0",
      "_model_name": "LayoutModel",
      "_view_count": null,
      "_view_module": "@jupyter-widgets/base",
      "_view_module_version": "1.2.0",
      "_view_name": "LayoutView",
      "align_content": null,
      "align_items": null,
      "align_self": null,
      "border": null,
      "bottom": null,
      "display": null,
      "flex": null,
      "flex_flow": null,
      "grid_area": null,
      "grid_auto_columns": null,
      "grid_auto_flow": null,
      "grid_auto_rows": null,
      "grid_column": null,
      "grid_gap": null,
      "grid_row": null,
      "grid_template_areas": null,
      "grid_template_columns": null,
      "grid_template_rows": null,
      "height": null,
      "justify_content": null,
      "justify_items": null,
      "left": null,
      "margin": null,
      "max_height": null,
      "max_width": null,
      "min_height": null,
      "min_width": null,
      "object_fit": null,
      "object_position": null,
      "order": null,
      "overflow": null,
      "overflow_x": null,
      "overflow_y": null,
      "padding": null,
      "right": null,
      "top": null,
      "visibility": null,
      "width": null
     }
    },
    "7212cbfc0be64c09a77a81e2619775c9": {
     "model_module": "@jupyter-widgets/controls",
     "model_module_version": "1.5.0",
     "model_name": "FloatProgressModel",
     "state": {
      "_dom_classes": [],
      "_model_module": "@jupyter-widgets/controls",
      "_model_module_version": "1.5.0",
      "_model_name": "FloatProgressModel",
      "_view_count": null,
      "_view_module": "@jupyter-widgets/controls",
      "_view_module_version": "1.5.0",
      "_view_name": "ProgressView",
      "bar_style": "success",
      "description": "",
      "description_tooltip": null,
      "layout": "IPY_MODEL_d169eda20abb48efa29e34edb6018fdd",
      "max": 43410,
      "min": 0,
      "orientation": "horizontal",
      "style": "IPY_MODEL_a428b4ae3b454af7bf20854c7d380184",
      "value": 43410
     }
    },
    "7301b6dc411c4d4aa7f8e4c80bdb75ac": {
     "model_module": "@jupyter-widgets/base",
     "model_module_version": "1.2.0",
     "model_name": "LayoutModel",
     "state": {
      "_model_module": "@jupyter-widgets/base",
      "_model_module_version": "1.2.0",
      "_model_name": "LayoutModel",
      "_view_count": null,
      "_view_module": "@jupyter-widgets/base",
      "_view_module_version": "1.2.0",
      "_view_name": "LayoutView",
      "align_content": null,
      "align_items": null,
      "align_self": null,
      "border": null,
      "bottom": null,
      "display": null,
      "flex": null,
      "flex_flow": null,
      "grid_area": null,
      "grid_auto_columns": null,
      "grid_auto_flow": null,
      "grid_auto_rows": null,
      "grid_column": null,
      "grid_gap": null,
      "grid_row": null,
      "grid_template_areas": null,
      "grid_template_columns": null,
      "grid_template_rows": null,
      "height": null,
      "justify_content": null,
      "justify_items": null,
      "left": null,
      "margin": null,
      "max_height": null,
      "max_width": null,
      "min_height": null,
      "min_width": null,
      "object_fit": null,
      "object_position": null,
      "order": null,
      "overflow": null,
      "overflow_x": null,
      "overflow_y": null,
      "padding": null,
      "right": null,
      "top": null,
      "visibility": null,
      "width": null
     }
    },
    "76d7a1c33ea84b4dae0b79a06f8b9d07": {
     "model_module": "@jupyter-widgets/base",
     "model_module_version": "1.2.0",
     "model_name": "LayoutModel",
     "state": {
      "_model_module": "@jupyter-widgets/base",
      "_model_module_version": "1.2.0",
      "_model_name": "LayoutModel",
      "_view_count": null,
      "_view_module": "@jupyter-widgets/base",
      "_view_module_version": "1.2.0",
      "_view_name": "LayoutView",
      "align_content": null,
      "align_items": null,
      "align_self": null,
      "border": null,
      "bottom": null,
      "display": null,
      "flex": null,
      "flex_flow": null,
      "grid_area": null,
      "grid_auto_columns": null,
      "grid_auto_flow": null,
      "grid_auto_rows": null,
      "grid_column": null,
      "grid_gap": null,
      "grid_row": null,
      "grid_template_areas": null,
      "grid_template_columns": null,
      "grid_template_rows": null,
      "height": null,
      "justify_content": null,
      "justify_items": null,
      "left": null,
      "margin": null,
      "max_height": null,
      "max_width": null,
      "min_height": null,
      "min_width": null,
      "object_fit": null,
      "object_position": null,
      "order": null,
      "overflow": null,
      "overflow_x": null,
      "overflow_y": null,
      "padding": null,
      "right": null,
      "top": null,
      "visibility": null,
      "width": null
     }
    },
    "77e27b5d703046d9867d0cb4a142c2e7": {
     "model_module": "@jupyter-widgets/controls",
     "model_module_version": "1.5.0",
     "model_name": "DescriptionStyleModel",
     "state": {
      "_model_module": "@jupyter-widgets/controls",
      "_model_module_version": "1.5.0",
      "_model_name": "DescriptionStyleModel",
      "_view_count": null,
      "_view_module": "@jupyter-widgets/base",
      "_view_module_version": "1.2.0",
      "_view_name": "StyleView",
      "description_width": ""
     }
    },
    "79867f0ef7a5489887f1bbaeeefb515f": {
     "model_module": "@jupyter-widgets/controls",
     "model_module_version": "1.5.0",
     "model_name": "DescriptionStyleModel",
     "state": {
      "_model_module": "@jupyter-widgets/controls",
      "_model_module_version": "1.5.0",
      "_model_name": "DescriptionStyleModel",
      "_view_count": null,
      "_view_module": "@jupyter-widgets/base",
      "_view_module_version": "1.2.0",
      "_view_name": "StyleView",
      "description_width": ""
     }
    },
    "7c14aa2a955f427e8ad19d0105e70e63": {
     "model_module": "@jupyter-widgets/base",
     "model_module_version": "1.2.0",
     "model_name": "LayoutModel",
     "state": {
      "_model_module": "@jupyter-widgets/base",
      "_model_module_version": "1.2.0",
      "_model_name": "LayoutModel",
      "_view_count": null,
      "_view_module": "@jupyter-widgets/base",
      "_view_module_version": "1.2.0",
      "_view_name": "LayoutView",
      "align_content": null,
      "align_items": null,
      "align_self": null,
      "border": null,
      "bottom": null,
      "display": null,
      "flex": null,
      "flex_flow": null,
      "grid_area": null,
      "grid_auto_columns": null,
      "grid_auto_flow": null,
      "grid_auto_rows": null,
      "grid_column": null,
      "grid_gap": null,
      "grid_row": null,
      "grid_template_areas": null,
      "grid_template_columns": null,
      "grid_template_rows": null,
      "height": null,
      "justify_content": null,
      "justify_items": null,
      "left": null,
      "margin": null,
      "max_height": null,
      "max_width": null,
      "min_height": null,
      "min_width": null,
      "object_fit": null,
      "object_position": null,
      "order": null,
      "overflow": null,
      "overflow_x": null,
      "overflow_y": null,
      "padding": null,
      "right": null,
      "top": null,
      "visibility": null,
      "width": null
     }
    },
    "7c3fcf17c28443b9b428f2261aaa849b": {
     "model_module": "@jupyter-widgets/controls",
     "model_module_version": "1.5.0",
     "model_name": "HTMLModel",
     "state": {
      "_dom_classes": [],
      "_model_module": "@jupyter-widgets/controls",
      "_model_module_version": "1.5.0",
      "_model_name": "HTMLModel",
      "_view_count": null,
      "_view_module": "@jupyter-widgets/controls",
      "_view_module_version": "1.5.0",
      "_view_name": "HTMLView",
      "description": "",
      "description_tooltip": null,
      "layout": "IPY_MODEL_c8904f78b7c149a98c95a8588cc1fac0",
      "placeholder": "​",
      "style": "IPY_MODEL_6749460fede845d88a5b6040771a0773",
      "value": "Generating validation split: 100%"
     }
    },
    "877f04dced0341bbb977b50d2a8f7677": {
     "model_module": "@jupyter-widgets/base",
     "model_module_version": "1.2.0",
     "model_name": "LayoutModel",
     "state": {
      "_model_module": "@jupyter-widgets/base",
      "_model_module_version": "1.2.0",
      "_model_name": "LayoutModel",
      "_view_count": null,
      "_view_module": "@jupyter-widgets/base",
      "_view_module_version": "1.2.0",
      "_view_name": "LayoutView",
      "align_content": null,
      "align_items": null,
      "align_self": null,
      "border": null,
      "bottom": null,
      "display": null,
      "flex": null,
      "flex_flow": null,
      "grid_area": null,
      "grid_auto_columns": null,
      "grid_auto_flow": null,
      "grid_auto_rows": null,
      "grid_column": null,
      "grid_gap": null,
      "grid_row": null,
      "grid_template_areas": null,
      "grid_template_columns": null,
      "grid_template_rows": null,
      "height": null,
      "justify_content": null,
      "justify_items": null,
      "left": null,
      "margin": null,
      "max_height": null,
      "max_width": null,
      "min_height": null,
      "min_width": null,
      "object_fit": null,
      "object_position": null,
      "order": null,
      "overflow": null,
      "overflow_x": null,
      "overflow_y": null,
      "padding": null,
      "right": null,
      "top": null,
      "visibility": null,
      "width": null
     }
    },
    "88cac655415942248d162df8b5666574": {
     "model_module": "@jupyter-widgets/base",
     "model_module_version": "1.2.0",
     "model_name": "LayoutModel",
     "state": {
      "_model_module": "@jupyter-widgets/base",
      "_model_module_version": "1.2.0",
      "_model_name": "LayoutModel",
      "_view_count": null,
      "_view_module": "@jupyter-widgets/base",
      "_view_module_version": "1.2.0",
      "_view_name": "LayoutView",
      "align_content": null,
      "align_items": null,
      "align_self": null,
      "border": null,
      "bottom": null,
      "display": null,
      "flex": null,
      "flex_flow": null,
      "grid_area": null,
      "grid_auto_columns": null,
      "grid_auto_flow": null,
      "grid_auto_rows": null,
      "grid_column": null,
      "grid_gap": null,
      "grid_row": null,
      "grid_template_areas": null,
      "grid_template_columns": null,
      "grid_template_rows": null,
      "height": null,
      "justify_content": null,
      "justify_items": null,
      "left": null,
      "margin": null,
      "max_height": null,
      "max_width": null,
      "min_height": null,
      "min_width": null,
      "object_fit": null,
      "object_position": null,
      "order": null,
      "overflow": null,
      "overflow_x": null,
      "overflow_y": null,
      "padding": null,
      "right": null,
      "top": null,
      "visibility": null,
      "width": null
     }
    },
    "8fc811c7b4fd41a49f9ddaeb90a7467f": {
     "model_module": "@jupyter-widgets/base",
     "model_module_version": "1.2.0",
     "model_name": "LayoutModel",
     "state": {
      "_model_module": "@jupyter-widgets/base",
      "_model_module_version": "1.2.0",
      "_model_name": "LayoutModel",
      "_view_count": null,
      "_view_module": "@jupyter-widgets/base",
      "_view_module_version": "1.2.0",
      "_view_name": "LayoutView",
      "align_content": null,
      "align_items": null,
      "align_self": null,
      "border": null,
      "bottom": null,
      "display": null,
      "flex": null,
      "flex_flow": null,
      "grid_area": null,
      "grid_auto_columns": null,
      "grid_auto_flow": null,
      "grid_auto_rows": null,
      "grid_column": null,
      "grid_gap": null,
      "grid_row": null,
      "grid_template_areas": null,
      "grid_template_columns": null,
      "grid_template_rows": null,
      "height": null,
      "justify_content": null,
      "justify_items": null,
      "left": null,
      "margin": null,
      "max_height": null,
      "max_width": null,
      "min_height": null,
      "min_width": null,
      "object_fit": null,
      "object_position": null,
      "order": null,
      "overflow": null,
      "overflow_x": null,
      "overflow_y": null,
      "padding": null,
      "right": null,
      "top": null,
      "visibility": null,
      "width": null
     }
    },
    "91cca8657e8645c79624d1c24d0443e0": {
     "model_module": "@jupyter-widgets/controls",
     "model_module_version": "1.5.0",
     "model_name": "HTMLModel",
     "state": {
      "_dom_classes": [],
      "_model_module": "@jupyter-widgets/controls",
      "_model_module_version": "1.5.0",
      "_model_name": "HTMLModel",
      "_view_count": null,
      "_view_module": "@jupyter-widgets/controls",
      "_view_module_version": "1.5.0",
      "_view_name": "HTMLView",
      "description": "",
      "description_tooltip": null,
      "layout": "IPY_MODEL_458914cccb674b20829686cb679e2e9b",
      "placeholder": "​",
      "style": "IPY_MODEL_fb84330c9d1b4b9085308e4b3d152412",
      "value": " 347k/347k [00:00&lt;00:00, 3.71MB/s]"
     }
    },
    "9b52037aa58442369ae9cd59942e012a": {
     "model_module": "@jupyter-widgets/base",
     "model_module_version": "1.2.0",
     "model_name": "LayoutModel",
     "state": {
      "_model_module": "@jupyter-widgets/base",
      "_model_module_version": "1.2.0",
      "_model_name": "LayoutModel",
      "_view_count": null,
      "_view_module": "@jupyter-widgets/base",
      "_view_module_version": "1.2.0",
      "_view_name": "LayoutView",
      "align_content": null,
      "align_items": null,
      "align_self": null,
      "border": null,
      "bottom": null,
      "display": null,
      "flex": null,
      "flex_flow": null,
      "grid_area": null,
      "grid_auto_columns": null,
      "grid_auto_flow": null,
      "grid_auto_rows": null,
      "grid_column": null,
      "grid_gap": null,
      "grid_row": null,
      "grid_template_areas": null,
      "grid_template_columns": null,
      "grid_template_rows": null,
      "height": null,
      "justify_content": null,
      "justify_items": null,
      "left": null,
      "margin": null,
      "max_height": null,
      "max_width": null,
      "min_height": null,
      "min_width": null,
      "object_fit": null,
      "object_position": null,
      "order": null,
      "overflow": null,
      "overflow_x": null,
      "overflow_y": null,
      "padding": null,
      "right": null,
      "top": null,
      "visibility": null,
      "width": null
     }
    },
    "9bd8c176930e4bb9a48bbcab57278302": {
     "model_module": "@jupyter-widgets/base",
     "model_module_version": "1.2.0",
     "model_name": "LayoutModel",
     "state": {
      "_model_module": "@jupyter-widgets/base",
      "_model_module_version": "1.2.0",
      "_model_name": "LayoutModel",
      "_view_count": null,
      "_view_module": "@jupyter-widgets/base",
      "_view_module_version": "1.2.0",
      "_view_name": "LayoutView",
      "align_content": null,
      "align_items": null,
      "align_self": null,
      "border": null,
      "bottom": null,
      "display": null,
      "flex": null,
      "flex_flow": null,
      "grid_area": null,
      "grid_auto_columns": null,
      "grid_auto_flow": null,
      "grid_auto_rows": null,
      "grid_column": null,
      "grid_gap": null,
      "grid_row": null,
      "grid_template_areas": null,
      "grid_template_columns": null,
      "grid_template_rows": null,
      "height": null,
      "justify_content": null,
      "justify_items": null,
      "left": null,
      "margin": null,
      "max_height": null,
      "max_width": null,
      "min_height": null,
      "min_width": null,
      "object_fit": null,
      "object_position": null,
      "order": null,
      "overflow": null,
      "overflow_x": null,
      "overflow_y": null,
      "padding": null,
      "right": null,
      "top": null,
      "visibility": null,
      "width": null
     }
    },
    "9c2f1b416cfa4cc2b17b38c949940bd5": {
     "model_module": "@jupyter-widgets/controls",
     "model_module_version": "1.5.0",
     "model_name": "HTMLModel",
     "state": {
      "_dom_classes": [],
      "_model_module": "@jupyter-widgets/controls",
      "_model_module_version": "1.5.0",
      "_model_name": "HTMLModel",
      "_view_count": null,
      "_view_module": "@jupyter-widgets/controls",
      "_view_module_version": "1.5.0",
      "_view_name": "HTMLView",
      "description": "",
      "description_tooltip": null,
      "layout": "IPY_MODEL_56045cda25e24bc9a8045a0835b1375b",
      "placeholder": "​",
      "style": "IPY_MODEL_463a147779fb43eeaaf9e004085ebf2e",
      "value": "simplified/train-00000-of-00001.parquet: 100%"
     }
    },
    "9faf686ebd884150875333d8ec7e568e": {
     "model_module": "@jupyter-widgets/controls",
     "model_module_version": "1.5.0",
     "model_name": "HTMLModel",
     "state": {
      "_dom_classes": [],
      "_model_module": "@jupyter-widgets/controls",
      "_model_module_version": "1.5.0",
      "_model_name": "HTMLModel",
      "_view_count": null,
      "_view_module": "@jupyter-widgets/controls",
      "_view_module_version": "1.5.0",
      "_view_name": "HTMLView",
      "description": "",
      "description_tooltip": null,
      "layout": "IPY_MODEL_4e19869b42ec4b379f9152c31fbc23b6",
      "placeholder": "​",
      "style": "IPY_MODEL_bcb067f0ab0a4ae7a9cf2c730859c491",
      "value": " 2.46M/2.46M [00:00&lt;00:00, 15.1MB/s]"
     }
    },
    "a0847d42d6044ffeab75b71cbee53636": {
     "model_module": "@jupyter-widgets/base",
     "model_module_version": "1.2.0",
     "model_name": "LayoutModel",
     "state": {
      "_model_module": "@jupyter-widgets/base",
      "_model_module_version": "1.2.0",
      "_model_name": "LayoutModel",
      "_view_count": null,
      "_view_module": "@jupyter-widgets/base",
      "_view_module_version": "1.2.0",
      "_view_name": "LayoutView",
      "align_content": null,
      "align_items": null,
      "align_self": null,
      "border": null,
      "bottom": null,
      "display": null,
      "flex": null,
      "flex_flow": null,
      "grid_area": null,
      "grid_auto_columns": null,
      "grid_auto_flow": null,
      "grid_auto_rows": null,
      "grid_column": null,
      "grid_gap": null,
      "grid_row": null,
      "grid_template_areas": null,
      "grid_template_columns": null,
      "grid_template_rows": null,
      "height": null,
      "justify_content": null,
      "justify_items": null,
      "left": null,
      "margin": null,
      "max_height": null,
      "max_width": null,
      "min_height": null,
      "min_width": null,
      "object_fit": null,
      "object_position": null,
      "order": null,
      "overflow": null,
      "overflow_x": null,
      "overflow_y": null,
      "padding": null,
      "right": null,
      "top": null,
      "visibility": null,
      "width": "20px"
     }
    },
    "a24a4af6ba9b423abea104905ad8e697": {
     "model_module": "@jupyter-widgets/controls",
     "model_module_version": "1.5.0",
     "model_name": "HTMLModel",
     "state": {
      "_dom_classes": [],
      "_model_module": "@jupyter-widgets/controls",
      "_model_module_version": "1.5.0",
      "_model_name": "HTMLModel",
      "_view_count": null,
      "_view_module": "@jupyter-widgets/controls",
      "_view_module_version": "1.5.0",
      "_view_name": "HTMLView",
      "description": "",
      "description_tooltip": null,
      "layout": "IPY_MODEL_7c14aa2a955f427e8ad19d0105e70e63",
      "placeholder": "​",
      "style": "IPY_MODEL_19e9d9f1ea684931bdbb55b65a670f4a",
      "value": " 350k/350k [00:00&lt;00:00, 2.92MB/s]"
     }
    },
    "a428b4ae3b454af7bf20854c7d380184": {
     "model_module": "@jupyter-widgets/controls",
     "model_module_version": "1.5.0",
     "model_name": "ProgressStyleModel",
     "state": {
      "_model_module": "@jupyter-widgets/controls",
      "_model_module_version": "1.5.0",
      "_model_name": "ProgressStyleModel",
      "_view_count": null,
      "_view_module": "@jupyter-widgets/base",
      "_view_module_version": "1.2.0",
      "_view_name": "StyleView",
      "bar_color": null,
      "description_width": ""
     }
    },
    "a47395c8fa944d7693de964f8120de35": {
     "model_module": "@jupyter-widgets/base",
     "model_module_version": "1.2.0",
     "model_name": "LayoutModel",
     "state": {
      "_model_module": "@jupyter-widgets/base",
      "_model_module_version": "1.2.0",
      "_model_name": "LayoutModel",
      "_view_count": null,
      "_view_module": "@jupyter-widgets/base",
      "_view_module_version": "1.2.0",
      "_view_name": "LayoutView",
      "align_content": null,
      "align_items": null,
      "align_self": null,
      "border": null,
      "bottom": null,
      "display": null,
      "flex": null,
      "flex_flow": null,
      "grid_area": null,
      "grid_auto_columns": null,
      "grid_auto_flow": null,
      "grid_auto_rows": null,
      "grid_column": null,
      "grid_gap": null,
      "grid_row": null,
      "grid_template_areas": null,
      "grid_template_columns": null,
      "grid_template_rows": null,
      "height": null,
      "justify_content": null,
      "justify_items": null,
      "left": null,
      "margin": null,
      "max_height": null,
      "max_width": null,
      "min_height": null,
      "min_width": null,
      "object_fit": null,
      "object_position": null,
      "order": null,
      "overflow": null,
      "overflow_x": null,
      "overflow_y": null,
      "padding": null,
      "right": null,
      "top": null,
      "visibility": null,
      "width": null
     }
    },
    "a4ce8357f625402caf1e733df5b9f5f9": {
     "model_module": "@jupyter-widgets/base",
     "model_module_version": "1.2.0",
     "model_name": "LayoutModel",
     "state": {
      "_model_module": "@jupyter-widgets/base",
      "_model_module_version": "1.2.0",
      "_model_name": "LayoutModel",
      "_view_count": null,
      "_view_module": "@jupyter-widgets/base",
      "_view_module_version": "1.2.0",
      "_view_name": "LayoutView",
      "align_content": null,
      "align_items": null,
      "align_self": null,
      "border": null,
      "bottom": null,
      "display": null,
      "flex": null,
      "flex_flow": null,
      "grid_area": null,
      "grid_auto_columns": null,
      "grid_auto_flow": null,
      "grid_auto_rows": null,
      "grid_column": null,
      "grid_gap": null,
      "grid_row": null,
      "grid_template_areas": null,
      "grid_template_columns": null,
      "grid_template_rows": null,
      "height": null,
      "justify_content": null,
      "justify_items": null,
      "left": null,
      "margin": null,
      "max_height": null,
      "max_width": null,
      "min_height": null,
      "min_width": null,
      "object_fit": null,
      "object_position": null,
      "order": null,
      "overflow": null,
      "overflow_x": null,
      "overflow_y": null,
      "padding": null,
      "right": null,
      "top": null,
      "visibility": null,
      "width": null
     }
    },
    "a994730134c948539bef707662f77cb4": {
     "model_module": "@jupyter-widgets/base",
     "model_module_version": "1.2.0",
     "model_name": "LayoutModel",
     "state": {
      "_model_module": "@jupyter-widgets/base",
      "_model_module_version": "1.2.0",
      "_model_name": "LayoutModel",
      "_view_count": null,
      "_view_module": "@jupyter-widgets/base",
      "_view_module_version": "1.2.0",
      "_view_name": "LayoutView",
      "align_content": null,
      "align_items": null,
      "align_self": null,
      "border": null,
      "bottom": null,
      "display": null,
      "flex": null,
      "flex_flow": null,
      "grid_area": null,
      "grid_auto_columns": null,
      "grid_auto_flow": null,
      "grid_auto_rows": null,
      "grid_column": null,
      "grid_gap": null,
      "grid_row": null,
      "grid_template_areas": null,
      "grid_template_columns": null,
      "grid_template_rows": null,
      "height": null,
      "justify_content": null,
      "justify_items": null,
      "left": null,
      "margin": null,
      "max_height": null,
      "max_width": null,
      "min_height": null,
      "min_width": null,
      "object_fit": null,
      "object_position": null,
      "order": null,
      "overflow": null,
      "overflow_x": null,
      "overflow_y": null,
      "padding": null,
      "right": null,
      "top": null,
      "visibility": null,
      "width": null
     }
    },
    "b364710129cc45b6b4629d8bcc41c607": {
     "model_module": "@jupyter-widgets/controls",
     "model_module_version": "1.5.0",
     "model_name": "ProgressStyleModel",
     "state": {
      "_model_module": "@jupyter-widgets/controls",
      "_model_module_version": "1.5.0",
      "_model_name": "ProgressStyleModel",
      "_view_count": null,
      "_view_module": "@jupyter-widgets/base",
      "_view_module_version": "1.2.0",
      "_view_name": "StyleView",
      "bar_color": null,
      "description_width": ""
     }
    },
    "b6311f01d4754c948a417888f9de807b": {
     "model_module": "@jupyter-widgets/base",
     "model_module_version": "1.2.0",
     "model_name": "LayoutModel",
     "state": {
      "_model_module": "@jupyter-widgets/base",
      "_model_module_version": "1.2.0",
      "_model_name": "LayoutModel",
      "_view_count": null,
      "_view_module": "@jupyter-widgets/base",
      "_view_module_version": "1.2.0",
      "_view_name": "LayoutView",
      "align_content": null,
      "align_items": null,
      "align_self": null,
      "border": null,
      "bottom": null,
      "display": null,
      "flex": null,
      "flex_flow": null,
      "grid_area": null,
      "grid_auto_columns": null,
      "grid_auto_flow": null,
      "grid_auto_rows": null,
      "grid_column": null,
      "grid_gap": null,
      "grid_row": null,
      "grid_template_areas": null,
      "grid_template_columns": null,
      "grid_template_rows": null,
      "height": null,
      "justify_content": null,
      "justify_items": null,
      "left": null,
      "margin": null,
      "max_height": null,
      "max_width": null,
      "min_height": null,
      "min_width": null,
      "object_fit": null,
      "object_position": null,
      "order": null,
      "overflow": null,
      "overflow_x": null,
      "overflow_y": null,
      "padding": null,
      "right": null,
      "top": null,
      "visibility": null,
      "width": null
     }
    },
    "b6ccb806967a45bf80042e4a340b7599": {
     "model_module": "@jupyter-widgets/base",
     "model_module_version": "1.2.0",
     "model_name": "LayoutModel",
     "state": {
      "_model_module": "@jupyter-widgets/base",
      "_model_module_version": "1.2.0",
      "_model_name": "LayoutModel",
      "_view_count": null,
      "_view_module": "@jupyter-widgets/base",
      "_view_module_version": "1.2.0",
      "_view_name": "LayoutView",
      "align_content": null,
      "align_items": null,
      "align_self": null,
      "border": null,
      "bottom": null,
      "display": null,
      "flex": null,
      "flex_flow": null,
      "grid_area": null,
      "grid_auto_columns": null,
      "grid_auto_flow": null,
      "grid_auto_rows": null,
      "grid_column": null,
      "grid_gap": null,
      "grid_row": null,
      "grid_template_areas": null,
      "grid_template_columns": null,
      "grid_template_rows": null,
      "height": null,
      "justify_content": null,
      "justify_items": null,
      "left": null,
      "margin": null,
      "max_height": null,
      "max_width": null,
      "min_height": null,
      "min_width": null,
      "object_fit": null,
      "object_position": null,
      "order": null,
      "overflow": null,
      "overflow_x": null,
      "overflow_y": null,
      "padding": null,
      "right": null,
      "top": null,
      "visibility": null,
      "width": null
     }
    },
    "bcb067f0ab0a4ae7a9cf2c730859c491": {
     "model_module": "@jupyter-widgets/controls",
     "model_module_version": "1.5.0",
     "model_name": "DescriptionStyleModel",
     "state": {
      "_model_module": "@jupyter-widgets/controls",
      "_model_module_version": "1.5.0",
      "_model_name": "DescriptionStyleModel",
      "_view_count": null,
      "_view_module": "@jupyter-widgets/base",
      "_view_module_version": "1.2.0",
      "_view_name": "StyleView",
      "description_width": ""
     }
    },
    "c132b3c52e2748abaae955190e10e80e": {
     "model_module": "@jupyter-widgets/base",
     "model_module_version": "1.2.0",
     "model_name": "LayoutModel",
     "state": {
      "_model_module": "@jupyter-widgets/base",
      "_model_module_version": "1.2.0",
      "_model_name": "LayoutModel",
      "_view_count": null,
      "_view_module": "@jupyter-widgets/base",
      "_view_module_version": "1.2.0",
      "_view_name": "LayoutView",
      "align_content": null,
      "align_items": null,
      "align_self": null,
      "border": null,
      "bottom": null,
      "display": null,
      "flex": null,
      "flex_flow": null,
      "grid_area": null,
      "grid_auto_columns": null,
      "grid_auto_flow": null,
      "grid_auto_rows": null,
      "grid_column": null,
      "grid_gap": null,
      "grid_row": null,
      "grid_template_areas": null,
      "grid_template_columns": null,
      "grid_template_rows": null,
      "height": null,
      "justify_content": null,
      "justify_items": null,
      "left": null,
      "margin": null,
      "max_height": null,
      "max_width": null,
      "min_height": null,
      "min_width": null,
      "object_fit": null,
      "object_position": null,
      "order": null,
      "overflow": null,
      "overflow_x": null,
      "overflow_y": null,
      "padding": null,
      "right": null,
      "top": null,
      "visibility": null,
      "width": null
     }
    },
    "c2877126706d4cbc894a9226a8831f5c": {
     "model_module": "@jupyter-widgets/controls",
     "model_module_version": "1.5.0",
     "model_name": "HTMLModel",
     "state": {
      "_dom_classes": [],
      "_model_module": "@jupyter-widgets/controls",
      "_model_module_version": "1.5.0",
      "_model_name": "HTMLModel",
      "_view_count": null,
      "_view_module": "@jupyter-widgets/controls",
      "_view_module_version": "1.5.0",
      "_view_name": "HTMLView",
      "description": "",
      "description_tooltip": null,
      "layout": "IPY_MODEL_26e9736d19df458995dbe4214dbb41c5",
      "placeholder": "​",
      "style": "IPY_MODEL_c2adea1c08b441b8a15e1ac38584eab5",
      "value": "Generating test split: 100%"
     }
    },
    "c2adea1c08b441b8a15e1ac38584eab5": {
     "model_module": "@jupyter-widgets/controls",
     "model_module_version": "1.5.0",
     "model_name": "DescriptionStyleModel",
     "state": {
      "_model_module": "@jupyter-widgets/controls",
      "_model_module_version": "1.5.0",
      "_model_name": "DescriptionStyleModel",
      "_view_count": null,
      "_view_module": "@jupyter-widgets/base",
      "_view_module_version": "1.2.0",
      "_view_name": "StyleView",
      "description_width": ""
     }
    },
    "c62ab6b371c642f0aa3fea7d97c5ec3b": {
     "model_module": "@jupyter-widgets/controls",
     "model_module_version": "1.5.0",
     "model_name": "DescriptionStyleModel",
     "state": {
      "_model_module": "@jupyter-widgets/controls",
      "_model_module_version": "1.5.0",
      "_model_name": "DescriptionStyleModel",
      "_view_count": null,
      "_view_module": "@jupyter-widgets/base",
      "_view_module_version": "1.2.0",
      "_view_name": "StyleView",
      "description_width": ""
     }
    },
    "c7d140295ccc4ea0b77440fd946891c8": {
     "model_module": "@jupyter-widgets/base",
     "model_module_version": "1.2.0",
     "model_name": "LayoutModel",
     "state": {
      "_model_module": "@jupyter-widgets/base",
      "_model_module_version": "1.2.0",
      "_model_name": "LayoutModel",
      "_view_count": null,
      "_view_module": "@jupyter-widgets/base",
      "_view_module_version": "1.2.0",
      "_view_name": "LayoutView",
      "align_content": null,
      "align_items": null,
      "align_self": null,
      "border": null,
      "bottom": null,
      "display": null,
      "flex": null,
      "flex_flow": null,
      "grid_area": null,
      "grid_auto_columns": null,
      "grid_auto_flow": null,
      "grid_auto_rows": null,
      "grid_column": null,
      "grid_gap": null,
      "grid_row": null,
      "grid_template_areas": null,
      "grid_template_columns": null,
      "grid_template_rows": null,
      "height": null,
      "justify_content": null,
      "justify_items": null,
      "left": null,
      "margin": null,
      "max_height": null,
      "max_width": null,
      "min_height": null,
      "min_width": null,
      "object_fit": null,
      "object_position": null,
      "order": null,
      "overflow": null,
      "overflow_x": null,
      "overflow_y": null,
      "padding": null,
      "right": null,
      "top": null,
      "visibility": null,
      "width": null
     }
    },
    "c8904f78b7c149a98c95a8588cc1fac0": {
     "model_module": "@jupyter-widgets/base",
     "model_module_version": "1.2.0",
     "model_name": "LayoutModel",
     "state": {
      "_model_module": "@jupyter-widgets/base",
      "_model_module_version": "1.2.0",
      "_model_name": "LayoutModel",
      "_view_count": null,
      "_view_module": "@jupyter-widgets/base",
      "_view_module_version": "1.2.0",
      "_view_name": "LayoutView",
      "align_content": null,
      "align_items": null,
      "align_self": null,
      "border": null,
      "bottom": null,
      "display": null,
      "flex": null,
      "flex_flow": null,
      "grid_area": null,
      "grid_auto_columns": null,
      "grid_auto_flow": null,
      "grid_auto_rows": null,
      "grid_column": null,
      "grid_gap": null,
      "grid_row": null,
      "grid_template_areas": null,
      "grid_template_columns": null,
      "grid_template_rows": null,
      "height": null,
      "justify_content": null,
      "justify_items": null,
      "left": null,
      "margin": null,
      "max_height": null,
      "max_width": null,
      "min_height": null,
      "min_width": null,
      "object_fit": null,
      "object_position": null,
      "order": null,
      "overflow": null,
      "overflow_x": null,
      "overflow_y": null,
      "padding": null,
      "right": null,
      "top": null,
      "visibility": null,
      "width": null
     }
    },
    "c89077b13cb04685a777da535d46b732": {
     "model_module": "@jupyter-widgets/controls",
     "model_module_version": "1.5.0",
     "model_name": "HTMLModel",
     "state": {
      "_dom_classes": [],
      "_model_module": "@jupyter-widgets/controls",
      "_model_module_version": "1.5.0",
      "_model_name": "HTMLModel",
      "_view_count": null,
      "_view_module": "@jupyter-widgets/controls",
      "_view_module_version": "1.5.0",
      "_view_name": "HTMLView",
      "description": "",
      "description_tooltip": null,
      "layout": "IPY_MODEL_65b2efb64dc7414c85e57406aa6077ee",
      "placeholder": "​",
      "style": "IPY_MODEL_4b63db0312ea423a97bbb4c066cb1caa",
      "value": "spm.model: 100%"
     }
    },
    "c9a4f882064b45a0a8f4dab3c4f85560": {
     "model_module": "@jupyter-widgets/controls",
     "model_module_version": "1.5.0",
     "model_name": "FloatProgressModel",
     "state": {
      "_dom_classes": [],
      "_model_module": "@jupyter-widgets/controls",
      "_model_module_version": "1.5.0",
      "_model_name": "FloatProgressModel",
      "_view_count": null,
      "_view_module": "@jupyter-widgets/controls",
      "_view_module_version": "1.5.0",
      "_view_name": "ProgressView",
      "bar_style": "success",
      "description": "",
      "description_tooltip": null,
      "layout": "IPY_MODEL_01ae2ef764cc40a092b20a4059a2e6f3",
      "max": 2464616,
      "min": 0,
      "orientation": "horizontal",
      "style": "IPY_MODEL_03dd8d76c9464c5b83a4e2e9d4aeab31",
      "value": 2464616
     }
    },
    "ca525cd7af964d3b95a63479edaf8ccb": {
     "model_module": "@jupyter-widgets/controls",
     "model_module_version": "1.5.0",
     "model_name": "HBoxModel",
     "state": {
      "_dom_classes": [],
      "_model_module": "@jupyter-widgets/controls",
      "_model_module_version": "1.5.0",
      "_model_name": "HBoxModel",
      "_view_count": null,
      "_view_module": "@jupyter-widgets/controls",
      "_view_module_version": "1.5.0",
      "_view_name": "HBoxView",
      "box_style": "",
      "children": [
       "IPY_MODEL_ce41138911a849cfbb5cfdf3dd9d5713",
       "IPY_MODEL_2fd4c6ab600f4ca8b4c5eacf5fb9973c",
       "IPY_MODEL_4e72dc888a674caab492000908a967cf"
      ],
      "layout": "IPY_MODEL_a994730134c948539bef707662f77cb4"
     }
    },
    "cd5c9fad9f1a46a885a82c2008579b9f": {
     "model_module": "@jupyter-widgets/base",
     "model_module_version": "1.2.0",
     "model_name": "LayoutModel",
     "state": {
      "_model_module": "@jupyter-widgets/base",
      "_model_module_version": "1.2.0",
      "_model_name": "LayoutModel",
      "_view_count": null,
      "_view_module": "@jupyter-widgets/base",
      "_view_module_version": "1.2.0",
      "_view_name": "LayoutView",
      "align_content": null,
      "align_items": null,
      "align_self": null,
      "border": null,
      "bottom": null,
      "display": null,
      "flex": null,
      "flex_flow": null,
      "grid_area": null,
      "grid_auto_columns": null,
      "grid_auto_flow": null,
      "grid_auto_rows": null,
      "grid_column": null,
      "grid_gap": null,
      "grid_row": null,
      "grid_template_areas": null,
      "grid_template_columns": null,
      "grid_template_rows": null,
      "height": null,
      "justify_content": null,
      "justify_items": null,
      "left": null,
      "margin": null,
      "max_height": null,
      "max_width": null,
      "min_height": null,
      "min_width": null,
      "object_fit": null,
      "object_position": null,
      "order": null,
      "overflow": null,
      "overflow_x": null,
      "overflow_y": null,
      "padding": null,
      "right": null,
      "top": null,
      "visibility": null,
      "width": null
     }
    },
    "cdce129f84d8403496f9754f0e229d9a": {
     "model_module": "@jupyter-widgets/controls",
     "model_module_version": "1.5.0",
     "model_name": "HTMLModel",
     "state": {
      "_dom_classes": [],
      "_model_module": "@jupyter-widgets/controls",
      "_model_module_version": "1.5.0",
      "_model_name": "HTMLModel",
      "_view_count": null,
      "_view_module": "@jupyter-widgets/controls",
      "_view_module_version": "1.5.0",
      "_view_name": "HTMLView",
      "description": "",
      "description_tooltip": null,
      "layout": "IPY_MODEL_c132b3c52e2748abaae955190e10e80e",
      "placeholder": "​",
      "style": "IPY_MODEL_eb6583e97ac84d9aa065e1d5402d53bc",
      "value": " 5427/5427 [00:00&lt;00:00, 172768.99 examples/s]"
     }
    },
    "ce41138911a849cfbb5cfdf3dd9d5713": {
     "model_module": "@jupyter-widgets/controls",
     "model_module_version": "1.5.0",
     "model_name": "HTMLModel",
     "state": {
      "_dom_classes": [],
      "_model_module": "@jupyter-widgets/controls",
      "_model_module_version": "1.5.0",
      "_model_name": "HTMLModel",
      "_view_count": null,
      "_view_module": "@jupyter-widgets/controls",
      "_view_module_version": "1.5.0",
      "_view_name": "HTMLView",
      "description": "",
      "description_tooltip": null,
      "layout": "IPY_MODEL_efd7a9e8d84c401da9e02c2f486b802e",
      "placeholder": "​",
      "style": "IPY_MODEL_77e27b5d703046d9867d0cb4a142c2e7",
      "value": "config.json: 100%"
     }
    },
    "d169eda20abb48efa29e34edb6018fdd": {
     "model_module": "@jupyter-widgets/base",
     "model_module_version": "1.2.0",
     "model_name": "LayoutModel",
     "state": {
      "_model_module": "@jupyter-widgets/base",
      "_model_module_version": "1.2.0",
      "_model_name": "LayoutModel",
      "_view_count": null,
      "_view_module": "@jupyter-widgets/base",
      "_view_module_version": "1.2.0",
      "_view_name": "LayoutView",
      "align_content": null,
      "align_items": null,
      "align_self": null,
      "border": null,
      "bottom": null,
      "display": null,
      "flex": null,
      "flex_flow": null,
      "grid_area": null,
      "grid_auto_columns": null,
      "grid_auto_flow": null,
      "grid_auto_rows": null,
      "grid_column": null,
      "grid_gap": null,
      "grid_row": null,
      "grid_template_areas": null,
      "grid_template_columns": null,
      "grid_template_rows": null,
      "height": null,
      "justify_content": null,
      "justify_items": null,
      "left": null,
      "margin": null,
      "max_height": null,
      "max_width": null,
      "min_height": null,
      "min_width": null,
      "object_fit": null,
      "object_position": null,
      "order": null,
      "overflow": null,
      "overflow_x": null,
      "overflow_y": null,
      "padding": null,
      "right": null,
      "top": null,
      "visibility": null,
      "width": null
     }
    },
    "d62f9443c94b4911827d84a6c6b5b3b4": {
     "model_module": "@jupyter-widgets/controls",
     "model_module_version": "1.5.0",
     "model_name": "HTMLModel",
     "state": {
      "_dom_classes": [],
      "_model_module": "@jupyter-widgets/controls",
      "_model_module_version": "1.5.0",
      "_model_name": "HTMLModel",
      "_view_count": null,
      "_view_module": "@jupyter-widgets/controls",
      "_view_module_version": "1.5.0",
      "_view_name": "HTMLView",
      "description": "",
      "description_tooltip": null,
      "layout": "IPY_MODEL_e0a32ed0c39a4eada8cbf21345dc2588",
      "placeholder": "​",
      "style": "IPY_MODEL_79867f0ef7a5489887f1bbaeeefb515f",
      "value": "tokenizer_config.json: 100%"
     }
    },
    "d70fb41514164ec388c8dce4fb32fe55": {
     "model_module": "@jupyter-widgets/controls",
     "model_module_version": "1.5.0",
     "model_name": "ProgressStyleModel",
     "state": {
      "_model_module": "@jupyter-widgets/controls",
      "_model_module_version": "1.5.0",
      "_model_name": "ProgressStyleModel",
      "_view_count": null,
      "_view_module": "@jupyter-widgets/base",
      "_view_module_version": "1.2.0",
      "_view_name": "StyleView",
      "bar_color": null,
      "description_width": ""
     }
    },
    "dba35750bfa648b291a6ac3dd8e44f06": {
     "model_module": "@jupyter-widgets/controls",
     "model_module_version": "1.5.0",
     "model_name": "HTMLModel",
     "state": {
      "_dom_classes": [],
      "_model_module": "@jupyter-widgets/controls",
      "_model_module_version": "1.5.0",
      "_model_name": "HTMLModel",
      "_view_count": null,
      "_view_module": "@jupyter-widgets/controls",
      "_view_module_version": "1.5.0",
      "_view_name": "HTMLView",
      "description": "",
      "description_tooltip": null,
      "layout": "IPY_MODEL_07df5a706af14456b754252d4f39aa91",
      "placeholder": "​",
      "style": "IPY_MODEL_36655e3634614cd39aaac492af488706",
      "value": "simplified/test-00000-of-00001.parquet: 100%"
     }
    },
    "e0a32ed0c39a4eada8cbf21345dc2588": {
     "model_module": "@jupyter-widgets/base",
     "model_module_version": "1.2.0",
     "model_name": "LayoutModel",
     "state": {
      "_model_module": "@jupyter-widgets/base",
      "_model_module_version": "1.2.0",
      "_model_name": "LayoutModel",
      "_view_count": null,
      "_view_module": "@jupyter-widgets/base",
      "_view_module_version": "1.2.0",
      "_view_name": "LayoutView",
      "align_content": null,
      "align_items": null,
      "align_self": null,
      "border": null,
      "bottom": null,
      "display": null,
      "flex": null,
      "flex_flow": null,
      "grid_area": null,
      "grid_auto_columns": null,
      "grid_auto_flow": null,
      "grid_auto_rows": null,
      "grid_column": null,
      "grid_gap": null,
      "grid_row": null,
      "grid_template_areas": null,
      "grid_template_columns": null,
      "grid_template_rows": null,
      "height": null,
      "justify_content": null,
      "justify_items": null,
      "left": null,
      "margin": null,
      "max_height": null,
      "max_width": null,
      "min_height": null,
      "min_width": null,
      "object_fit": null,
      "object_position": null,
      "order": null,
      "overflow": null,
      "overflow_x": null,
      "overflow_y": null,
      "padding": null,
      "right": null,
      "top": null,
      "visibility": null,
      "width": null
     }
    },
    "e3b2c63254b54295afeb48c10a5379d0": {
     "model_module": "@jupyter-widgets/controls",
     "model_module_version": "1.5.0",
     "model_name": "FloatProgressModel",
     "state": {
      "_dom_classes": [],
      "_model_module": "@jupyter-widgets/controls",
      "_model_module_version": "1.5.0",
      "_model_name": "FloatProgressModel",
      "_view_count": null,
      "_view_module": "@jupyter-widgets/controls",
      "_view_module_version": "1.5.0",
      "_view_name": "ProgressView",
      "bar_style": "success",
      "description": "",
      "description_tooltip": null,
      "layout": "IPY_MODEL_62aff88a33cb4cb688513c1871f5e724",
      "max": 52,
      "min": 0,
      "orientation": "horizontal",
      "style": "IPY_MODEL_49c4ba7984204055baf1ea7d447b081c",
      "value": 52
     }
    },
    "eb12117ec2414df4a5b39381fc657434": {
     "model_module": "@jupyter-widgets/base",
     "model_module_version": "1.2.0",
     "model_name": "LayoutModel",
     "state": {
      "_model_module": "@jupyter-widgets/base",
      "_model_module_version": "1.2.0",
      "_model_name": "LayoutModel",
      "_view_count": null,
      "_view_module": "@jupyter-widgets/base",
      "_view_module_version": "1.2.0",
      "_view_name": "LayoutView",
      "align_content": null,
      "align_items": null,
      "align_self": null,
      "border": null,
      "bottom": null,
      "display": null,
      "flex": null,
      "flex_flow": null,
      "grid_area": null,
      "grid_auto_columns": null,
      "grid_auto_flow": null,
      "grid_auto_rows": null,
      "grid_column": null,
      "grid_gap": null,
      "grid_row": null,
      "grid_template_areas": null,
      "grid_template_columns": null,
      "grid_template_rows": null,
      "height": null,
      "justify_content": null,
      "justify_items": null,
      "left": null,
      "margin": null,
      "max_height": null,
      "max_width": null,
      "min_height": null,
      "min_width": null,
      "object_fit": null,
      "object_position": null,
      "order": null,
      "overflow": null,
      "overflow_x": null,
      "overflow_y": null,
      "padding": null,
      "right": null,
      "top": null,
      "visibility": null,
      "width": null
     }
    },
    "eb6583e97ac84d9aa065e1d5402d53bc": {
     "model_module": "@jupyter-widgets/controls",
     "model_module_version": "1.5.0",
     "model_name": "DescriptionStyleModel",
     "state": {
      "_model_module": "@jupyter-widgets/controls",
      "_model_module_version": "1.5.0",
      "_model_name": "DescriptionStyleModel",
      "_view_count": null,
      "_view_module": "@jupyter-widgets/base",
      "_view_module_version": "1.2.0",
      "_view_name": "StyleView",
      "description_width": ""
     }
    },
    "ec38af683498416d80f7c2d01c75cd9c": {
     "model_module": "@jupyter-widgets/controls",
     "model_module_version": "1.5.0",
     "model_name": "HBoxModel",
     "state": {
      "_dom_classes": [],
      "_model_module": "@jupyter-widgets/controls",
      "_model_module_version": "1.5.0",
      "_model_name": "HBoxModel",
      "_view_count": null,
      "_view_module": "@jupyter-widgets/controls",
      "_view_module_version": "1.5.0",
      "_view_name": "HBoxView",
      "box_style": "",
      "children": [
       "IPY_MODEL_3e91291f4bb24e9caabff50993f7e0e2",
       "IPY_MODEL_7212cbfc0be64c09a77a81e2619775c9",
       "IPY_MODEL_295f0f238255442b89d679f535055aff"
      ],
      "layout": "IPY_MODEL_26b10aa473ea4c56a1aca0a5d8307c1a"
     }
    },
    "ee10706f8e8d47aab2727b41c94a6b25": {
     "model_module": "@jupyter-widgets/controls",
     "model_module_version": "1.5.0",
     "model_name": "DescriptionStyleModel",
     "state": {
      "_model_module": "@jupyter-widgets/controls",
      "_model_module_version": "1.5.0",
      "_model_name": "DescriptionStyleModel",
      "_view_count": null,
      "_view_module": "@jupyter-widgets/base",
      "_view_module_version": "1.2.0",
      "_view_name": "StyleView",
      "description_width": ""
     }
    },
    "ee6de43d7b614112a312ad3a0dcabc71": {
     "model_module": "@jupyter-widgets/controls",
     "model_module_version": "1.5.0",
     "model_name": "ProgressStyleModel",
     "state": {
      "_model_module": "@jupyter-widgets/controls",
      "_model_module_version": "1.5.0",
      "_model_name": "ProgressStyleModel",
      "_view_count": null,
      "_view_module": "@jupyter-widgets/base",
      "_view_module_version": "1.2.0",
      "_view_name": "StyleView",
      "bar_color": null,
      "description_width": ""
     }
    },
    "efd7a9e8d84c401da9e02c2f486b802e": {
     "model_module": "@jupyter-widgets/base",
     "model_module_version": "1.2.0",
     "model_name": "LayoutModel",
     "state": {
      "_model_module": "@jupyter-widgets/base",
      "_model_module_version": "1.2.0",
      "_model_name": "LayoutModel",
      "_view_count": null,
      "_view_module": "@jupyter-widgets/base",
      "_view_module_version": "1.2.0",
      "_view_name": "LayoutView",
      "align_content": null,
      "align_items": null,
      "align_self": null,
      "border": null,
      "bottom": null,
      "display": null,
      "flex": null,
      "flex_flow": null,
      "grid_area": null,
      "grid_auto_columns": null,
      "grid_auto_flow": null,
      "grid_auto_rows": null,
      "grid_column": null,
      "grid_gap": null,
      "grid_row": null,
      "grid_template_areas": null,
      "grid_template_columns": null,
      "grid_template_rows": null,
      "height": null,
      "justify_content": null,
      "justify_items": null,
      "left": null,
      "margin": null,
      "max_height": null,
      "max_width": null,
      "min_height": null,
      "min_width": null,
      "object_fit": null,
      "object_position": null,
      "order": null,
      "overflow": null,
      "overflow_x": null,
      "overflow_y": null,
      "padding": null,
      "right": null,
      "top": null,
      "visibility": null,
      "width": null
     }
    },
    "f1967a1a12c84d5eb4a08dd02ea113af": {
     "model_module": "@jupyter-widgets/controls",
     "model_module_version": "1.5.0",
     "model_name": "DescriptionStyleModel",
     "state": {
      "_model_module": "@jupyter-widgets/controls",
      "_model_module_version": "1.5.0",
      "_model_name": "DescriptionStyleModel",
      "_view_count": null,
      "_view_module": "@jupyter-widgets/base",
      "_view_module_version": "1.2.0",
      "_view_name": "StyleView",
      "description_width": ""
     }
    },
    "f1f42a0e8d9a48a8b69005b613f93277": {
     "model_module": "@jupyter-widgets/controls",
     "model_module_version": "1.5.0",
     "model_name": "ProgressStyleModel",
     "state": {
      "_model_module": "@jupyter-widgets/controls",
      "_model_module_version": "1.5.0",
      "_model_name": "ProgressStyleModel",
      "_view_count": null,
      "_view_module": "@jupyter-widgets/base",
      "_view_module_version": "1.2.0",
      "_view_name": "StyleView",
      "bar_color": null,
      "description_width": ""
     }
    },
    "f8a9cfe8430b4f48ab27664d087d4024": {
     "model_module": "@jupyter-widgets/controls",
     "model_module_version": "1.5.0",
     "model_name": "HBoxModel",
     "state": {
      "_dom_classes": [],
      "_model_module": "@jupyter-widgets/controls",
      "_model_module_version": "1.5.0",
      "_model_name": "HBoxModel",
      "_view_count": null,
      "_view_module": "@jupyter-widgets/controls",
      "_view_module_version": "1.5.0",
      "_view_name": "HBoxView",
      "box_style": "",
      "children": [
       "IPY_MODEL_6018fb08bb094fa18755005e18ec4215",
       "IPY_MODEL_577133bd5ccf43349a161dfacb1dfe2d",
       "IPY_MODEL_5d38ecb25ad647208a48f48017a3e9f4"
      ],
      "layout": "IPY_MODEL_a47395c8fa944d7693de964f8120de35"
     }
    },
    "fa027279f74243ecb3d63844adc8e261": {
     "model_module": "@jupyter-widgets/base",
     "model_module_version": "1.2.0",
     "model_name": "LayoutModel",
     "state": {
      "_model_module": "@jupyter-widgets/base",
      "_model_module_version": "1.2.0",
      "_model_name": "LayoutModel",
      "_view_count": null,
      "_view_module": "@jupyter-widgets/base",
      "_view_module_version": "1.2.0",
      "_view_name": "LayoutView",
      "align_content": null,
      "align_items": null,
      "align_self": null,
      "border": null,
      "bottom": null,
      "display": null,
      "flex": null,
      "flex_flow": null,
      "grid_area": null,
      "grid_auto_columns": null,
      "grid_auto_flow": null,
      "grid_auto_rows": null,
      "grid_column": null,
      "grid_gap": null,
      "grid_row": null,
      "grid_template_areas": null,
      "grid_template_columns": null,
      "grid_template_rows": null,
      "height": null,
      "justify_content": null,
      "justify_items": null,
      "left": null,
      "margin": null,
      "max_height": null,
      "max_width": null,
      "min_height": null,
      "min_width": null,
      "object_fit": null,
      "object_position": null,
      "order": null,
      "overflow": null,
      "overflow_x": null,
      "overflow_y": null,
      "padding": null,
      "right": null,
      "top": null,
      "visibility": null,
      "width": null
     }
    },
    "fb3141ec8e3f4b51a8f0af79fd606b7c": {
     "model_module": "@jupyter-widgets/controls",
     "model_module_version": "1.5.0",
     "model_name": "HTMLModel",
     "state": {
      "_dom_classes": [],
      "_model_module": "@jupyter-widgets/controls",
      "_model_module_version": "1.5.0",
      "_model_name": "HTMLModel",
      "_view_count": null,
      "_view_module": "@jupyter-widgets/controls",
      "_view_module_version": "1.5.0",
      "_view_name": "HTMLView",
      "description": "",
      "description_tooltip": null,
      "layout": "IPY_MODEL_9bd8c176930e4bb9a48bbcab57278302",
      "placeholder": "​",
      "style": "IPY_MODEL_60f4f0a8b5ab40099603c880fe5607b9",
      "value": " 2.77M/2.77M [00:00&lt;00:00, 33.3kB/s]"
     }
    },
    "fb84330c9d1b4b9085308e4b3d152412": {
     "model_module": "@jupyter-widgets/controls",
     "model_module_version": "1.5.0",
     "model_name": "DescriptionStyleModel",
     "state": {
      "_model_module": "@jupyter-widgets/controls",
      "_model_module_version": "1.5.0",
      "_model_name": "DescriptionStyleModel",
      "_view_count": null,
      "_view_module": "@jupyter-widgets/base",
      "_view_module_version": "1.2.0",
      "_view_name": "StyleView",
      "description_width": ""
     }
    },
    "fbb0baec007c427299fb6ba2f8d3fe0f": {
     "model_module": "@jupyter-widgets/controls",
     "model_module_version": "1.5.0",
     "model_name": "HBoxModel",
     "state": {
      "_dom_classes": [],
      "_model_module": "@jupyter-widgets/controls",
      "_model_module_version": "1.5.0",
      "_model_name": "HBoxModel",
      "_view_count": null,
      "_view_module": "@jupyter-widgets/controls",
      "_view_module_version": "1.5.0",
      "_view_name": "HBoxView",
      "box_style": "",
      "children": [
       "IPY_MODEL_dba35750bfa648b291a6ac3dd8e44f06",
       "IPY_MODEL_36f1d26ebe3148f4a3d8dd5ed57a9353",
       "IPY_MODEL_91cca8657e8645c79624d1c24d0443e0"
      ],
      "layout": "IPY_MODEL_23c90c690b16446f8fe0729b157bb833"
     }
    },
    "fd47f26279e843a4894e10bce95ca74f": {
     "model_module": "@jupyter-widgets/controls",
     "model_module_version": "1.5.0",
     "model_name": "FloatProgressModel",
     "state": {
      "_dom_classes": [],
      "_model_module": "@jupyter-widgets/controls",
      "_model_module_version": "1.5.0",
      "_model_name": "FloatProgressModel",
      "_view_count": null,
      "_view_module": "@jupyter-widgets/controls",
      "_view_module_version": "1.5.0",
      "_view_name": "ProgressView",
      "bar_style": "success",
      "description": "",
      "description_tooltip": null,
      "layout": "IPY_MODEL_b6ccb806967a45bf80042e4a340b7599",
      "max": 2767678,
      "min": 0,
      "orientation": "horizontal",
      "style": "IPY_MODEL_298b5b60b2ab4a7699bcd0aff96415fc",
      "value": 2767678
     }
    }
   }
  }
 },
 "nbformat": 4,
 "nbformat_minor": 5
}
