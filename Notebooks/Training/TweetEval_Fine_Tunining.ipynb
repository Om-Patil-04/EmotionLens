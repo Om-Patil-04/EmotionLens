{
 "cells": [
  {
   "cell_type": "code",
   "execution_count": 1,
   "metadata": {
    "colab": {
     "base_uri": "https://localhost:8080/"
    },
    "execution": {
     "iopub.execute_input": "2025-09-11T17:26:02.702084Z",
     "iopub.status.busy": "2025-09-11T17:26:02.701930Z",
     "iopub.status.idle": "2025-09-11T17:26:02.763375Z",
     "shell.execute_reply": "2025-09-11T17:26:02.762868Z",
     "shell.execute_reply.started": "2025-09-11T17:26:02.702069Z"
    },
    "id": "TJTkFxg_6rA_",
    "outputId": "eea93308-3059-49e2-85b1-dba335d9e2ef"
   },
   "outputs": [
    {
     "name": "stderr",
     "output_type": "stream",
     "text": [
      "/tmp/ipykernel_1274/1078063041.py:2: FutureWarning: In the future `np.object` will be defined as the corresponding NumPy scalar.\n",
      "  if not hasattr(np, \"object\"):\n"
     ]
    }
   ],
   "source": [
    "import numpy as np\n",
    "if not hasattr(np, \"object\"):\n",
    "    np.object = object\n"
   ]
  },
  {
   "cell_type": "code",
   "execution_count": 2,
   "metadata": {
    "colab": {
     "referenced_widgets": [
      "66f224d4c7a946519a785fa98d82701a",
      "cf2e5eae2f6c40be82fee843b7f49759"
     ]
    },
    "execution": {
     "iopub.execute_input": "2025-09-11T17:26:02.764057Z",
     "iopub.status.busy": "2025-09-11T17:26:02.763864Z",
     "iopub.status.idle": "2025-09-11T17:26:05.138599Z",
     "shell.execute_reply": "2025-09-11T17:26:05.138072Z",
     "shell.execute_reply.started": "2025-09-11T17:26:02.764042Z"
    },
    "id": "6YEriGTp6wNE",
    "outputId": "c1e2854e-d868-4722-980b-f3018286dea2"
   },
   "outputs": [
    {
     "name": "stderr",
     "output_type": "stream",
     "text": [
      "Reusing dataset tweet_eval (/home/sagemaker-user/.cache/huggingface/datasets/tweet_eval/emotion/1.1.0/12aee5282b8784f3e95459466db4cdf45c6bf49719c25cdb0743d71ed0410343)\n"
     ]
    },
    {
     "data": {
      "application/vnd.jupyter.widget-view+json": {
       "model_id": "aa8814e61c2a49bb81fc8487183109e7",
       "version_major": 2,
       "version_minor": 0
      },
      "text/plain": [
       "  0%|          | 0/3 [00:00<?, ?it/s]"
      ]
     },
     "metadata": {},
     "output_type": "display_data"
    }
   ],
   "source": [
    "from datasets import load_dataset\n",
    "import pandas as pd\n",
    "\n",
    "dataset = load_dataset(\"tweet_eval\", \"emotion\")\n",
    "train_dataset = dataset[\"train\"]\n",
    "val_dataset = dataset[\"validation\"]\n",
    "test_dataset = dataset[\"test\"]"
   ]
  },
  {
   "cell_type": "code",
   "execution_count": 3,
   "metadata": {
    "execution": {
     "iopub.execute_input": "2025-09-11T17:26:05.139815Z",
     "iopub.status.busy": "2025-09-11T17:26:05.139574Z",
     "iopub.status.idle": "2025-09-11T17:26:05.143497Z",
     "shell.execute_reply": "2025-09-11T17:26:05.143007Z",
     "shell.execute_reply.started": "2025-09-11T17:26:05.139800Z"
    },
    "id": "8ntKK8fS64X1",
    "outputId": "1d9ab4bf-e33b-4af4-ce2f-86f49cd40650"
   },
   "outputs": [
    {
     "name": "stdout",
     "output_type": "stream",
     "text": [
      "Train: 3,257\n",
      "Val: 374\n",
      "Test: 1,421\n",
      "Total emotion classes: 4\n",
      "Emotion labels: ['anger', 'joy', 'optimism', 'sadness']\n"
     ]
    }
   ],
   "source": [
    "emotion_labels = {\n",
    "    0: \"anger\",\n",
    "    1: \"joy\",\n",
    "    2: \"optimism\",\n",
    "    3: \"sadness\"\n",
    "}\n",
    "id_to_label = {i: label for i, label in emotion_labels.items()}\n",
    "label_to_id = {label: i for i, label in emotion_labels.items()}\n",
    "\n",
    "print(f\"Train: {len(train_dataset):,}\")\n",
    "print(f\"Val: {len(val_dataset):,}\")\n",
    "print(f\"Test: {len(test_dataset):,}\")\n",
    "print(f\"Total emotion classes: {len(emotion_labels)}\")\n",
    "print(f\"Emotion labels: {list(emotion_labels.values())}\")\n"
   ]
  },
  {
   "cell_type": "code",
   "execution_count": 4,
   "metadata": {
    "execution": {
     "iopub.execute_input": "2025-09-11T17:26:05.144136Z",
     "iopub.status.busy": "2025-09-11T17:26:05.143963Z",
     "iopub.status.idle": "2025-09-11T17:26:07.053067Z",
     "shell.execute_reply": "2025-09-11T17:26:07.052590Z",
     "shell.execute_reply.started": "2025-09-11T17:26:05.144122Z"
    },
    "id": "IqAufvRi69Ht",
    "outputId": "b9468b24-0530-4351-b669-24a57e6665db",
    "scrolled": true
   },
   "outputs": [
    {
     "name": "stdout",
     "output_type": "stream",
     "text": [
      "Using device: cuda\n",
      "Model: microsoft/deberta-v3-base\n",
      "Configuration saved to: ./models/tweeteval\n"
     ]
    }
   ],
   "source": [
    "import torch\n",
    "import os\n",
    "from datetime import datetime\n",
    "\n",
    "class Config:\n",
    "    def __init__(self):\n",
    "        self.base_model = \"microsoft/deberta-v3-base\"\n",
    "        self.num_emotions = 4\n",
    "        self.max_length = 256\n",
    "        self.hidden_dropout = 0.3\n",
    "        self.attention_dropout = 0.15\n",
    "        self.batch_size = 16\n",
    "        self.learning_rate = 2e-5\n",
    "        self.num_epochs = 5\n",
    "        self.warmup_ratio = 0.1\n",
    "        self.weight_decay = 0.01\n",
    "        self.gradient_clip = 1.0\n",
    "        self.model_save_path = \"./models/tweeteval\"\n",
    "        self.results_path = \"./results/tweeteval\"\n",
    "        self.device = torch.device(\"cuda\" if torch.cuda.is_available() else \"cpu\")\n",
    "        self.num_workers = 2 if torch.cuda.is_available() else 0\n",
    "\n",
    "        os.makedirs(self.model_save_path, exist_ok=True)\n",
    "        os.makedirs(self.results_path, exist_ok=True)\n",
    "\n",
    "config = Config()\n",
    "print(f\"Using device: {config.device}\")\n",
    "print(f\"Model: {config.base_model}\")\n",
    "print(f\"Configuration saved to: {config.model_save_path}\")\n"
   ]
  },
  {
   "cell_type": "code",
   "execution_count": 5,
   "metadata": {
    "execution": {
     "iopub.execute_input": "2025-09-11T17:26:07.053734Z",
     "iopub.status.busy": "2025-09-11T17:26:07.053565Z",
     "iopub.status.idle": "2025-09-11T17:26:07.058212Z",
     "shell.execute_reply": "2025-09-11T17:26:07.057650Z",
     "shell.execute_reply.started": "2025-09-11T17:26:07.053718Z"
    },
    "id": "_TEomQBU7AL0"
   },
   "outputs": [],
   "source": [
    "import torch\n",
    "from torch.utils.data import Dataset\n",
    "from typing import List\n",
    "import re\n",
    "\n",
    "class TweetEvalDataset(Dataset):\n",
    "    def __init__(self, texts: List[str], labels: List[int], tokenizer, max_length: int = 256):\n",
    "        self.texts = texts\n",
    "        self.labels = labels\n",
    "        self.tokenizer = tokenizer\n",
    "        self.max_length = max_length\n",
    "\n",
    "    def __len__(self):\n",
    "        return len(self.texts)\n",
    "\n",
    "    def __getitem__(self, idx):\n",
    "        text = str(self.texts[idx]).strip()\n",
    "\n",
    "        text = self._preprocess_text(text)\n",
    "\n",
    "        encoding = self.tokenizer(\n",
    "            text,\n",
    "            truncation=True,\n",
    "            padding='max_length',\n",
    "            max_length=self.max_length,\n",
    "            return_tensors='pt'\n",
    "        )\n",
    "\n",
    "        return {\n",
    "            'input_ids': encoding['input_ids'].flatten(),\n",
    "            'attention_mask': encoding['attention_mask'].flatten(),\n",
    "            'labels': torch.tensor(self.labels[idx], dtype=torch.long)\n",
    "        }\n",
    "\n",
    "    def _preprocess_text(self, text: str) -> str:\n",
    "        text = re.sub(r'http\\S+|www\\S+|https\\S+', '[URL]', text, flags=re.MULTILINE)\n",
    "        text = re.sub(r'\\s+', ' ', text)\n",
    "        return text.strip()"
   ]
  },
  {
   "cell_type": "code",
   "execution_count": 6,
   "metadata": {
    "execution": {
     "iopub.execute_input": "2025-09-11T17:26:07.059005Z",
     "iopub.status.busy": "2025-09-11T17:26:07.058837Z",
     "iopub.status.idle": "2025-09-11T17:26:09.797833Z",
     "shell.execute_reply": "2025-09-11T17:26:09.797332Z",
     "shell.execute_reply.started": "2025-09-11T17:26:07.058991Z"
    },
    "id": "2bYH4VKW7IR8"
   },
   "outputs": [],
   "source": [
    "import torch.nn as nn\n",
    "from transformers import AutoModel\n",
    "\n",
    "class GoEmotionsModel(nn.Module):\n",
    "    def __init__(self, config):\n",
    "        super(GoEmotionsModel, self).__init__()\n",
    "        self.config = config\n",
    "\n",
    "        self.backbone = AutoModel.from_pretrained(config.base_model)\n",
    "        hidden_size = self.backbone.config.hidden_size\n",
    "\n",
    "        self.attention_pooling = nn.MultiheadAttention(\n",
    "            embed_dim=hidden_size,\n",
    "            num_heads=12,\n",
    "            dropout=config.attention_dropout,\n",
    "            batch_first=True\n",
    "        )\n",
    "\n",
    "        self.classifier = nn.Sequential(\n",
    "            nn.Linear(hidden_size * 2, hidden_size),\n",
    "            nn.LayerNorm(hidden_size),\n",
    "            nn.GELU(),\n",
    "            nn.Dropout(config.hidden_dropout),\n",
    "            nn.Linear(hidden_size, hidden_size // 2),\n",
    "            nn.LayerNorm(hidden_size // 2),\n",
    "            nn.GELU(),\n",
    "            nn.Dropout(config.hidden_dropout),\n",
    "            nn.Linear(hidden_size // 2, config.num_emotions)\n",
    "        )\n",
    "\n",
    "        self._init_weights()\n",
    "\n",
    "    def _init_weights(self):\n",
    "        for module in self.classifier:\n",
    "            if isinstance(module, nn.Linear):\n",
    "                nn.init.xavier_normal_(module.weight)\n",
    "                nn.init.constant_(module.bias, 0)\n",
    "\n",
    "    def forward(self, input_ids, attention_mask):\n",
    "        outputs = self.backbone(input_ids=input_ids, attention_mask=attention_mask)\n",
    "        hidden_states = outputs.last_hidden_state\n",
    "\n",
    "        cls_output = hidden_states[:, 0, :]\n",
    "\n",
    "        attended_output, _ = self.attention_pooling(hidden_states, hidden_states, hidden_states)\n",
    "        mean_attended = attended_output.mean(dim=1)\n",
    "\n",
    "        combined = torch.cat([cls_output, mean_attended], dim=1)\n",
    "\n",
    "        logits = self.classifier(combined)\n",
    "        return logits"
   ]
  },
  {
   "cell_type": "code",
   "execution_count": 9,
   "metadata": {
    "execution": {
     "iopub.execute_input": "2025-09-11T17:27:14.552381Z",
     "iopub.status.busy": "2025-09-11T17:27:14.552133Z",
     "iopub.status.idle": "2025-09-11T17:27:14.578235Z",
     "shell.execute_reply": "2025-09-11T17:27:14.577714Z",
     "shell.execute_reply.started": "2025-09-11T17:27:14.552357Z"
    },
    "id": "JVaUu7Ou7-pN"
   },
   "outputs": [],
   "source": [
    "import logging\n",
    "from typing import Dict, Tuple, List\n",
    "import torch\n",
    "import torch.nn as nn\n",
    "from torch.utils.data import DataLoader, Dataset\n",
    "from transformers import AutoTokenizer, get_linear_schedule_with_warmup\n",
    "from torch.optim import AdamW\n",
    "from tqdm import tqdm\n",
    "import json\n",
    "import os\n",
    "import numpy as np\n",
    "from sklearn.metrics import accuracy_score, precision_recall_fscore_support, classification_report, confusion_matrix\n",
    "\n",
    "logging.basicConfig(level=logging.INFO, format='%(asctime)s - %(message)s')\n",
    "logger = logging.getLogger(__name__)\n",
    "\n",
    "class TweetEvalTrainer:\n",
    "    def __init__(self, config):\n",
    "        self.config = config\n",
    "        self.logger = logging.getLogger(__name__)\n",
    "        self.tokenizer = None\n",
    "        self.model = None\n",
    "        self.optimizer = None\n",
    "        self.scheduler = None\n",
    "        self.criterion = None\n",
    "        self.history = {\n",
    "            'train_loss': [],\n",
    "            'train_accuracy': [],\n",
    "            'train_f1': [],\n",
    "            'val_loss': [],\n",
    "            'val_accuracy': [],\n",
    "            'val_f1_macro': [],\n",
    "            'val_f1_weighted': []\n",
    "        }\n",
    "\n",
    "    def load_data(self, train_dataset, val_dataset, test_dataset) -> Tuple[Dataset, Dataset, Dataset]:\n",
    "        self.tokenizer = AutoTokenizer.from_pretrained(self.config.base_model)\n",
    "\n",
    "        train_texts = [example['text'] for example in train_dataset]\n",
    "        train_labels = [example['label'] for example in train_dataset]\n",
    "\n",
    "        val_texts = [example['text'] for example in val_dataset]\n",
    "        val_labels = [example['label'] for example in val_dataset]\n",
    "\n",
    "        test_texts = [example['text'] for example in test_dataset]\n",
    "        test_labels = [example['label'] for example in test_dataset]\n",
    "\n",
    "        train_ds = TweetEvalDataset(train_texts, train_labels, self.tokenizer, self.config.max_length)\n",
    "        val_ds = TweetEvalDataset(val_texts, val_labels, self.tokenizer, self.config.max_length)\n",
    "        test_ds = TweetEvalDataset(test_texts, test_labels, self.tokenizer, self.config.max_length)\n",
    "\n",
    "        return train_ds, val_ds, test_ds\n",
    "\n",
    "    def setup_model(self):\n",
    "        self.model = GoEmotionsModel(self.config).to(self.config.device)\n",
    "        self.optimizer = AdamW(\n",
    "            self.model.parameters(),\n",
    "            lr=self.config.learning_rate,\n",
    "            weight_decay=self.config.weight_decay,\n",
    "            eps=1e-8\n",
    "        )\n",
    "        self.criterion = nn.CrossEntropyLoss()\n",
    "\n",
    "        total_params = sum(p.numel() for p in self.model.parameters())\n",
    "        trainable_params = sum(p.numel() for p in self.model.parameters() if p.requires_grad)\n",
    "        print(f\"Model parameters: {total_params:,}\")\n",
    "        print(f\"Trainable parameters: {trainable_params:,}\")\n",
    "\n",
    "    def create_scheduler(self, train_dataloader):\n",
    "        total_steps = len(train_dataloader) * self.config.num_epochs\n",
    "        warmup_steps = int(total_steps * self.config.warmup_ratio)\n",
    "        self.scheduler = get_linear_schedule_with_warmup(\n",
    "            self.optimizer,\n",
    "            num_warmup_steps=warmup_steps,\n",
    "            num_training_steps=total_steps\n",
    "        )\n",
    "        print(f\"Total training steps: {total_steps}\")\n",
    "        print(f\"Warmup steps: {warmup_steps}\")\n",
    "\n",
    "    def train_epoch(self, train_dataloader) -> Tuple[float, float, float]:\n",
    "        self.model.train()\n",
    "        total_loss = 0\n",
    "        all_predictions = []\n",
    "        all_labels = []\n",
    "\n",
    "        for batch in tqdm(train_dataloader, desc=\"Training\", leave=False):\n",
    "            input_ids = batch['input_ids'].to(self.config.device)\n",
    "            attention_mask = batch['attention_mask'].to(self.config.device)\n",
    "            labels = batch['labels'].to(self.config.device)\n",
    "\n",
    "            self.optimizer.zero_grad()\n",
    "            logits = self.model(input_ids, attention_mask)\n",
    "            loss = self.criterion(logits, labels)\n",
    "\n",
    "            loss.backward()\n",
    "            torch.nn.utils.clip_grad_norm_(self.model.parameters(), self.config.gradient_clip)\n",
    "            self.optimizer.step()\n",
    "            self.scheduler.step()\n",
    "\n",
    "            total_loss += loss.item()\n",
    "\n",
    "            predictions = torch.argmax(logits, dim=-1)\n",
    "            all_predictions.extend(predictions.cpu().numpy())\n",
    "            all_labels.extend(labels.cpu().numpy())\n",
    "\n",
    "        avg_loss = total_loss / len(train_dataloader)\n",
    "        accuracy = accuracy_score(all_labels, all_predictions)\n",
    "        f1_score = precision_recall_fscore_support(all_labels, all_predictions, average='weighted')[2]\n",
    "\n",
    "        return avg_loss, accuracy, f1_score\n",
    "\n",
    "    def evaluate(self, val_dataloader) -> Dict[str, float]:\n",
    "        self.model.eval()\n",
    "        total_loss = 0\n",
    "        all_predictions = []\n",
    "        all_labels = []\n",
    "\n",
    "        with torch.no_grad():\n",
    "            for batch in tqdm(val_dataloader, desc=\"Evaluating\", leave=False):\n",
    "                input_ids = batch['input_ids'].to(self.config.device)\n",
    "                attention_mask = batch['attention_mask'].to(self.config.device)\n",
    "                labels = batch['labels'].to(self.config.device)\n",
    "\n",
    "                logits = self.model(input_ids, attention_mask)\n",
    "                loss = self.criterion(logits, labels)\n",
    "                total_loss += loss.item()\n",
    "\n",
    "                predictions = torch.argmax(logits, dim=-1)\n",
    "                all_predictions.extend(predictions.cpu().numpy())\n",
    "                all_labels.extend(labels.cpu().numpy())\n",
    "\n",
    "        avg_loss = total_loss / len(val_dataloader)\n",
    "        accuracy = accuracy_score(all_labels, all_predictions)\n",
    "\n",
    "        precision_macro, recall_macro, f1_macro, _ = precision_recall_fscore_support(\n",
    "            all_labels, all_predictions, average='macro', zero_division=0\n",
    "        )\n",
    "        precision_weighted, recall_weighted, f1_weighted, _ = precision_recall_fscore_support(\n",
    "            all_labels, all_predictions, average='weighted', zero_division=0\n",
    "        )\n",
    "\n",
    "        precision_per_class, recall_per_class, f1_per_class, support_per_class = precision_recall_fscore_support(\n",
    "            all_labels, all_predictions, average=None, zero_division=0\n",
    "        )\n",
    "\n",
    "        return {\n",
    "            'loss': avg_loss,\n",
    "            'accuracy': accuracy,\n",
    "            'precision_macro': precision_macro,\n",
    "            'recall_macro': recall_macro,\n",
    "            'f1_macro': f1_macro,\n",
    "            'precision_weighted': precision_weighted,\n",
    "            'recall_weighted': recall_weighted,\n",
    "            'f1_weighted': f1_weighted,\n",
    "            'predictions': all_predictions,\n",
    "            'labels': all_labels,\n",
    "            'precision_per_class': precision_per_class.tolist(),\n",
    "            'recall_per_class': recall_per_class.tolist(),\n",
    "            'f1_per_class': f1_per_class.tolist(),\n",
    "            'support_per_class': support_per_class.tolist()\n",
    "        }\n",
    "\n",
    "    def train(self, train_ds: Dataset, val_ds: Dataset):\n",
    "        train_dataloader = DataLoader(\n",
    "            train_ds,\n",
    "            batch_size=self.config.batch_size,\n",
    "            shuffle=True,\n",
    "            num_workers=self.config.num_workers,\n",
    "            pin_memory=True\n",
    "        )\n",
    "\n",
    "        val_dataloader = DataLoader(\n",
    "            val_ds,\n",
    "            batch_size=self.config.batch_size,\n",
    "            shuffle=False,\n",
    "            num_workers=self.config.num_workers,\n",
    "            pin_memory=True\n",
    "        )\n",
    "\n",
    "        self.setup_model()\n",
    "        self.create_scheduler(train_dataloader)\n",
    "\n",
    "        best_f1 = 0.0\n",
    "        patience = 3\n",
    "        no_improve = 0\n",
    "\n",
    "        print(f\"\\nStarting Training\")\n",
    "        print(f\"Training batches: {len(train_dataloader)}\")\n",
    "        print(f\"Validation batches: {len(val_dataloader)}\")\n",
    "\n",
    "        for epoch in range(self.config.num_epochs):\n",
    "            print(f\"\\nEpoch {epoch+1}/{self.config.num_epochs}\")\n",
    "\n",
    "            train_loss, train_acc, train_f1 = self.train_epoch(train_dataloader)\n",
    "            val_metrics = self.evaluate(val_dataloader)\n",
    "\n",
    "            self.history['train_loss'].append(train_loss)\n",
    "            self.history['train_accuracy'].append(train_acc)\n",
    "            self.history['train_f1'].append(train_f1)\n",
    "            self.history['val_loss'].append(val_metrics['loss'])\n",
    "            self.history['val_accuracy'].append(val_metrics['accuracy'])\n",
    "            self.history['val_f1_macro'].append(val_metrics['f1_macro'])\n",
    "            self.history['val_f1_weighted'].append(val_metrics['f1_weighted'])\n",
    "\n",
    "            print(f\"Train Loss      : {train_loss:.4f}\")\n",
    "            print(f\"Train Accuracy  : {train_acc*100:.2f}%\")\n",
    "            print(f\"Train F1        : {train_f1:.4f}\")\n",
    "            print(f\"Val Loss        : {val_metrics['loss']:.4f}\")\n",
    "            print(f\"Val Accuracy    : {val_metrics['accuracy']*100:.2f}%\")\n",
    "            print(f\"Val F1 Macro    : {val_metrics['f1_macro']:.4f}\")\n",
    "            print(f\"Val F1 Weighted : {val_metrics['f1_weighted']:.4f}\")\n",
    "\n",
    "            if val_metrics['f1_weighted'] > best_f1:\n",
    "                best_f1 = val_metrics['f1_weighted']\n",
    "                no_improve = 0\n",
    "                self.save_model('best_model.pt', val_metrics)\n",
    "                print(\"Best model saved\")\n",
    "            else:\n",
    "                no_improve += 1\n",
    "                if no_improve >= patience:\n",
    "                    print(\"Early stopping triggered\")\n",
    "                    break\n",
    "\n",
    "        final_val_metrics = self.evaluate(val_dataloader)\n",
    "        self.save_model('final_model.pt', final_val_metrics)\n",
    "        print(f\"Training completed. Best validation F1: {best_f1:.4f}\")\n",
    "\n",
    "    def save_model(self, filename: str, metrics: Dict = None):\n",
    "        filepath = os.path.join(self.config.model_save_path, filename)\n",
    "        \n",
    "        torch.save(self.model.state_dict(), filepath)\n",
    "        \n",
    "        try:\n",
    "            self.tokenizer.save_pretrained(self.config.model_save_path)\n",
    "        except Exception as e:\n",
    "            print(f\"Tokenizer save failed: {e}\")\n",
    "        \n",
    "        print(f\"Model weights saved to: {filepath}\")\n",
    "        \n",
    "        if metrics:\n",
    "            metrics_path = filepath.replace('.pt', '_metrics.json')\n",
    "            with open(metrics_path, 'w') as f:\n",
    "                clean_metrics = {k: v for k, v in metrics.items() \n",
    "                               if k not in ['predictions', 'labels', 'precision_per_class', \n",
    "                                          'recall_per_class', 'f1_per_class', 'support_per_class']}\n",
    "                json.dump(clean_metrics, f, indent=2, default=str)\n",
    "            print(f\"Metrics saved to: {metrics_path}\")\n",
    "\n",
    "\n",
    "\n",
    "    def load_model(self, path, strict_loading=True, exclude_classifier=False):\n",
    "        if os.path.isabs(path) or os.path.exists(path):\n",
    "            filepath = path\n",
    "        else:\n",
    "            filepath = os.path.join(self.config.model_save_path, path)\n",
    "    \n",
    "        if not os.path.exists(filepath):\n",
    "            print(f\"[!] No checkpoint found at {filepath}\")\n",
    "            return False\n",
    "    \n",
    "        checkpoint = torch.load(filepath, map_location=self.config.device)\n",
    "        model_state_dict = checkpoint.get(\"model_state_dict\", checkpoint)\n",
    "    \n",
    "        if exclude_classifier:\n",
    "            filtered_state_dict = {}\n",
    "            classifier_keys = []\n",
    "            for key, value in model_state_dict.items():\n",
    "                if 'classifier' in key:\n",
    "                    classifier_keys.append(key)\n",
    "                else:\n",
    "                    filtered_state_dict[key] = value\n",
    "            \n",
    "            model_state_dict = filtered_state_dict\n",
    "            if classifier_keys:\n",
    "                print(f\"Excluded classifier keys: {len(classifier_keys)} parameters\")\n",
    "                print(f\"Classifier keys excluded: {classifier_keys[:3]}...\")\n",
    "    \n",
    "        load_result = self.model.load_state_dict(model_state_dict, strict=strict_loading)\n",
    "        if isinstance(load_result, tuple):\n",
    "            missing_keys, unexpected_keys = load_result\n",
    "        else:\n",
    "            missing_keys, unexpected_keys = load_result.missing_keys, load_result.unexpected_keys\n",
    "    \n",
    "        print(f\"Model loaded from: {filepath}\")\n",
    "        if missing_keys:\n",
    "            print(f\"Missing keys: {len(missing_keys)} (expected for different classifier)\")\n",
    "        if unexpected_keys:\n",
    "            print(f\"Unexpected keys: {unexpected_keys}\")\n",
    "    \n",
    "        return True\n",
    "\n",
    "    def load_pretrained_weights(self, model_path: str, strict: bool = False, exclude_classifier: bool = True):\n",
    "        print(f\"Attempting to load pretrained weights from: {model_path}\")\n",
    "    \n",
    "        if not os.path.exists(model_path):\n",
    "            print(f\"Pretrained model file not found at: {model_path}\")\n",
    "            return False\n",
    "    \n",
    "        if self.model is None:\n",
    "            print(\"Model not initialized. Call setup_model() first.\")\n",
    "            return False\n",
    "    \n",
    "        success = self.load_model(model_path, strict_loading=strict, exclude_classifier=exclude_classifier)\n",
    "    \n",
    "        if success:\n",
    "            print(\"Pretrained backbone weights loaded successfully for fine-tuning\")\n",
    "            print(\"Classifier layer will be trained from scratch\")\n",
    "        else:\n",
    "            print(\"Failed to load pretrained weights, continuing with base model\")\n",
    "    \n",
    "        return success\n",
    "\n",
    "\n",
    "    def _verify_weight_loading(self, old_state_dict, new_state_dict):\n",
    "        changed_params = 0\n",
    "        total_params = 0\n",
    "        param_differences = []\n",
    "\n",
    "        for key in new_state_dict.keys():\n",
    "            if key in old_state_dict:\n",
    "                old_param = old_state_dict[key]\n",
    "                new_param = new_state_dict[key]\n",
    "\n",
    "                if not torch.equal(old_param, new_param):\n",
    "                    changed_params += 1\n",
    "                    diff_norm = torch.norm(new_param - old_param).item()\n",
    "                    param_differences.append((key, diff_norm))\n",
    "\n",
    "                total_params += 1\n",
    "\n",
    "        print(f\"Parameters changed: {changed_params}/{total_params}\")\n",
    "\n",
    "        if param_differences:\n",
    "            param_differences.sort(key=lambda x: x[1], reverse=True)\n",
    "            print(\"Top parameter changes:\")\n",
    "            for i, (param_name, diff) in enumerate(param_differences[:5]):\n",
    "                print(f\"  {param_name}: {diff:.6f}\")\n",
    "\n",
    "        return changed_params > 0 and changed_params <= total_params\n",
    "\n",
    "    def load_pretrained_weights(self, model_path: str, strict: bool = False, exclude_classifier: bool = True):\n",
    "        print(f\"Attempting to load pretrained weights from: {model_path}\")\n",
    "    \n",
    "        if not os.path.exists(model_path):\n",
    "            print(f\"Pretrained model file not found at: {model_path}\")\n",
    "            return False\n",
    "    \n",
    "        if self.model is None:\n",
    "            print(\"Model not initialized. Call setup_model() first.\")\n",
    "            return False\n",
    "    \n",
    "        success = self.load_model(model_path, strict_loading=strict, exclude_classifier=exclude_classifier)\n",
    "    \n",
    "        if success:\n",
    "            print(\"Pretrained backbone weights loaded successfully for fine-tuning\")\n",
    "            if exclude_classifier:\n",
    "                print(\"Classifier layer will be trained from scratch\")\n",
    "        else:\n",
    "            print(\"Failed to load pretrained weights, continuing with base model\")\n",
    "    \n",
    "        return success\n",
    "\n",
    "    def test(self, test_ds: Dataset, emotion_labels: Dict) -> Dict[str, float]:\n",
    "        test_dataloader = DataLoader(\n",
    "            test_ds,\n",
    "            batch_size=self.config.batch_size,\n",
    "            shuffle=False,\n",
    "            num_workers=self.config.num_workers\n",
    "        )\n",
    "\n",
    "        print(\"Running test evaluation\")\n",
    "        test_metrics = self.evaluate(test_dataloader)\n",
    "\n",
    "        emotion_names = [emotion_labels[i] for i in range(len(emotion_labels))]\n",
    "        class_report = classification_report(\n",
    "            test_metrics['labels'],\n",
    "            test_metrics['predictions'],\n",
    "            target_names=emotion_names,\n",
    "            output_dict=True\n",
    "        )\n",
    "\n",
    "        conf_matrix = confusion_matrix(\n",
    "            test_metrics['labels'],\n",
    "            test_metrics['predictions']\n",
    "        )\n",
    "\n",
    "        test_metrics['classification_report'] = class_report\n",
    "        test_metrics['confusion_matrix'] = conf_matrix.tolist()\n",
    "\n",
    "        return test_metrics\n",
    "\n",
    "    def predict(self, texts: List[str], emotion_labels: Dict) -> List[Dict[str, float]]:\n",
    "        self.model.eval()\n",
    "        results = []\n",
    "\n",
    "        with torch.no_grad():\n",
    "            for text in texts:\n",
    "                encoding = self.tokenizer(\n",
    "                    text,\n",
    "                    truncation=True,\n",
    "                    padding='max_length',\n",
    "                    max_length=self.config.max_length,\n",
    "                    return_tensors='pt'\n",
    "                ).to(self.config.device)\n",
    "\n",
    "                logits = self.model(encoding['input_ids'], encoding['attention_mask'])\n",
    "                probabilities = torch.softmax(logits, dim=-1).cpu().numpy()[0]\n",
    "                predicted_class = np.argmax(probabilities)\n",
    "\n",
    "                predictions = {\n",
    "                    'predicted_emotion': emotion_labels[predicted_class],\n",
    "                    'confidence': float(probabilities[predicted_class]),\n",
    "                    'all_probabilities': {emotion_labels[i]: float(prob) for i, prob in enumerate(probabilities)}\n",
    "                }\n",
    "                results.append(predictions)\n",
    "\n",
    "        return results"
   ]
  },
  {
   "cell_type": "code",
   "execution_count": 10,
   "metadata": {
    "execution": {
     "iopub.execute_input": "2025-09-11T17:27:23.439561Z",
     "iopub.status.busy": "2025-09-11T17:27:23.439335Z",
     "iopub.status.idle": "2025-09-11T17:33:04.599681Z",
     "shell.execute_reply": "2025-09-11T17:33:04.598289Z",
     "shell.execute_reply.started": "2025-09-11T17:27:23.439545Z"
    },
    "id": "d3vRbrYu8Msl",
    "outputId": "c528163d-cb8e-47f3-bd48-72a981563785"
   },
   "outputs": [
    {
     "name": "stderr",
     "output_type": "stream",
     "text": [
      "/opt/conda/lib/python3.12/site-packages/transformers/convert_slow_tokenizer.py:564: UserWarning: The sentencepiece tokenizer that you are converting to a fast tokenizer uses the byte fallback option which is not implemented in the fast tokenizers. In practice this means that the fast version of the tokenizer can produce unknown tokens whereas the sentencepiece version would have converted these unknown tokens into a sequence of byte tokens matching the original piece of text.\n",
      "  warnings.warn(\n"
     ]
    },
    {
     "name": "stdout",
     "output_type": "stream",
     "text": [
      "Model parameters: 187,673,476\n",
      "Trainable parameters: 187,673,476\n",
      "Attempting to load pretrained weights from: ./final_model.pt\n",
      "Excluded classifier keys: 10 parameters\n",
      "Classifier keys excluded: ['classifier.0.weight', 'classifier.0.bias', 'classifier.1.weight']...\n",
      "Model loaded from: ./final_model.pt\n",
      "Missing keys: 10 (expected for different classifier)\n",
      "Unexpected keys: ['layer_norm.weight', 'layer_norm.bias']\n",
      "Pretrained backbone weights loaded successfully for fine-tuning\n",
      "Classifier layer will be trained from scratch\n",
      "Starting fine-tuning on TweetEval\n",
      "Model parameters: 187,673,476\n",
      "Trainable parameters: 187,673,476\n",
      "Total training steps: 1020\n",
      "Warmup steps: 102\n",
      "\n",
      "Starting Training\n",
      "Training batches: 204\n",
      "Validation batches: 24\n",
      "\n",
      "Epoch 1/5\n"
     ]
    },
    {
     "name": "stderr",
     "output_type": "stream",
     "text": [
      "                                                           "
     ]
    },
    {
     "name": "stdout",
     "output_type": "stream",
     "text": [
      "Train Loss      : 1.3878\n",
      "Train Accuracy  : 38.56%\n",
      "Train F1        : 0.3550\n",
      "Val Loss        : 0.7708\n",
      "Val Accuracy    : 74.60%\n",
      "Val F1 Macro    : 0.5681\n",
      "Val F1 Weighted : 0.7140\n",
      "Model weights saved to: ./models/tweeteval/best_model.pt\n",
      "Metrics saved to: ./models/tweeteval/best_model_metrics.json\n",
      "Best model saved\n",
      "\n",
      "Epoch 2/5\n"
     ]
    },
    {
     "name": "stderr",
     "output_type": "stream",
     "text": [
      "                                                           "
     ]
    },
    {
     "name": "stdout",
     "output_type": "stream",
     "text": [
      "Train Loss      : 0.7444\n",
      "Train Accuracy  : 74.46%\n",
      "Train F1        : 0.7358\n",
      "Val Loss        : 0.4757\n",
      "Val Accuracy    : 83.16%\n",
      "Val F1 Macro    : 0.7614\n",
      "Val F1 Weighted : 0.8286\n",
      "Model weights saved to: ./models/tweeteval/best_model.pt\n",
      "Metrics saved to: ./models/tweeteval/best_model_metrics.json\n",
      "Best model saved\n",
      "\n",
      "Epoch 3/5\n"
     ]
    },
    {
     "name": "stderr",
     "output_type": "stream",
     "text": [
      "                                                           "
     ]
    },
    {
     "name": "stdout",
     "output_type": "stream",
     "text": [
      "Train Loss      : 0.4520\n",
      "Train Accuracy  : 85.35%\n",
      "Train F1        : 0.8520\n",
      "Val Loss        : 0.5790\n",
      "Val Accuracy    : 83.42%\n",
      "Val F1 Macro    : 0.7725\n",
      "Val F1 Weighted : 0.8309\n",
      "Model weights saved to: ./models/tweeteval/best_model.pt\n",
      "Metrics saved to: ./models/tweeteval/best_model_metrics.json\n",
      "Best model saved\n",
      "\n",
      "Epoch 4/5\n"
     ]
    },
    {
     "name": "stderr",
     "output_type": "stream",
     "text": [
      "                                                           "
     ]
    },
    {
     "name": "stdout",
     "output_type": "stream",
     "text": [
      "Train Loss      : 0.3018\n",
      "Train Accuracy  : 91.37%\n",
      "Train F1        : 0.9136\n",
      "Val Loss        : 0.7906\n",
      "Val Accuracy    : 82.09%\n",
      "Val F1 Macro    : 0.7636\n",
      "Val F1 Weighted : 0.8234\n",
      "\n",
      "Epoch 5/5\n"
     ]
    },
    {
     "name": "stderr",
     "output_type": "stream",
     "text": [
      "                                                           "
     ]
    },
    {
     "name": "stdout",
     "output_type": "stream",
     "text": [
      "Train Loss      : 0.2016\n",
      "Train Accuracy  : 94.07%\n",
      "Train F1        : 0.9406\n",
      "Val Loss        : 0.8715\n",
      "Val Accuracy    : 82.35%\n",
      "Val F1 Macro    : 0.7645\n",
      "Val F1 Weighted : 0.8260\n"
     ]
    },
    {
     "name": "stderr",
     "output_type": "stream",
     "text": [
      "                                                           "
     ]
    },
    {
     "name": "stdout",
     "output_type": "stream",
     "text": [
      "Model weights saved to: ./models/tweeteval/final_model.pt\n",
      "Metrics saved to: ./models/tweeteval/final_model_metrics.json\n",
      "Training completed. Best validation F1: 0.8309\n"
     ]
    }
   ],
   "source": [
    "trainer = TweetEvalTrainer(config)\n",
    "train_ds, val_ds, test_ds = trainer.load_data(train_dataset, val_dataset, test_dataset)\n",
    "trainer.setup_model()\n",
    "\n",
    "pretrained_model_path = \"./final_model.pt\" \n",
    "\n",
    "if os.path.exists(pretrained_model_path):\n",
    "    trainer.load_pretrained_weights(pretrained_model_path, strict=False)\n",
    "else:\n",
    "    print(\"No pretrained model found, starting with base pretrained weights\")\n",
    "\n",
    "print(\"Starting fine-tuning on TweetEval\")\n",
    "trainer.train(train_ds, val_ds)\n"
   ]
  },
  {
   "cell_type": "code",
   "execution_count": 15,
   "metadata": {
    "execution": {
     "iopub.execute_input": "2025-09-11T17:40:25.534663Z",
     "iopub.status.busy": "2025-09-11T17:40:25.534429Z",
     "iopub.status.idle": "2025-09-11T17:40:37.034996Z",
     "shell.execute_reply": "2025-09-11T17:40:37.034332Z",
     "shell.execute_reply.started": "2025-09-11T17:40:25.534647Z"
    }
   },
   "outputs": [
    {
     "name": "stdout",
     "output_type": "stream",
     "text": [
      "Model loaded from: ./models/tweeteval/best_model.pt\n",
      "Best model loaded for final evaluation\n",
      "\n",
      "============================================================\n",
      "COMPREHENSIVE MODEL EVALUATION\n",
      "============================================================\n",
      "\n",
      "--- VALIDATION SET ---\n"
     ]
    },
    {
     "name": "stderr",
     "output_type": "stream",
     "text": [
      "                                                           "
     ]
    },
    {
     "name": "stdout",
     "output_type": "stream",
     "text": [
      "Val Loss        : 0.5790\n",
      "Val Accuracy    : 83.42%\n",
      "Val F1 (Macro)  : 0.7725\n",
      "Val F1 (Weighted): 0.8309\n",
      "\n",
      "--- TEST SET ---\n",
      "Running test evaluation\n"
     ]
    },
    {
     "name": "stderr",
     "output_type": "stream",
     "text": [
      "Evaluating:   0%|          | 0/89 [00:00<?, ?it/s]huggingface/tokenizers: The current process just got forked, after parallelism has already been used. Disabling parallelism to avoid deadlocks...\n",
      "To disable this warning, you can either:\n",
      "\t- Avoid using `tokenizers` before the fork if possible\n",
      "\t- Explicitly set the environment variable TOKENIZERS_PARALLELISM=(true | false)\n",
      "huggingface/tokenizers: The current process just got forked, after parallelism has already been used. Disabling parallelism to avoid deadlocks...\n",
      "To disable this warning, you can either:\n",
      "\t- Avoid using `tokenizers` before the fork if possible\n",
      "\t- Explicitly set the environment variable TOKENIZERS_PARALLELISM=(true | false)\n",
      "                                                           "
     ]
    },
    {
     "name": "stdout",
     "output_type": "stream",
     "text": [
      "FINAL TEST RESULTS\n",
      "Test Loss           : 0.5717\n",
      "Test Accuracy       : 83.81%\n",
      "Test Precision (Macro)  : 0.8311\n",
      "Test Recall (Macro)     : 0.7795\n",
      "Test F1 (Macro)         : 0.7962\n",
      "Test Precision (Weighted): 0.8382\n",
      "Test Recall (Weighted)   : 0.8381\n",
      "Test F1 (Weighted)       : 0.8347\n",
      "\n",
      "Per-Class Results:\n",
      "       anger: Precision=0.8696, Recall=0.8728, F1=0.8712, Support=558\n",
      "         joy: Precision=0.8351, Recall=0.8771, F1=0.8556, Support=358\n",
      "    optimism: Precision=0.8182, Recall=0.5122, F1=0.6300, Support=123\n",
      "     sadness: Precision=0.8015, Recall=0.8560, F1=0.8278, Support=382\n",
      "\n",
      "--- DETAILED CLASSIFICATION REPORT (Test Set) ---\n",
      "              precision    recall  f1-score   support\n",
      "\n",
      "       anger       0.87      0.87      0.87       558\n",
      "         joy       0.84      0.88      0.86       358\n",
      "    optimism       0.82      0.51      0.63       123\n",
      "     sadness       0.80      0.86      0.83       382\n",
      "\n",
      "    accuracy                           0.84      1421\n",
      "   macro avg       0.83      0.78      0.80      1421\n",
      "weighted avg       0.84      0.84      0.83      1421\n",
      "\n"
     ]
    },
    {
     "name": "stderr",
     "output_type": "stream",
     "text": []
    }
   ],
   "source": [
    "try:\n",
    "    best_model_path = os.path.join(config.model_save_path, \"best_model.pt\")\n",
    "    if os.path.exists(best_model_path):\n",
    "        trainer.load_model(\"best_model.pt\", strict_loading=False)\n",
    "        print(\"Best model loaded for final evaluation\")\n",
    "    else:\n",
    "        print(\"Using current model for evaluation\")\n",
    "except Exception as e:\n",
    "    print(f\"Error loading best model: {e}\")\n",
    "    print(\"Using current model for evaluation\")\n",
    "\n",
    "print(\"\\n\" + \"=\"*60)\n",
    "print(\"COMPREHENSIVE MODEL EVALUATION\")\n",
    "print(\"=\"*60)\n",
    "\n",
    "print(\"\\n--- VALIDATION SET ---\")\n",
    "val_results = trainer.evaluate(trainer.val_dataloader if hasattr(trainer, 'val_dataloader') else \n",
    "                               DataLoader(val_ds, batch_size=config.batch_size, shuffle=False))\n",
    "print(f\"Val Loss        : {val_results['loss']:.4f}\")\n",
    "print(f\"Val Accuracy    : {val_results['accuracy']*100:.2f}%\")\n",
    "print(f\"Val F1 (Macro)  : {val_results['f1_macro']:.4f}\")\n",
    "print(f\"Val F1 (Weighted): {val_results['f1_weighted']:.4f}\")\n",
    "\n",
    "print(\"\\n--- TEST SET ---\")\n",
    "test_results = trainer.test(test_ds, emotion_labels)\n",
    "print_test_results(test_results)\n",
    "\n",
    "# Detailed classification report\n",
    "print(\"\\n--- DETAILED CLASSIFICATION REPORT (Test Set) ---\")\n",
    "emotion_names = [emotion_labels[i] for i in range(len(emotion_labels))]\n",
    "print(classification_report(test_results['labels'], test_results['predictions'], target_names=emotion_names))\n"
   ]
  },
  {
   "cell_type": "code",
   "execution_count": 17,
   "metadata": {
    "execution": {
     "iopub.execute_input": "2025-09-11T17:41:39.002831Z",
     "iopub.status.busy": "2025-09-11T17:41:39.002609Z",
     "iopub.status.idle": "2025-09-11T17:41:39.433275Z",
     "shell.execute_reply": "2025-09-11T17:41:39.432760Z",
     "shell.execute_reply.started": "2025-09-11T17:41:39.002815Z"
    }
   },
   "outputs": [
    {
     "name": "stdout",
     "output_type": "stream",
     "text": [
      "Confusion matrix saved to: ./results/tweeteval/confusion_matrix.png\n"
     ]
    },
    {
     "data": {
      "image/png": "[encoded data removed]",
      "text/plain": [
       "<Figure size 800x600 with 2 Axes>"
      ]
     },
     "metadata": {},
     "output_type": "display_data"
    }
   ],
   "source": [
    "import seaborn as sns\n",
    "\n",
    "def plot_confusion_matrix(test_results, emotion_labels, save_path=None):\n",
    "    plt.figure(figsize=(8, 6))\n",
    "    \n",
    "    emotion_names = [emotion_labels[i] for i in range(len(emotion_labels))]\n",
    "    conf_matrix = np.array(test_results['confusion_matrix'])\n",
    "    \n",
    "    sns.heatmap(conf_matrix, \n",
    "                annot=True, \n",
    "                fmt='d',\n",
    "                xticklabels=emotion_names,\n",
    "                yticklabels=emotion_names,\n",
    "                cmap='Blues',\n",
    "                cbar_kws={'label': 'Count'})\n",
    "    \n",
    "    plt.title('Confusion Matrix (Test Set)', fontsize=14, fontweight='bold')\n",
    "    plt.xlabel('Predicted Label')\n",
    "    plt.ylabel('True Label')\n",
    "    plt.xticks(rotation=45)\n",
    "    plt.yticks(rotation=0)\n",
    "    \n",
    "    if save_path:\n",
    "        plt.savefig(save_path, dpi=300, bbox_inches='tight')\n",
    "        print(f\"Confusion matrix saved to: {save_path}\")\n",
    "    \n",
    "    plt.show()\n",
    "\n",
    "# Plot confusion matrix\n",
    "conf_matrix_path = os.path.join(config.results_path, 'confusion_matrix.png')\n",
    "plot_confusion_matrix(test_results, emotion_labels, save_path=conf_matrix_path)\n"
   ]
  },
  {
   "cell_type": "code",
   "execution_count": 22,
   "metadata": {
    "execution": {
     "iopub.execute_input": "2025-09-11T17:45:51.458283Z",
     "iopub.status.busy": "2025-09-11T17:45:51.458008Z",
     "iopub.status.idle": "2025-09-11T17:45:51.461669Z",
     "shell.execute_reply": "2025-09-11T17:45:51.461048Z",
     "shell.execute_reply.started": "2025-09-11T17:45:51.458264Z"
    }
   },
   "outputs": [
    {
     "name": "stdout",
     "output_type": "stream",
     "text": [
      "Training Completed!!\n"
     ]
    }
   ],
   "source": [
    "print(\"Training Completed!!\")"
   ]
  }
 ],
 "metadata": {
  "colab": {
   "provenance": []
  },
  "kernelspec": {
   "display_name": "Python 3 (ipykernel)",
   "language": "python",
   "name": "python3"
  },
  "language_info": {
   "codemirror_mode": {
    "name": "ipython",
    "version": 3
   },
   "file_extension": ".py",
   "mimetype": "text/x-python",
   "name": "python",
   "nbconvert_exporter": "python",
   "pygments_lexer": "ipython3",
   "version": "3.12.9"
  }
 },
 "nbformat": 4,
 "nbformat_minor": 4
}
